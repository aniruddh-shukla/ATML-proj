{
 "cells": [
  {
   "cell_type": "markdown",
   "metadata": {
    "id": "TSyHK_bQO8J7"
   },
   "source": [
    "# Installations"
   ]
  },
  {
   "cell_type": "markdown",
   "metadata": {
    "id": "3o7_P423OVhu"
   },
   "source": [
    "# All Imports"
   ]
  },
  {
   "cell_type": "code",
   "execution_count": 1,
   "metadata": {
    "colab": {
     "base_uri": "https://localhost:8080/"
    },
    "id": "JIYuoyc-ZOPW",
    "outputId": "ce2a616f-7773-442b-a712-01b9f7a1747a"
   },
   "outputs": [],
   "source": [
    "import re\n",
    "import numpy as np \n",
    "import pandas as pd\n",
    "import textstat\n",
    "import string\n",
    "import nltk\n",
    "from copy import deepcopy\n",
    "from textblob import TextBlob\n",
    "import spacy\n",
    "from sklearn.datasets import fetch_20newsgroups\n",
    "from sklearn.model_selection import train_test_split\n",
    "from sklearn.pipeline import Pipeline, FeatureUnion\n",
    "from sklearn.feature_selection import SelectKBest, chi2\n",
    "from sklearn.feature_extraction.text import CountVectorizer, TfidfVectorizer\n",
    "from sklearn.ensemble import RandomForestClassifier\n",
    "from sklearn.metrics import classification_report\n",
    "from sklearn.feature_extraction import DictVectorizer\n",
    "\n",
    "from sklearn.model_selection import train_test_split, StratifiedShuffleSplit, KFold, StratifiedKFold, ShuffleSplit \n",
    "\n",
    "from sklearn.svm import LinearSVC\n",
    "from sklearn import preprocessing\n",
    "from nltk.corpus import stopwords\n",
    "from sklearn import metrics\n",
    "from sklearn.semi_supervised import SelfTrainingClassifier, LabelSpreading\n",
    "from sklearn.linear_model import SGDClassifier\n",
    "\n",
    "#pd.set_option('display.max_rows', None)\n",
    "pd.set_option('display.max_columns', None)\n",
    "pd.set_option('display.width', None)\n",
    "pd.set_option('display.max_colwidth', None)"
   ]
  },
  {
   "cell_type": "markdown",
   "metadata": {
    "id": "c6VpZbNtbU9u"
   },
   "source": [
    "# Fetch Data"
   ]
  },
  {
   "cell_type": "code",
   "execution_count": 2,
   "metadata": {
    "id": "gXxJPkRqZ4jt"
   },
   "outputs": [],
   "source": [
    "news_group = fetch_20newsgroups(subset='all', remove=('headers', 'footers', 'quotes'), shuffle=True)\n",
    "news_group_data_test = news_group.data\n",
    "news_group_target_names_test = news_group.target_names\n",
    "news_group_target_test = news_group.target\n",
    "\n",
    "# Creating a dataframe from the loaded data\n",
    "news_df = pd.DataFrame({'news': news_group_data_test, \n",
    "                        'class': news_group_target_test})"
   ]
  },
  {
   "cell_type": "markdown",
   "metadata": {
    "id": "yb5VqcGucNSC"
   },
   "source": [
    "# Convert to Pandas DF and Random Sampling"
   ]
  },
  {
   "cell_type": "markdown",
   "metadata": {
    "id": "A3btQC87c3Wa"
   },
   "source": [
    "# Cleaning Text\n",
    "\n",
    "*   Cleaning\n",
    "*   Removing stop words\n",
    "\n"
   ]
  },
  {
   "cell_type": "code",
   "execution_count": 3,
   "metadata": {
    "id": "bI10L4oGDe-M"
   },
   "outputs": [
    {
     "name": "stderr",
     "output_type": "stream",
     "text": [
      "C:\\Users\\Vatsal\\anaconda3\\lib\\site-packages\\gensim\\similarities\\__init__.py:15: UserWarning: The gensim.similarities.levenshtein submodule is disabled, because the optional Levenshtein package <https://pypi.org/project/python-Levenshtein/> is unavailable. Install Levenhstein (e.g. `pip install python-Levenshtein`) to suppress this warning.\n",
      "  warnings.warn(msg)\n"
     ]
    }
   ],
   "source": [
    "from sklearn.base import BaseEstimator, TransformerMixin\n",
    "import gensim\n",
    "class CleanTransformer(BaseEstimator, TransformerMixin):\n",
    "    def __init__(self):\n",
    "        pass\n",
    "   \n",
    "    def fit(self,X,y=None):\n",
    "        return self\n",
    "    \n",
    "    \n",
    "    \n",
    "    def transform(self,X,y=None):\n",
    "        # Convert to list\n",
    "        data = X.tolist()\n",
    "\n",
    "        # Remove Emails\n",
    "        data = [re.sub('\\S*@\\S*\\s?', '', sent) for sent in data]\n",
    "\n",
    "        # Remove new line characters\n",
    "        data = [re.sub('\\s+', ' ', sent) for sent in data]\n",
    "\n",
    "        # Remove distracting single quotes\n",
    "        data = [re.sub(\"\\'\", \"\", sent) for sent in data]\n",
    "\n",
    "        def sent_to_words(sentences):\n",
    "            for sentence in sentences:\n",
    "                yield(gensim.utils.simple_preprocess(str(sentence), deacc=True))  # deacc=True removes punctuations\n",
    "        data_words = list(sent_to_words(data))\n",
    "        def lemmatization(texts, allowed_postags=['NOUN', 'ADJ', 'VERB', 'ADV']):\n",
    "            \"\"\"https://spacy.io/api/annotation\"\"\"\n",
    "            texts_out = []\n",
    "            for sent in texts:\n",
    "                doc = nlp(\" \".join(sent)) \n",
    "                texts_out.append([token.lemma_ for token in doc if token.pos_ in allowed_postags])\n",
    "            return texts_out\n",
    "\n",
    "        # Initialize spacy 'en' model, keeping only tagger component (for efficiency)\n",
    "        nlp = spacy.load('en_core_web_sm', disable=['parser', 'ner'])\n",
    "\n",
    "        # Do lemmatization keeping only Noun, Adj, Verb, Adverb\n",
    "        data_lemmatized = lemmatization(data_words, allowed_postags=['NOUN', 'ADJ', 'VERB', 'ADV'])\n",
    "        l=[]\n",
    "        def detokenize(text):\n",
    "            return \"\".join([\" \"+i if not i.startswith(\"'\") and i not in string.punctuation else i for i in text]).strip()\n",
    "        for row in data_lemmatized:\n",
    "            l.append(detokenize(row))\n",
    "        #print(data_lemmatized[:1])\n",
    "        return l"
   ]
  },
  {
   "cell_type": "markdown",
   "metadata": {
    "id": "Y0mlz46-Cqql"
   },
   "source": [
    "# BOW Vectorizer"
   ]
  },
  {
   "cell_type": "markdown",
   "metadata": {
    "id": "m0sKlFk8QFlV"
   },
   "source": [
    "# POS Tagging"
   ]
  },
  {
   "cell_type": "code",
   "execution_count": 4,
   "metadata": {
    "id": "g-rv3AqYR0xp"
   },
   "outputs": [],
   "source": [
    "class POSVectorizer():\n",
    "    def __init__(self):\n",
    "        pass\n",
    "\n",
    "    def creatingPOSTags(self, x):\n",
    "             \n",
    "        pos_family = {'NOUN' : ['NN','NNS','NNP','NNPS'],\n",
    "                    'PRON' : ['PRP','PRP$','WP','WP$'], \n",
    "                    'VERB' : ['VB','VBD','VBG','VBN','VBP','VBZ'],\n",
    "                    'ADJ'  : ['JJ','JJR','JJS'],\n",
    "                    'ADV'  : ['RB','RBR','RBS','WRB']\n",
    "                    }\n",
    "            \n",
    "        count_pos = {'NOUN':0,'PRON':0,'VERB':0,'ADJ':0,'ADV':0}\n",
    "        \n",
    "        blob  = TextBlob(x) #converts sentences to tokens\n",
    "        for tuple in blob.tags: #blob tags contains term and its pos\n",
    "            #print(tuple)\n",
    "            pos = list(tuple)[1]\n",
    "            if pos in pos_family['NOUN']:\n",
    "                count_pos['NOUN'] = count_pos.get('NOUN')+1\n",
    "            elif pos in pos_family['PRON']:\n",
    "                count_pos['PRON'] = count_pos.get('PRON')+1\n",
    "            elif pos in pos_family['VERB']:\n",
    "                count_pos['VERB'] = count_pos.get('VERB')+1\n",
    "            elif pos in pos_family['ADJ']:\n",
    "                count_pos['ADJ'] = count_pos.get('ADJ')+1\n",
    "            elif pos in pos_family['ADV']:\n",
    "                count_pos['ADV'] = count_pos.get('ADV')+1\n",
    "        return count_pos \n",
    "    \n",
    "    def fit(self, x, y=None):\n",
    "        return self\n",
    "    def transform(self, data):\n",
    "        posVector = POSVectorizer()\n",
    "        pos_vect = []\n",
    "        for d in data:\n",
    "            pos_vect.append(posVector.creatingPOSTags(d))\n",
    "        return pos_vect"
   ]
  },
  {
   "cell_type": "markdown",
   "metadata": {
    "id": "MwHFHrhoCwkV"
   },
   "source": [
    "# Convert toArray()"
   ]
  },
  {
   "cell_type": "code",
   "execution_count": 5,
   "metadata": {
    "id": "DN4pqe_mEnmh"
   },
   "outputs": [],
   "source": [
    "class ToArray(BaseEstimator, TransformerMixin):\n",
    "\n",
    "    def transform(self, X):\n",
    "        return X.toarray()\n",
    "\n",
    "    def fit(self, X, y=None, **fit_params):        \n",
    "        return self"
   ]
  },
  {
   "cell_type": "markdown",
   "metadata": {
    "id": "rKc70oP3C2PG"
   },
   "source": [
    "# Creating Pipelines"
   ]
  },
  {
   "cell_type": "code",
   "execution_count": 6,
   "metadata": {
    "id": "L32vijlFEwMh"
   },
   "outputs": [],
   "source": [
    "bow_transformer = Pipeline(\n",
    "    steps=[\n",
    "        (\"cleaner\", CleanTransformer()),\n",
    "        (\"tfidf\", TfidfVectorizer()),\n",
    "        (\"toarray\", ToArray()), #converting toarray since minmax can't handle sparce matrix\n",
    "        (\"scale\", preprocessing.MinMaxScaler())\n",
    "    ]\n",
    ")\n",
    "\n",
    "\n",
    "pos_transformer = Pipeline(\n",
    "    steps=[\n",
    "        (\"cleaner\", CleanTransformer()),\n",
    "        (\"pos\", POSVectorizer()),\n",
    "        (\"dict_vect\", DictVectorizer()),\n",
    "        (\"toarray\", ToArray()), #converting toarray since minmax can't handle sparce matrix\n",
    "        (\"scale\", preprocessing.MinMaxScaler())\n",
    "    ]\n",
    ")\n",
    "\n",
    "combined_features = FeatureUnion(\n",
    "    transformer_list=[\n",
    "        (\"bow\", bow_transformer),\n",
    "        (\"pos\", pos_transformer),\n",
    "    ]\n",
    ")\n",
    "\n"
   ]
  },
  {
   "cell_type": "code",
   "execution_count": 7,
   "metadata": {},
   "outputs": [],
   "source": [
    "X=bow_transformer.fit_transform(news_df['news'])"
   ]
  },
  {
   "cell_type": "code",
   "execution_count": 9,
   "metadata": {},
   "outputs": [
    {
     "name": "stdout",
     "output_type": "stream",
     "text": [
      "(18846, 72910)\n"
     ]
    }
   ],
   "source": [
    "print(X.shape)"
   ]
  },
  {
   "cell_type": "code",
   "execution_count": 10,
   "metadata": {},
   "outputs": [],
   "source": [
    "X_new=SelectKBest(chi2, k=5000).fit_transform(X,news_df['class'])"
   ]
  },
  {
   "cell_type": "code",
   "execution_count": 11,
   "metadata": {},
   "outputs": [],
   "source": [
    "Y=pos_transformer.fit_transform(news_df['news'])"
   ]
  },
  {
   "cell_type": "code",
   "execution_count": 13,
   "metadata": {},
   "outputs": [
    {
     "name": "stdout",
     "output_type": "stream",
     "text": [
      "(18846, 5)\n"
     ]
    }
   ],
   "source": [
    "print(Y.shape)"
   ]
  },
  {
   "cell_type": "code",
   "execution_count": 15,
   "metadata": {},
   "outputs": [],
   "source": [
    "features=np.concatenate((X_new,Y),axis=1)"
   ]
  },
  {
   "cell_type": "markdown",
   "metadata": {
    "id": "vKIDhioaCaw3"
   },
   "source": [
    "# RandomForest"
   ]
  },
  {
   "cell_type": "markdown",
   "metadata": {
    "id": "9t0BxFtD83u6"
   },
   "source": [
    "# EM"
   ]
  },
  {
   "cell_type": "code",
   "execution_count": 27,
   "metadata": {
    "id": "MiwyS7ZIhKcD"
   },
   "outputs": [],
   "source": [
    "import warnings\n",
    "warnings.filterwarnings('ignore')\n",
    "import numpy as np\n",
    "\n",
    "from copy import deepcopy\n",
    "from scipy.sparse import csr_matrix, vstack\n",
    "from sklearn.naive_bayes import MultinomialNB\n",
    "from sklearn.naive_bayes import GaussianNB\n",
    "from scipy.linalg import get_blas_funcs\n",
    "from sklearn.semi_supervised import LabelPropagation, LabelSpreading\n",
    "\n",
    "class Semi_EM_MultinomialNB():\n",
    "    \"\"\"\n",
    "    Naive Bayes classifier for multinomial models for semi-supervised learning.\n",
    "    \n",
    "    Use both labeled and unlabeled data to train NB classifier, update parameters\n",
    "    using unlabeled data, and all data to evaluate performance of classifier. Optimize\n",
    "    classifier using Expectation-Maximization algorithm.\n",
    "    \"\"\"\n",
    "    def __init__(self, alpha=1.0, fit_prior=True, class_prior=None, max_iter=30, tol=1e-6, print_log_lkh=True):\n",
    "        self.alpha = alpha\n",
    "        self.fit_prior = fit_prior\n",
    "        self.class_prior = class_prior\n",
    "        self.clf = MultinomialNB(alpha=self.alpha, fit_prior=self.fit_prior, class_prior=self.class_prior)\n",
    "        self.log_lkh = -np.inf # log likelihood\n",
    "        self.max_iter = max_iter # max number of EM iterations\n",
    "        self.tol = tol # tolerance of log likelihood increment\n",
    "        self.feature_log_prob_ = np.array([]) # Empirical log probability of features given a class, P(x_i|y).\n",
    "        self.coef_ = np.array([]) # Mirrors feature_log_prob_ for interpreting MultinomialNB as a linear model.\n",
    "        self.print_log_lkh = print_log_lkh # if True, print log likelihood during EM iterations\n",
    "\n",
    "    def fit(self, X_l, y_l, X_u):\n",
    "        \"\"\"\n",
    "        Initialize the parameter using labeled data only.\n",
    "        Assume unlabeled class as missing values, apply EM on unlabeled data to refine classifier.\n",
    "        \"\"\"\n",
    "        n_ul_docs = X_u.shape[0] # number of unlabeled samples\n",
    "        n_l_docs = X_l.shape[0] # number of labeled samples\n",
    "        # initialization (n_docs = n_ul_docs)\n",
    "        clf = deepcopy(self.clf)# build new copy of classifier\n",
    "        clf.fit(X_l, y_l) # use labeled data only to initialize classifier parameters\n",
    "        prev_log_lkh = self.log_lkh # record log likelihood of previous EM iteration\n",
    "        lp_w_c = clf.feature_log_prob_ # log CP of word given class [n_classes, n_words]\n",
    "        b_w_d = (X_u > 0) # words in each document [n_docs, n_words]\n",
    "        lp_d_c = get_blas_funcs(\"gemm\", [lp_w_c, b_w_d.T]) # log CP of doc given class [n_classes, n_docs]\n",
    "        lp_d_c = lp_d_c(alpha=1.0, a=lp_w_c, b=b_w_d.T) \n",
    "        lp_c = np.matrix(clf.class_log_prior_).T # log prob of classes [n_classes, 1]\n",
    "        lp_c = np.repeat(lp_c, n_ul_docs, axis=1) # repeat for each doc [n_classes, n_docs]\n",
    "        lp_dc = lp_d_c + lp_c # joint prob of doc and class [n_classes, n_docs]\n",
    "        p_c_d = clf.predict_proba(X_u) # weight of each class in each doc [n_docs, n_classes]\n",
    "        expectation = get_blas_funcs(\"gemm\", [p_c_d, lp_dc]) # expectation of log likelihood over all unlabeled docs\n",
    "        expectation = expectation(alpha=1.0, a=p_c_d, b=lp_dc).trace() \n",
    "        self.clf = deepcopy(clf)\n",
    "        self.log_lkh = expectation\n",
    "        if self.print_log_lkh:\n",
    "            print(\"Initial expected log likelihood = %0.3f\\n\" % expectation)\n",
    "        # Loop until log likelihood does not improve\n",
    "        iter_count = 0 # count EM iteration\n",
    "        while (self.log_lkh-prev_log_lkh>=self.tol and iter_count<self.max_iter):\n",
    "        # while (iter_count<self.max_iter):\n",
    "            iter_count += 1\n",
    "            if self.print_log_lkh:\n",
    "                print(\"EM iteration #%d\" % iter_count) # debug\n",
    "            # E-step: Estimate class membership of unlabeled documents\n",
    "            y_u = clf.predict(X_u)\n",
    "            # M-step: Re-estimate classifier parameters\n",
    "            X = vstack([X_l, X_u])\n",
    "            y = np.concatenate((y_l, y_u), axis=0)\n",
    "            clf.fit(X, y)\n",
    "            # check convergence: update log likelihood\n",
    "            p_c_d = clf.predict_proba(X_u)\n",
    "            lp_w_c = clf.feature_log_prob_ # log CP of word given class [n_classes, n_words]\n",
    "            b_w_d = (X_u > 0) # words in each document\n",
    "            lp_d_c = get_blas_funcs(\"gemm\", [lp_w_c, b_w_d.transpose()]) # log CP of doc given class [n_classes, n_docs]\n",
    "            lp_d_c = lp_d_c(alpha=1.0, a=lp_w_c, b=b_w_d.transpose()) \n",
    "            lp_c = np.matrix(clf.class_log_prior_).T # log prob of classes [n_classes, 1]\n",
    "            lp_c = np.repeat(lp_c, n_ul_docs, axis=1) # repeat for each doc [n_classes, n_docs]\n",
    "            lp_dc = lp_d_c + lp_c  # joint prob of doc and class [n_classes, n_docs]\n",
    "            expectation = get_blas_funcs(\"gemm\", [p_c_d, lp_dc]) # expectation of log likelihood over all unlabeled docs\n",
    "            expectation = expectation(alpha=1.0, a=p_c_d, b=lp_dc).trace() \n",
    "            if self.print_log_lkh:\n",
    "                print(\"\\tExpected log likelihood = %0.3f\" % expectation)\n",
    "            if (expectation-self.log_lkh >= self.tol):\n",
    "                prev_log_lkh = self.log_lkh\n",
    "                self.log_lkh = expectation\n",
    "                self.clf = deepcopy(clf)\n",
    "            else:\n",
    "                break\n",
    "        self.feature_log_prob_ = self.clf.feature_log_prob_\n",
    "        self.coef_ = self.clf.coef_\n",
    "        return self\n",
    "\n",
    "   \n",
    "    def predict(self, X):\n",
    "        return self.clf.predict(X)\n",
    "\n",
    "    def score(self, X, y):\n",
    "        return self.clf.score(X, y)\n",
    "\n",
    "    def get_params(deep=True):\n",
    "        return self.clf.get_params(deep)\n",
    "\n",
    "    def __str__(self):\n",
    "        return self.clf.__str__()"
   ]
  },
  {
   "cell_type": "markdown",
   "metadata": {
    "id": "mi-Up6na8_mO"
   },
   "source": [
    "# EM Run"
   ]
  },
  {
   "cell_type": "code",
   "execution_count": 17,
   "metadata": {
    "colab": {
     "base_uri": "https://localhost:8080/",
     "height": 381
    },
    "id": "UObdtpJ0JmGs",
    "outputId": "1f146cd7-33e2-477a-bf06-5f5fe3f82540"
   },
   "outputs": [],
   "source": [
    "def cross_validation(clf, data_X, data_y, unlabeled,X_u, n_folds=5):\n",
    "    print('=' * 80)\n",
    "    print(\"Validation: \")\n",
    "    print(clf)\n",
    "    kf = StratifiedKFold(n_splits=n_folds)\n",
    "    start_time = time()\n",
    "    train_scores = list() # training accuracy\n",
    "    fold_count = 1\n",
    "    original_clf = deepcopy(clf)\n",
    "    avg_accuracy = 0\n",
    "    for train_ids, valid_ids in kf.split(data_X, data_y):\n",
    "        cv_clf = deepcopy(original_clf)\n",
    "        print(\"Fold # %d\" % fold_count)\n",
    "        fold_count += 1\n",
    "        train_X, train_y, valid_X, valid_y = data_X[train_ids], data_y[train_ids], data_X[valid_ids], data_y[valid_ids]\n",
    "        if unlabeled==True:\n",
    "            cv_clf.fit(train_X, train_y, X_u)\n",
    "        else:\n",
    "            cv_clf.fit(train_X, train_y)\n",
    "        pred = cv_clf.predict(valid_X)\n",
    "        scores = dict()\n",
    "        scores['accuracy'] = metrics.accuracy_score(valid_y, pred)\n",
    "        scores['recall'] = metrics.recall_score(valid_y, pred, average='macro')\n",
    "        scores['precision'] = metrics.precision_score(valid_y, pred, average='macro')\n",
    "        scores['f1_score'] = metrics.f1_score(valid_y, pred, average='macro')\n",
    "        train_scores.append(scores)\n",
    "        avg_accuracy += scores['accuracy']\n",
    "    train_time = time() - start_time\n",
    "    print(\"Validation time: %0.3f seconds\" % train_time)\n",
    "    print(\"Average training accuracy: %0.3f\" % (avg_accuracy/n_folds))\n",
    "    return train_scores, train_time"
   ]
  },
  {
   "cell_type": "code",
   "execution_count": 18,
   "metadata": {},
   "outputs": [],
   "source": [
    "def show_topK(classifier, vectorizer, categories, K=10):\n",
    "    feature_names = np.asarray(vectorizer.get_feature_names())\n",
    "    nrows, ncols = 5, 4\n",
    "    fig, axes = plt.subplots(figsize=(50, 40), nrows=nrows, ncols=ncols)\n",
    "    #d = path.dirname(__file__)\n",
    "    circle_mask = np.array(Image.open(path.join('./', \"circle.png\")))\n",
    "    for i, category in enumerate(categories):\n",
    "        topK = np.argsort(classifier.coef_[i])[-K:]\n",
    "        text = \" \".join(feature_names[topK])\n",
    "        print(\"%s: %s\" % (category, text))\n",
    "        wordcloud = WordCloud(background_color=\"white\", mask=circle_mask).generate(text)\n",
    "        axes[i//ncols, i%ncols].imshow(wordcloud, cmap=plt.cm.cool_r, interpolation='bilinear')\n",
    "        axes[i//ncols, i%ncols].axis(\"off\")\n",
    "        axes[i//ncols, i%ncols].set_title(category, fontweight=\"bold\", size=24)\n",
    "    plt.show()"
   ]
  },
  {
   "cell_type": "code",
   "execution_count": 19,
   "metadata": {},
   "outputs": [
    {
     "name": "stdout",
     "output_type": "stream",
     "text": [
      "Training set size:    15076\tTest set size:     3770\n",
      "(5076, 5005) (10000, 5005)\n"
     ]
    }
   ],
   "source": [
    "train_X, test_X, train_y, test_y = train_test_split(features,news_df['class'], test_size=0.2, stratify=news_df['class'])\n",
    "print(\"Training set size: %8d\\tTest set size: %8d\" % (len(train_X), len(test_X)))\n",
    "# Divide train data set into labeled and unlabeled data sets\n",
    "X_l, X_u, y_l, y_u = train_test_split(train_X, train_y, test_size=10000, stratify=train_y)\n",
    "experiments = np.logspace(2.3, 3.7, num=20, base=10, dtype='int')\n",
    "print (X_l.shape, X_u.shape)"
   ]
  },
  {
   "cell_type": "code",
   "execution_count": 24,
   "metadata": {},
   "outputs": [
    {
     "name": "stdout",
     "output_type": "stream",
     "text": [
      "<class 'numpy.ndarray'> <class 'numpy.ndarray'> <class 'numpy.ndarray'> <class 'numpy.ndarray'>\n"
     ]
    }
   ],
   "source": [
    "y_l=y_l.to_numpy()\n",
    "y_u=y_u.to_numpy()\n",
    "print(type(X_l),type(X_u),type(y_l),type(y_u))"
   ]
  },
  {
   "cell_type": "code",
   "execution_count": 25,
   "metadata": {},
   "outputs": [
    {
     "name": "stdout",
     "output_type": "stream",
     "text": [
      "================================================================================\n",
      "Validation: \n",
      "MultinomialNB(alpha=0.01)\n",
      "Fold # 1\n",
      "Fold # 2\n",
      "Fold # 3\n",
      "Fold # 4\n",
      "Fold # 5\n",
      "Validation time: 0.136 seconds\n",
      "Average training accuracy: 0.392\n",
      "Number of labeled documents:    199\n",
      "================================================================================\n",
      "Validation: \n",
      "MultinomialNB(alpha=0.01)\n",
      "Fold # 1\n",
      "Fold # 2\n",
      "Fold # 3\n",
      "Fold # 4\n"
     ]
    },
    {
     "name": "stderr",
     "output_type": "stream",
     "text": [
      "C:\\Users\\Vatsal\\anaconda3\\lib\\site-packages\\sklearn\\metrics\\_classification.py:1248: UndefinedMetricWarning: Precision is ill-defined and being set to 0.0 in labels with no predicted samples. Use `zero_division` parameter to control this behavior.\n",
      "  _warn_prf(average, modifier, msg_start, len(result))\n",
      "C:\\Users\\Vatsal\\anaconda3\\lib\\site-packages\\sklearn\\metrics\\_classification.py:1248: UndefinedMetricWarning: Precision is ill-defined and being set to 0.0 in labels with no predicted samples. Use `zero_division` parameter to control this behavior.\n",
      "  _warn_prf(average, modifier, msg_start, len(result))\n",
      "C:\\Users\\Vatsal\\anaconda3\\lib\\site-packages\\sklearn\\metrics\\_classification.py:1248: UndefinedMetricWarning: Precision is ill-defined and being set to 0.0 in labels with no predicted samples. Use `zero_division` parameter to control this behavior.\n",
      "  _warn_prf(average, modifier, msg_start, len(result))\n",
      "C:\\Users\\Vatsal\\anaconda3\\lib\\site-packages\\sklearn\\metrics\\_classification.py:1248: UndefinedMetricWarning: Precision is ill-defined and being set to 0.0 in labels with no predicted samples. Use `zero_division` parameter to control this behavior.\n",
      "  _warn_prf(average, modifier, msg_start, len(result))\n",
      "C:\\Users\\Vatsal\\anaconda3\\lib\\site-packages\\sklearn\\metrics\\_classification.py:1248: UndefinedMetricWarning: Precision is ill-defined and being set to 0.0 in labels with no predicted samples. Use `zero_division` parameter to control this behavior.\n",
      "  _warn_prf(average, modifier, msg_start, len(result))\n",
      "C:\\Users\\Vatsal\\anaconda3\\lib\\site-packages\\sklearn\\metrics\\_classification.py:1248: UndefinedMetricWarning: Precision is ill-defined and being set to 0.0 in labels with no predicted samples. Use `zero_division` parameter to control this behavior.\n",
      "  _warn_prf(average, modifier, msg_start, len(result))\n",
      "C:\\Users\\Vatsal\\anaconda3\\lib\\site-packages\\sklearn\\metrics\\_classification.py:1248: UndefinedMetricWarning: Precision is ill-defined and being set to 0.0 in labels with no predicted samples. Use `zero_division` parameter to control this behavior.\n",
      "  _warn_prf(average, modifier, msg_start, len(result))\n",
      "C:\\Users\\Vatsal\\anaconda3\\lib\\site-packages\\sklearn\\metrics\\_classification.py:1248: UndefinedMetricWarning: Precision is ill-defined and being set to 0.0 in labels with no predicted samples. Use `zero_division` parameter to control this behavior.\n",
      "  _warn_prf(average, modifier, msg_start, len(result))\n",
      "C:\\Users\\Vatsal\\anaconda3\\lib\\site-packages\\sklearn\\metrics\\_classification.py:1248: UndefinedMetricWarning: Precision is ill-defined and being set to 0.0 in labels with no predicted samples. Use `zero_division` parameter to control this behavior.\n",
      "  _warn_prf(average, modifier, msg_start, len(result))\n",
      "C:\\Users\\Vatsal\\anaconda3\\lib\\site-packages\\sklearn\\metrics\\_classification.py:1248: UndefinedMetricWarning: Precision is ill-defined and being set to 0.0 in labels with no predicted samples. Use `zero_division` parameter to control this behavior.\n",
      "  _warn_prf(average, modifier, msg_start, len(result))\n",
      "C:\\Users\\Vatsal\\anaconda3\\lib\\site-packages\\sklearn\\metrics\\_classification.py:1248: UndefinedMetricWarning: Precision is ill-defined and being set to 0.0 in labels with no predicted samples. Use `zero_division` parameter to control this behavior.\n",
      "  _warn_prf(average, modifier, msg_start, len(result))\n",
      "C:\\Users\\Vatsal\\anaconda3\\lib\\site-packages\\sklearn\\metrics\\_classification.py:1248: UndefinedMetricWarning: Precision is ill-defined and being set to 0.0 in labels with no predicted samples. Use `zero_division` parameter to control this behavior.\n",
      "  _warn_prf(average, modifier, msg_start, len(result))\n",
      "C:\\Users\\Vatsal\\anaconda3\\lib\\site-packages\\sklearn\\metrics\\_classification.py:1248: UndefinedMetricWarning: Precision is ill-defined and being set to 0.0 in labels with no predicted samples. Use `zero_division` parameter to control this behavior.\n",
      "  _warn_prf(average, modifier, msg_start, len(result))\n",
      "C:\\Users\\Vatsal\\anaconda3\\lib\\site-packages\\sklearn\\metrics\\_classification.py:1248: UndefinedMetricWarning: Precision is ill-defined and being set to 0.0 in labels with no predicted samples. Use `zero_division` parameter to control this behavior.\n",
      "  _warn_prf(average, modifier, msg_start, len(result))\n",
      "C:\\Users\\Vatsal\\anaconda3\\lib\\site-packages\\sklearn\\metrics\\_classification.py:1248: UndefinedMetricWarning: Precision is ill-defined and being set to 0.0 in labels with no predicted samples. Use `zero_division` parameter to control this behavior.\n",
      "  _warn_prf(average, modifier, msg_start, len(result))\n"
     ]
    },
    {
     "name": "stdout",
     "output_type": "stream",
     "text": [
      "Fold # 5\n",
      "Validation time: 0.060 seconds\n",
      "Average training accuracy: 0.394\n",
      "Number of labeled documents:    236\n",
      "================================================================================\n",
      "Validation: \n",
      "MultinomialNB(alpha=0.01)\n",
      "Fold # 1\n",
      "Fold # 2\n",
      "Fold # 3\n",
      "Fold # 4\n",
      "Fold # 5\n",
      "Validation time: 0.068 seconds\n",
      "Average training accuracy: 0.436\n",
      "Number of labeled documents:    280\n",
      "================================================================================\n",
      "Validation: \n",
      "MultinomialNB(alpha=0.01)\n",
      "Fold # 1\n",
      "Fold # 2\n",
      "Fold # 3\n",
      "Fold # 4\n",
      "Fold # 5\n",
      "Validation time: 0.083 seconds\n",
      "Average training accuracy: 0.453\n",
      "Number of labeled documents:    331\n",
      "================================================================================\n",
      "Validation: \n",
      "MultinomialNB(alpha=0.01)\n",
      "Fold # 1\n",
      "Fold # 2\n"
     ]
    },
    {
     "name": "stderr",
     "output_type": "stream",
     "text": [
      "C:\\Users\\Vatsal\\anaconda3\\lib\\site-packages\\sklearn\\metrics\\_classification.py:1248: UndefinedMetricWarning: Precision is ill-defined and being set to 0.0 in labels with no predicted samples. Use `zero_division` parameter to control this behavior.\n",
      "  _warn_prf(average, modifier, msg_start, len(result))\n",
      "C:\\Users\\Vatsal\\anaconda3\\lib\\site-packages\\sklearn\\metrics\\_classification.py:1248: UndefinedMetricWarning: Precision is ill-defined and being set to 0.0 in labels with no predicted samples. Use `zero_division` parameter to control this behavior.\n",
      "  _warn_prf(average, modifier, msg_start, len(result))\n",
      "C:\\Users\\Vatsal\\anaconda3\\lib\\site-packages\\sklearn\\metrics\\_classification.py:1248: UndefinedMetricWarning: Precision is ill-defined and being set to 0.0 in labels with no predicted samples. Use `zero_division` parameter to control this behavior.\n",
      "  _warn_prf(average, modifier, msg_start, len(result))\n",
      "C:\\Users\\Vatsal\\anaconda3\\lib\\site-packages\\sklearn\\metrics\\_classification.py:1248: UndefinedMetricWarning: Precision is ill-defined and being set to 0.0 in labels with no predicted samples. Use `zero_division` parameter to control this behavior.\n",
      "  _warn_prf(average, modifier, msg_start, len(result))\n",
      "C:\\Users\\Vatsal\\anaconda3\\lib\\site-packages\\sklearn\\metrics\\_classification.py:1248: UndefinedMetricWarning: Precision is ill-defined and being set to 0.0 in labels with no predicted samples. Use `zero_division` parameter to control this behavior.\n",
      "  _warn_prf(average, modifier, msg_start, len(result))\n",
      "C:\\Users\\Vatsal\\anaconda3\\lib\\site-packages\\sklearn\\metrics\\_classification.py:1248: UndefinedMetricWarning: Precision is ill-defined and being set to 0.0 in labels with no predicted samples. Use `zero_division` parameter to control this behavior.\n",
      "  _warn_prf(average, modifier, msg_start, len(result))\n",
      "C:\\Users\\Vatsal\\anaconda3\\lib\\site-packages\\sklearn\\metrics\\_classification.py:1248: UndefinedMetricWarning: Precision is ill-defined and being set to 0.0 in labels with no predicted samples. Use `zero_division` parameter to control this behavior.\n",
      "  _warn_prf(average, modifier, msg_start, len(result))\n",
      "C:\\Users\\Vatsal\\anaconda3\\lib\\site-packages\\sklearn\\metrics\\_classification.py:1248: UndefinedMetricWarning: Precision is ill-defined and being set to 0.0 in labels with no predicted samples. Use `zero_division` parameter to control this behavior.\n",
      "  _warn_prf(average, modifier, msg_start, len(result))\n",
      "C:\\Users\\Vatsal\\anaconda3\\lib\\site-packages\\sklearn\\metrics\\_classification.py:1248: UndefinedMetricWarning: Precision is ill-defined and being set to 0.0 in labels with no predicted samples. Use `zero_division` parameter to control this behavior.\n",
      "  _warn_prf(average, modifier, msg_start, len(result))\n",
      "C:\\Users\\Vatsal\\anaconda3\\lib\\site-packages\\sklearn\\metrics\\_classification.py:1248: UndefinedMetricWarning: Precision is ill-defined and being set to 0.0 in labels with no predicted samples. Use `zero_division` parameter to control this behavior.\n",
      "  _warn_prf(average, modifier, msg_start, len(result))\n"
     ]
    },
    {
     "name": "stdout",
     "output_type": "stream",
     "text": [
      "Fold # 3\n",
      "Fold # 4\n",
      "Fold # 5\n",
      "Validation time: 0.083 seconds\n",
      "Average training accuracy: 0.499\n",
      "Number of labeled documents:    393\n",
      "================================================================================\n",
      "Validation: \n",
      "MultinomialNB(alpha=0.01)\n",
      "Fold # 1\n",
      "Fold # 2\n",
      "Fold # 3\n",
      "Fold # 4\n",
      "Fold # 5\n",
      "Validation time: 0.084 seconds\n",
      "Average training accuracy: 0.506\n",
      "Number of labeled documents:    466\n",
      "================================================================================\n",
      "Validation: \n",
      "MultinomialNB(alpha=0.01)\n",
      "Fold # 1\n",
      "Fold # 2\n",
      "Fold # 3"
     ]
    },
    {
     "name": "stderr",
     "output_type": "stream",
     "text": [
      "C:\\Users\\Vatsal\\anaconda3\\lib\\site-packages\\sklearn\\metrics\\_classification.py:1248: UndefinedMetricWarning: Precision is ill-defined and being set to 0.0 in labels with no predicted samples. Use `zero_division` parameter to control this behavior.\n",
      "  _warn_prf(average, modifier, msg_start, len(result))\n",
      "C:\\Users\\Vatsal\\anaconda3\\lib\\site-packages\\sklearn\\metrics\\_classification.py:1248: UndefinedMetricWarning: Precision is ill-defined and being set to 0.0 in labels with no predicted samples. Use `zero_division` parameter to control this behavior.\n",
      "  _warn_prf(average, modifier, msg_start, len(result))\n"
     ]
    },
    {
     "name": "stdout",
     "output_type": "stream",
     "text": [
      "\n",
      "Fold # 4\n",
      "Fold # 5\n",
      "Validation time: 0.116 seconds\n",
      "Average training accuracy: 0.553\n",
      "Number of labeled documents:    552\n",
      "================================================================================\n",
      "Validation: \n",
      "MultinomialNB(alpha=0.01)\n",
      "Fold # 1\n",
      "Fold # 2\n",
      "Fold # 3\n",
      "Fold # 4\n",
      "Fold # 5\n",
      "Validation time: 0.126 seconds\n",
      "Average training accuracy: 0.561\n",
      "Number of labeled documents:    654\n",
      "================================================================================\n",
      "Validation: \n",
      "MultinomialNB(alpha=0.01)\n",
      "Fold # 1\n",
      "Fold # 2\n",
      "Fold # 3\n",
      "Fold # 4\n",
      "Fold # 5\n",
      "Validation time: 0.132 seconds\n",
      "Average training accuracy: 0.574\n",
      "Number of labeled documents:    775\n",
      "================================================================================\n",
      "Validation: \n",
      "MultinomialNB(alpha=0.01)\n",
      "Fold # 1\n",
      "Fold # 2\n"
     ]
    },
    {
     "name": "stderr",
     "output_type": "stream",
     "text": [
      "C:\\Users\\Vatsal\\anaconda3\\lib\\site-packages\\sklearn\\metrics\\_classification.py:1248: UndefinedMetricWarning: Precision is ill-defined and being set to 0.0 in labels with no predicted samples. Use `zero_division` parameter to control this behavior.\n",
      "  _warn_prf(average, modifier, msg_start, len(result))\n",
      "C:\\Users\\Vatsal\\anaconda3\\lib\\site-packages\\sklearn\\metrics\\_classification.py:1248: UndefinedMetricWarning: Precision is ill-defined and being set to 0.0 in labels with no predicted samples. Use `zero_division` parameter to control this behavior.\n",
      "  _warn_prf(average, modifier, msg_start, len(result))\n"
     ]
    },
    {
     "name": "stdout",
     "output_type": "stream",
     "text": [
      "Fold # 3\n",
      "Fold # 4\n",
      "Fold # 5\n",
      "Validation time: 0.154 seconds\n",
      "Average training accuracy: 0.601\n",
      "Number of labeled documents:    918\n",
      "================================================================================\n",
      "Validation: \n",
      "MultinomialNB(alpha=0.01)\n",
      "Fold # 1\n",
      "Fold # 2\n",
      "Fold # 3\n",
      "Fold # 4\n",
      "Fold # 5\n",
      "Validation time: 0.209 seconds\n",
      "Average training accuracy: 0.607\n",
      "Number of labeled documents:   1088\n",
      "================================================================================\n",
      "Validation: \n",
      "MultinomialNB(alpha=0.01)\n",
      "Fold # 1\n",
      "Fold # 2\n",
      "Fold # 3\n",
      "Fold # 4\n",
      "Fold # 5\n",
      "Validation time: 0.204 seconds\n",
      "Average training accuracy: 0.621\n",
      "Number of labeled documents:   1289\n",
      "================================================================================\n",
      "Validation: \n",
      "MultinomialNB(alpha=0.01)\n",
      "Fold # 1\n",
      "Fold # 2\n",
      "Fold # 3\n",
      "Fold # 4\n",
      "Fold # 5\n",
      "Validation time: 0.229 seconds\n",
      "Average training accuracy: 0.629\n",
      "Number of labeled documents:   1528\n",
      "================================================================================\n",
      "Validation: \n",
      "MultinomialNB(alpha=0.01)\n",
      "Fold # 1\n",
      "Fold # 2\n",
      "Fold # 3\n",
      "Fold # 4\n",
      "Fold # 5\n",
      "Validation time: 0.273 seconds\n",
      "Average training accuracy: 0.648\n",
      "Number of labeled documents:   1810\n",
      "================================================================================\n",
      "Validation: \n",
      "MultinomialNB(alpha=0.01)\n",
      "Fold # 1\n",
      "Fold # 2\n",
      "Fold # 3\n",
      "Fold # 4\n",
      "Fold # 5\n",
      "Validation time: 0.363 seconds\n",
      "Average training accuracy: 0.647\n",
      "Number of labeled documents:   2145\n",
      "================================================================================\n",
      "Validation: \n",
      "MultinomialNB(alpha=0.01)\n",
      "Fold # 1\n",
      "Fold # 2\n",
      "Fold # 3\n",
      "Fold # 4\n",
      "Fold # 5\n",
      "Validation time: 0.380 seconds\n",
      "Average training accuracy: 0.650\n",
      "Number of labeled documents:   2542\n",
      "================================================================================\n",
      "Validation: \n",
      "MultinomialNB(alpha=0.01)\n",
      "Fold # 1\n",
      "Fold # 2\n",
      "Fold # 3\n",
      "Fold # 4\n",
      "Fold # 5\n",
      "Validation time: 0.483 seconds\n",
      "Average training accuracy: 0.675\n",
      "Number of labeled documents:   3012\n",
      "================================================================================\n",
      "Validation: \n",
      "MultinomialNB(alpha=0.01)\n",
      "Fold # 1\n",
      "Fold # 2\n",
      "Fold # 3\n",
      "Fold # 4\n",
      "Fold # 5\n",
      "Validation time: 0.604 seconds\n",
      "Average training accuracy: 0.681\n",
      "Number of labeled documents:   3569\n",
      "================================================================================\n",
      "Validation: \n",
      "MultinomialNB(alpha=0.01)\n",
      "Fold # 1\n",
      "Fold # 2\n",
      "Fold # 3\n",
      "Fold # 4\n",
      "Fold # 5\n",
      "Validation time: 0.703 seconds\n",
      "Average training accuracy: 0.687\n",
      "Number of labeled documents:   4229\n",
      "================================================================================\n",
      "Validation: \n",
      "MultinomialNB(alpha=0.01)\n",
      "Fold # 1\n",
      "Fold # 2\n",
      "Fold # 3\n",
      "Fold # 4\n",
      "Fold # 5\n",
      "Validation time: 0.714 seconds\n",
      "Average training accuracy: 0.693\n",
      "Number of labeled documents:   5011\n"
     ]
    }
   ],
   "source": [
    "from time import time\n",
    "# Cross validation for Naive Bayes classifier \n",
    "# using labeled data set only\n",
    "nb_cv_scores = list()\n",
    "nb_cv_times = list()\n",
    "for n_l_docs in experiments:\n",
    "    nb_clf = MultinomialNB(alpha=1e-2)\n",
    "    cv_scores, cv_time = cross_validation(nb_clf, X_l[:n_l_docs,], y_l[:n_l_docs],False,X_u)\n",
    "    nb_cv_scores.append(cv_scores)\n",
    "    nb_cv_times.append(cv_time)\n",
    "    print(\"Number of labeled documents: %6d\" % n_l_docs)"
   ]
  },
  {
   "cell_type": "code",
   "execution_count": 28,
   "metadata": {},
   "outputs": [
    {
     "name": "stdout",
     "output_type": "stream",
     "text": [
      "================================================================================\n",
      "Validation: \n",
      "MultinomialNB(alpha=0.01)\n",
      "Fold # 1\n",
      "Fold # 2\n",
      "Fold # 3\n",
      "Fold # 4\n",
      "Fold # 5\n",
      "Validation time: 54.453 seconds\n",
      "Average training accuracy: 0.528\n",
      "Number of labeled documents:    199\n",
      "================================================================================\n",
      "Validation: \n",
      "MultinomialNB(alpha=0.01)\n",
      "Fold # 1\n",
      "Fold # 2\n",
      "Fold # 3\n",
      "Fold # 4\n",
      "Fold # 5\n",
      "Validation time: 56.933 seconds\n",
      "Average training accuracy: 0.500\n",
      "Number of labeled documents:    236\n",
      "================================================================================\n",
      "Validation: \n",
      "MultinomialNB(alpha=0.01)\n",
      "Fold # 1\n",
      "Fold # 2\n",
      "Fold # 3\n",
      "Fold # 4\n",
      "Fold # 5\n",
      "Validation time: 52.037 seconds\n",
      "Average training accuracy: 0.579\n",
      "Number of labeled documents:    280\n",
      "================================================================================\n",
      "Validation: \n",
      "MultinomialNB(alpha=0.01)\n",
      "Fold # 1\n",
      "Fold # 2\n",
      "Fold # 3\n",
      "Fold # 4\n",
      "Fold # 5\n",
      "Validation time: 47.891 seconds\n",
      "Average training accuracy: 0.562\n",
      "Number of labeled documents:    331\n",
      "================================================================================\n",
      "Validation: \n",
      "MultinomialNB(alpha=0.01)\n",
      "Fold # 1\n",
      "Fold # 2\n",
      "Fold # 3\n",
      "Fold # 4\n",
      "Fold # 5\n",
      "Validation time: 50.208 seconds\n",
      "Average training accuracy: 0.555\n",
      "Number of labeled documents:    393\n",
      "================================================================================\n",
      "Validation: \n",
      "MultinomialNB(alpha=0.01)\n",
      "Fold # 1\n",
      "Fold # 2\n",
      "Fold # 3\n",
      "Fold # 4\n",
      "Fold # 5\n",
      "Validation time: 47.697 seconds\n",
      "Average training accuracy: 0.594\n",
      "Number of labeled documents:    466\n",
      "================================================================================\n",
      "Validation: \n",
      "MultinomialNB(alpha=0.01)\n",
      "Fold # 1\n",
      "Fold # 2\n",
      "Fold # 3\n",
      "Fold # 4\n",
      "Fold # 5\n",
      "Validation time: 46.659 seconds\n",
      "Average training accuracy: 0.612\n",
      "Number of labeled documents:    552\n",
      "================================================================================\n",
      "Validation: \n",
      "MultinomialNB(alpha=0.01)\n",
      "Fold # 1\n",
      "Fold # 2\n",
      "Fold # 3\n",
      "Fold # 4\n",
      "Fold # 5\n",
      "Validation time: 43.317 seconds\n",
      "Average training accuracy: 0.624\n",
      "Number of labeled documents:    654\n",
      "================================================================================\n",
      "Validation: \n",
      "MultinomialNB(alpha=0.01)\n",
      "Fold # 1\n",
      "Fold # 2\n",
      "Fold # 3\n",
      "Fold # 4\n",
      "Fold # 5\n",
      "Validation time: 46.195 seconds\n",
      "Average training accuracy: 0.630\n",
      "Number of labeled documents:    775\n",
      "================================================================================\n",
      "Validation: \n",
      "MultinomialNB(alpha=0.01)\n",
      "Fold # 1\n",
      "Fold # 2\n",
      "Fold # 3\n",
      "Fold # 4\n",
      "Fold # 5\n",
      "Validation time: 49.582 seconds\n",
      "Average training accuracy: 0.660\n",
      "Number of labeled documents:    918\n",
      "================================================================================\n",
      "Validation: \n",
      "MultinomialNB(alpha=0.01)\n",
      "Fold # 1\n",
      "Fold # 2\n",
      "Fold # 3\n",
      "Fold # 4\n",
      "Fold # 5\n",
      "Validation time: 42.966 seconds\n",
      "Average training accuracy: 0.663\n",
      "Number of labeled documents:   1088\n",
      "================================================================================\n",
      "Validation: \n",
      "MultinomialNB(alpha=0.01)\n",
      "Fold # 1\n",
      "Fold # 2\n",
      "Fold # 3\n",
      "Fold # 4\n",
      "Fold # 5\n",
      "Validation time: 38.039 seconds\n",
      "Average training accuracy: 0.679\n",
      "Number of labeled documents:   1289\n",
      "================================================================================\n",
      "Validation: \n",
      "MultinomialNB(alpha=0.01)\n",
      "Fold # 1\n",
      "Fold # 2\n",
      "Fold # 3\n",
      "Fold # 4\n",
      "Fold # 5\n",
      "Validation time: 41.120 seconds\n",
      "Average training accuracy: 0.678\n",
      "Number of labeled documents:   1528\n",
      "================================================================================\n",
      "Validation: \n",
      "MultinomialNB(alpha=0.01)\n",
      "Fold # 1\n",
      "Fold # 2\n",
      "Fold # 3\n",
      "Fold # 4\n",
      "Fold # 5\n",
      "Validation time: 38.369 seconds\n",
      "Average training accuracy: 0.677\n",
      "Number of labeled documents:   1810\n",
      "================================================================================\n",
      "Validation: \n",
      "MultinomialNB(alpha=0.01)\n",
      "Fold # 1\n",
      "Fold # 2\n",
      "Fold # 3\n",
      "Fold # 4\n",
      "Fold # 5\n",
      "Validation time: 38.791 seconds\n",
      "Average training accuracy: 0.676\n",
      "Number of labeled documents:   2145\n",
      "================================================================================\n",
      "Validation: \n",
      "MultinomialNB(alpha=0.01)\n",
      "Fold # 1\n",
      "Fold # 2\n",
      "Fold # 3\n",
      "Fold # 4\n",
      "Fold # 5\n",
      "Validation time: 38.463 seconds\n",
      "Average training accuracy: 0.685\n",
      "Number of labeled documents:   2542\n",
      "================================================================================\n",
      "Validation: \n",
      "MultinomialNB(alpha=0.01)\n",
      "Fold # 1\n",
      "Fold # 2\n",
      "Fold # 3\n",
      "Fold # 4\n",
      "Fold # 5\n",
      "Validation time: 41.495 seconds\n",
      "Average training accuracy: 0.697\n",
      "Number of labeled documents:   3012\n",
      "================================================================================\n",
      "Validation: \n",
      "MultinomialNB(alpha=0.01)\n",
      "Fold # 1\n",
      "Fold # 2\n",
      "Fold # 3\n",
      "Fold # 4\n",
      "Fold # 5\n",
      "Validation time: 38.101 seconds\n",
      "Average training accuracy: 0.702\n",
      "Number of labeled documents:   3569\n",
      "================================================================================\n",
      "Validation: \n",
      "MultinomialNB(alpha=0.01)\n",
      "Fold # 1\n",
      "Fold # 2\n",
      "Fold # 3\n",
      "Fold # 4\n",
      "Fold # 5\n",
      "Validation time: 39.295 seconds\n",
      "Average training accuracy: 0.705\n",
      "Number of labeled documents:   4229\n",
      "================================================================================\n",
      "Validation: \n",
      "MultinomialNB(alpha=0.01)\n",
      "Fold # 1\n",
      "Fold # 2\n",
      "Fold # 3\n",
      "Fold # 4\n",
      "Fold # 5\n",
      "Validation time: 32.508 seconds\n",
      "Average training accuracy: 0.707\n",
      "Number of labeled documents:   5011\n"
     ]
    }
   ],
   "source": [
    "# Cross validation for semisupervised EM Naive Bayes classifier \n",
    "# using both labeled and unlabeled data set\n",
    "em_nb_cv_scores = list()\n",
    "em_nb_cv_times = list()\n",
    "for n_l_docs in experiments:\n",
    "    em_nb_clf = Semi_EM_MultinomialNB(alpha=1e-2, tol=100, print_log_lkh=False) # semi supervised EM based Naive Bayes classifier\n",
    "    cv_scores, cv_time = cross_validation(em_nb_clf, X_l[:n_l_docs,], y_l[:n_l_docs],True,X_u)\n",
    "    em_nb_cv_scores.append(cv_scores)\n",
    "    em_nb_cv_times.append(cv_time)\n",
    "    print(\"Number of labeled documents: %6d\" % n_l_docs)"
   ]
  },
  {
   "cell_type": "code",
   "execution_count": 30,
   "metadata": {},
   "outputs": [
    {
     "data": {
      "text/plain": [
       "Text(0.5, 1.0, 'Cross-Validation Average Accuracy vs Number of Labeled Documents in Training Set')"
      ]
     },
     "execution_count": 30,
     "metadata": {},
     "output_type": "execute_result"
    },
    {
     "data": {
      "image/png": "[encoded data removed]",
      "text/plain": [
       "<Figure size 720x432 with 1 Axes>"
      ]
     },
     "metadata": {
      "needs_background": "light"
     },
     "output_type": "display_data"
    }
   ],
   "source": [
    "import seaborn as sns\n",
    "import matplotlib.pyplot as plt\n",
    "# plot CV accuracy comparisons\n",
    "nb_score_mean = list()\n",
    "nb_score_err = list()\n",
    "em_nb_score_mean = list()\n",
    "em_nb_score_err = list()\n",
    "for idx in range(len(experiments)):\n",
    "    nb_scores = [value['accuracy'] for value in nb_cv_scores[idx]]\n",
    "    nb_score_mean.append(np.mean(nb_scores))\n",
    "    nb_score_err.append(np.std(nb_scores))\n",
    "    em_nb_scores = [value['accuracy'] for value in em_nb_cv_scores[idx]]\n",
    "    em_nb_score_mean.append(np.mean(em_nb_scores))\n",
    "    em_nb_score_err.append(np.std(em_nb_scores))\n",
    "fig = plt.figure(figsize=(10,6))\n",
    "ax = fig.add_subplot(111)\n",
    "ax.plot(experiments, nb_score_mean, color='b', linewidth=2, label='Traditional Naive Bayes')\n",
    "ax.errorbar(experiments, nb_score_mean, yerr=nb_score_err, fmt='s', color='b')\n",
    "ax.plot(experiments, em_nb_score_mean, color='r', linewidth=2, label='Semisupervised EM Naive Bayes')\n",
    "ax.errorbar(experiments, em_nb_score_mean, yerr=em_nb_score_err, fmt='o', color='r')\n",
    "ax.set_xlabel('Number of Labeled Documents')\n",
    "ax.set_ylabel('Accuracy')\n",
    "ax.set_xlim(left=np.min(experiments)-10, right=np.max(experiments)+100)\n",
    "ax.set_xscale('log')\n",
    "ax.set_xticks([200, 1000, 5000]) \n",
    "ax.set_xticklabels([r'$2\\times10^2$', r'$10^3$', r'$5\\times10^3$'], fontsize=15)\n",
    "plt.legend(loc='upper left')\n",
    "plt.title('Cross-Validation Average Accuracy vs Number of Labeled Documents in Training Set')"
   ]
  },
  {
   "cell_type": "markdown",
   "metadata": {
    "id": "JoJTgi8BQFlY"
   },
   "source": [
    "# SGD"
   ]
  },
  {
   "cell_type": "code",
   "execution_count": null,
   "metadata": {
    "id": "ZM7qZgFxtAIR"
   },
   "outputs": [],
   "source": [
    "sdg_params = dict(alpha=1e-5, penalty='l2', loss='log')\n",
    "\n",
    "fitFinalPipeline (SGDClassifier(**sdg_params), news_df['news'], news_df['class'])"
   ]
  },
  {
   "cell_type": "markdown",
   "metadata": {
    "id": "8FN27lfqgezx"
   },
   "source": [
    "# Mask"
   ]
  },
  {
   "cell_type": "code",
   "execution_count": null,
   "metadata": {
    "colab": {
     "base_uri": "https://localhost:8080/"
    },
    "id": "iqRvFeunaFkK",
    "outputId": "7f02e329-72cb-4dc1-a4dd-ad2fd43965bf"
   },
   "outputs": [
    {
     "name": "stderr",
     "output_type": "stream",
     "text": [
      "/usr/local/lib/python3.7/dist-packages/ipykernel_launcher.py:3: SettingWithCopyWarning: \n",
      "A value is trying to be set on a copy of a slice from a DataFrame\n",
      "\n",
      "See the caveats in the documentation: https://pandas.pydata.org/pandas-docs/stable/user_guide/indexing.html#returning-a-view-versus-a-copy\n",
      "  This is separate from the ipykernel package so we can avoid doing imports until\n"
     ]
    }
   ],
   "source": [
    "y_mask = np.random.rand(len(news_sampled['class'])) < 0.2\n",
    "y_masked_class = news_sampled\n",
    "y_masked_class['class'][~y_mask] = -1"
   ]
  },
  {
   "cell_type": "markdown",
   "metadata": {
    "id": "bdeh5mdFhEeb"
   },
   "source": [
    "# LabelSpreading"
   ]
  },
  {
   "cell_type": "code",
   "execution_count": null,
   "metadata": {
    "colab": {
     "base_uri": "https://localhost:8080/"
    },
    "id": "Xq3aPO-LhBz9",
    "outputId": "909ff3ac-de09-40df-a8a2-3f97fa02d19d"
   },
   "outputs": [
    {
     "name": "stderr",
     "output_type": "stream",
     "text": [
      "/usr/local/lib/python3.7/dist-packages/sklearn/semi_supervised/_label_propagation.py:292: ConvergenceWarning: max_iter=5 was reached without convergence.\n",
      "  category=ConvergenceWarning\n"
     ]
    },
    {
     "name": "stdout",
     "output_type": "stream",
     "text": [
      "              precision    recall  f1-score   support\n",
      "\n",
      "           0       0.00      0.00      0.00        18\n",
      "           1       0.00      0.00      0.00        17\n",
      "           2       0.06      1.00      0.11        22\n",
      "           3       1.00      0.05      0.10        19\n",
      "           4       0.00      0.00      0.00        21\n",
      "           5       1.00      0.04      0.08        25\n",
      "           6       0.00      0.00      0.00        19\n",
      "           7       0.00      0.00      0.00        21\n",
      "           8       0.00      0.00      0.00        21\n",
      "           9       0.00      0.00      0.00        18\n",
      "          10       0.00      0.00      0.00        22\n",
      "          11       0.00      0.00      0.00        10\n",
      "          12       0.00      0.00      0.00        23\n",
      "          13       0.00      0.00      0.00        20\n",
      "          14       0.00      0.00      0.00        30\n",
      "          15       0.00      0.00      0.00        23\n",
      "          16       0.00      0.00      0.00        18\n",
      "          17       0.00      0.00      0.00        24\n",
      "          18       0.00      0.00      0.00        19\n",
      "          19       0.00      0.00      0.00        10\n",
      "\n",
      "    accuracy                           0.06       400\n",
      "   macro avg       0.10      0.05      0.01       400\n",
      "weighted avg       0.11      0.06      0.02       400\n",
      "\n"
     ]
    },
    {
     "name": "stderr",
     "output_type": "stream",
     "text": [
      "/usr/local/lib/python3.7/dist-packages/sklearn/semi_supervised/_label_propagation.py:205: RuntimeWarning: invalid value encountered in true_divide\n",
      "  probabilities /= normalizer\n",
      "/usr/local/lib/python3.7/dist-packages/sklearn/metrics/_classification.py:1248: UndefinedMetricWarning: Precision and F-score are ill-defined and being set to 0.0 in labels with no predicted samples. Use `zero_division` parameter to control this behavior.\n",
      "  _warn_prf(average, modifier, msg_start, len(result))\n",
      "/usr/local/lib/python3.7/dist-packages/sklearn/metrics/_classification.py:1248: UndefinedMetricWarning: Precision and F-score are ill-defined and being set to 0.0 in labels with no predicted samples. Use `zero_division` parameter to control this behavior.\n",
      "  _warn_prf(average, modifier, msg_start, len(result))\n",
      "/usr/local/lib/python3.7/dist-packages/sklearn/metrics/_classification.py:1248: UndefinedMetricWarning: Precision and F-score are ill-defined and being set to 0.0 in labels with no predicted samples. Use `zero_division` parameter to control this behavior.\n",
      "  _warn_prf(average, modifier, msg_start, len(result))\n"
     ]
    }
   ],
   "source": [
    "fitFinalPipeline (LabelSpreading(gamma=0.25, max_iter=50), news_sampled['news'], y_masked_class['class'], news_sampled_test['news'], news_sampled_test['class'])"
   ]
  },
  {
   "cell_type": "markdown",
   "metadata": {
    "id": "9pgFtYFWgi0F"
   },
   "source": [
    "# SelfTrainingClassifier"
   ]
  },
  {
   "cell_type": "code",
   "execution_count": null,
   "metadata": {
    "colab": {
     "base_uri": "https://localhost:8080/"
    },
    "id": "yhJG2zvsXij3",
    "outputId": "675a6cd1-c454-4dcc-b03f-abad7b5adfcb"
   },
   "outputs": [
    {
     "name": "stdout",
     "output_type": "stream",
     "text": [
      "End of iteration 1, added 1458 new labels.\n",
      "End of iteration 2, added 127 new labels.\n",
      "End of iteration 3, added 16 new labels.\n",
      "End of iteration 4, added 1 new labels.\n",
      "End of iteration 5, added 1 new labels.\n",
      "              precision    recall  f1-score   support\n",
      "\n",
      "           0       0.50      0.50      0.50        18\n",
      "           1       0.83      0.29      0.43        17\n",
      "           2       0.52      0.64      0.57        22\n",
      "           3       1.00      0.11      0.19        19\n",
      "           4       0.36      0.19      0.25        21\n",
      "           5       0.43      0.64      0.52        25\n",
      "           6       0.60      0.63      0.62        19\n",
      "           7       0.50      0.52      0.51        21\n",
      "           8       0.68      0.62      0.65        21\n",
      "           9       0.62      0.56      0.59        18\n",
      "          10       0.54      0.68      0.60        22\n",
      "          11       0.36      0.50      0.42        10\n",
      "          12       0.75      0.13      0.22        23\n",
      "          13       0.13      0.65      0.22        20\n",
      "          14       0.59      0.33      0.43        30\n",
      "          15       0.55      0.26      0.35        23\n",
      "          16       0.43      0.17      0.24        18\n",
      "          17       0.41      0.50      0.45        24\n",
      "          18       0.60      0.32      0.41        19\n",
      "          19       0.00      0.00      0.00        10\n",
      "\n",
      "    accuracy                           0.42       400\n",
      "   macro avg       0.52      0.41      0.41       400\n",
      "weighted avg       0.54      0.42      0.42       400\n",
      "\n"
     ]
    }
   ],
   "source": [
    "sdg_params = dict(alpha=1e-5, penalty='l2', loss='log')\n",
    "fitFinalPipeline (SelfTrainingClassifier(SGDClassifier(**sdg_params), verbose=True), news_sampled['news'], y_masked_class['class'], news_sampled_test['news'], news_sampled_test['class'])"
   ]
  }
 ],
 "metadata": {
  "accelerator": "GPU",
  "colab": {
   "collapsed_sections": [
    "TSyHK_bQO8J7",
    "3o7_P423OVhu",
    "c6VpZbNtbU9u",
    "A3btQC87c3Wa",
    "Y0mlz46-Cqql",
    "m0sKlFk8QFlV",
    "MwHFHrhoCwkV",
    "9t0BxFtD83u6",
    "JoJTgi8BQFlY",
    "8FN27lfqgezx",
    "bdeh5mdFhEeb",
    "9pgFtYFWgi0F"
   ],
   "machine_shape": "hm",
   "name": "Oishi_ATIML_final.ipynb",
   "provenance": []
  },
  "kernelspec": {
   "display_name": "Python 3",
   "language": "python",
   "name": "python3"
  },
  "language_info": {
   "codemirror_mode": {
    "name": "ipython",
    "version": 3
   },
   "file_extension": ".py",
   "mimetype": "text/x-python",
   "name": "python",
   "nbconvert_exporter": "python",
   "pygments_lexer": "ipython3",
   "version": "3.8.5"
  }
 },
 "nbformat": 4,
 "nbformat_minor": 1
}
