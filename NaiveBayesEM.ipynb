{
  "nbformat": 4,
  "nbformat_minor": 0,
  "metadata": {
    "colab": {
      "name": "NaiveBayesEM.ipynb",
      "provenance": [],
      "authorship_tag": "ABX9TyO/BC+G3I4i0KF584NoBC/2",
      "include_colab_link": true
    },
    "kernelspec": {
      "name": "python3",
      "display_name": "Python 3"
    },
    "language_info": {
      "name": "python"
    }
  },
  "cells": [
    {
      "cell_type": "markdown",
      "metadata": {
        "id": "view-in-github",
        "colab_type": "text"
      },
      "source": [
        "<a href=\"https://colab.research.google.com/github/aniruddh-shukla/ATML-proj/blob/main/NaiveBayesEM.ipynb\" target=\"_parent\"><img src=\"https://colab.research.google.com/assets/colab-badge.svg\" alt=\"Open In Colab\"/></a>"
      ]
    },
    {
      "cell_type": "code",
      "metadata": {
        "colab": {
          "base_uri": "https://localhost:8080/"
        },
        "id": "HsWgA532htYx",
        "outputId": "6b4c5e49-3933-4302-e89d-176502b8c1df"
      },
      "source": [
        "!pip install --upgrade sklearn"
      ],
      "execution_count": 1,
      "outputs": [
        {
          "output_type": "stream",
          "text": [
            "Requirement already up-to-date: sklearn in /usr/local/lib/python3.7/dist-packages (0.0)\n",
            "Requirement already satisfied, skipping upgrade: scikit-learn in /usr/local/lib/python3.7/dist-packages (from sklearn) (0.22.2.post1)\n",
            "Requirement already satisfied, skipping upgrade: numpy>=1.11.0 in /usr/local/lib/python3.7/dist-packages (from scikit-learn->sklearn) (1.19.5)\n",
            "Requirement already satisfied, skipping upgrade: scipy>=0.17.0 in /usr/local/lib/python3.7/dist-packages (from scikit-learn->sklearn) (1.4.1)\n",
            "Requirement already satisfied, skipping upgrade: joblib>=0.11 in /usr/local/lib/python3.7/dist-packages (from scikit-learn->sklearn) (1.0.1)\n"
          ],
          "name": "stdout"
        }
      ]
    },
    {
      "cell_type": "code",
      "metadata": {
        "id": "MiwyS7ZIhKcD"
      },
      "source": [
        "import numpy as np\n",
        "\n",
        "from copy import deepcopy\n",
        "from scipy.sparse import csr_matrix, vstack\n",
        "from sklearn.naive_bayes import MultinomialNB\n",
        "from sklearn.naive_bayes import GaussianNB\n",
        "from scipy.linalg import get_blas_funcs\n",
        "from sklearn.semi_supervised import LabelPropagation, LabelSpreading\n",
        "\n",
        "class Semi_EM_MultinomialNB():\n",
        "    \"\"\"\n",
        "    Naive Bayes classifier for multinomial models for semi-supervised learning.\n",
        "    \n",
        "    Use both labeled and unlabeled data to train NB classifier, update parameters\n",
        "    using unlabeled data, and all data to evaluate performance of classifier. Optimize\n",
        "    classifier using Expectation-Maximization algorithm.\n",
        "    \"\"\"\n",
        "    def __init__(self, alpha=1.0, fit_prior=True, class_prior=None, max_iter=30, tol=1e-6, print_log_lkh=True):\n",
        "        self.alpha = alpha\n",
        "        self.fit_prior = fit_prior\n",
        "        self.class_prior = class_prior\n",
        "        self.clf = MultinomialNB(alpha=self.alpha, fit_prior=self.fit_prior, class_prior=self.class_prior)\n",
        "        self.log_lkh = -np.inf # log likelihood\n",
        "        self.max_iter = max_iter # max number of EM iterations\n",
        "        self.tol = tol # tolerance of log likelihood increment\n",
        "        self.feature_log_prob_ = np.array([]) # Empirical log probability of features given a class, P(x_i|y).\n",
        "        self.coef_ = np.array([]) # Mirrors feature_log_prob_ for interpreting MultinomialNB as a linear model.\n",
        "        self.print_log_lkh = print_log_lkh # if True, print log likelihood during EM iterations\n",
        "\n",
        "    def fit(self, X_l, y_l, X_u):\n",
        "        \"\"\"\n",
        "        Initialize the parameter using labeled data only.\n",
        "        Assume unlabeled class as missing values, apply EM on unlabeled data to refine classifier.\n",
        "        \"\"\"\n",
        "        n_ul_docs = X_u.shape[0] # number of unlabeled samples\n",
        "        n_l_docs = X_l.shape[0] # number of labeled samples\n",
        "        # initialization (n_docs = n_ul_docs)\n",
        "        clf = deepcopy(self.clf)# build new copy of classifier\n",
        "        clf.fit(X_l, y_l) # use labeled data only to initialize classifier parameters\n",
        "        prev_log_lkh = self.log_lkh # record log likelihood of previous EM iteration\n",
        "        lp_w_c = clf.feature_log_prob_ # log CP of word given class [n_classes, n_words]\n",
        "        b_w_d = (X_u > 0) # words in each document [n_docs, n_words]\n",
        "        lp_d_c = get_blas_funcs(\"gemm\", [lp_w_c, b_w_d.T.toarray()]) # log CP of doc given class [n_classes, n_docs]\n",
        "        lp_d_c = lp_d_c(alpha=1.0, a=lp_w_c, b=b_w_d.T.toarray()) \n",
        "        lp_c = np.matrix(clf.class_log_prior_).T # log prob of classes [n_classes, 1]\n",
        "        lp_c = np.repeat(lp_c, n_ul_docs, axis=1) # repeat for each doc [n_classes, n_docs]\n",
        "        lp_dc = lp_d_c + lp_c # joint prob of doc and class [n_classes, n_docs]\n",
        "        p_c_d = clf.predict_proba(X_u) # weight of each class in each doc [n_docs, n_classes]\n",
        "        expectation = get_blas_funcs(\"gemm\", [p_c_d, lp_dc]) # expectation of log likelihood over all unlabeled docs\n",
        "        expectation = expectation(alpha=1.0, a=p_c_d, b=lp_dc).trace() \n",
        "        self.clf = deepcopy(clf)\n",
        "        self.log_lkh = expectation\n",
        "        if self.print_log_lkh:\n",
        "            print(\"Initial expected log likelihood = %0.3f\\n\" % expectation)\n",
        "        # Loop until log likelihood does not improve\n",
        "        iter_count = 0 # count EM iteration\n",
        "        while (self.log_lkh-prev_log_lkh>=self.tol and iter_count<self.max_iter):\n",
        "        # while (iter_count<self.max_iter):\n",
        "            iter_count += 1\n",
        "            if self.print_log_lkh:\n",
        "                print(\"EM iteration #%d\" % iter_count) # debug\n",
        "            # E-step: Estimate class membership of unlabeled documents\n",
        "            y_u = clf.predict(X_u)\n",
        "            # M-step: Re-estimate classifier parameters\n",
        "            X = vstack([X_l, X_u])\n",
        "            y = np.concatenate((y_l, y_u), axis=0)\n",
        "            clf.fit(X, y)\n",
        "            # check convergence: update log likelihood\n",
        "            p_c_d = clf.predict_proba(X_u)\n",
        "            lp_w_c = clf.feature_log_prob_ # log CP of word given class [n_classes, n_words]\n",
        "            b_w_d = (X_u > 0) # words in each document\n",
        "            lp_d_c = get_blas_funcs(\"gemm\", [lp_w_c, b_w_d.transpose().toarray()]) # log CP of doc given class [n_classes, n_docs]\n",
        "            lp_d_c = lp_d_c(alpha=1.0, a=lp_w_c, b=b_w_d.transpose().toarray()) \n",
        "            lp_c = np.matrix(clf.class_log_prior_).T # log prob of classes [n_classes, 1]\n",
        "            lp_c = np.repeat(lp_c, n_ul_docs, axis=1) # repeat for each doc [n_classes, n_docs]\n",
        "            lp_dc = lp_d_c + lp_c  # joint prob of doc and class [n_classes, n_docs]\n",
        "            expectation = get_blas_funcs(\"gemm\", [p_c_d, lp_dc]) # expectation of log likelihood over all unlabeled docs\n",
        "            expectation = expectation(alpha=1.0, a=p_c_d, b=lp_dc).trace() \n",
        "            if self.print_log_lkh:\n",
        "                print(\"\\tExpected log likelihood = %0.3f\" % expectation)\n",
        "            if (expectation-self.log_lkh >= self.tol):\n",
        "                prev_log_lkh = self.log_lkh\n",
        "                self.log_lkh = expectation\n",
        "                self.clf = deepcopy(clf)\n",
        "            else:\n",
        "                break\n",
        "        self.feature_log_prob_ = self.clf.feature_log_prob_\n",
        "        self.coef_ = self.clf.coef_\n",
        "        return self\n",
        "\n",
        "    def fit_with_clustering(self, X_l, y_l, X_u, y_u=None):\n",
        "        \"\"\"\n",
        "        Initialize the parameter using both labeled and unlabeled data.\n",
        "        The classes of unlabeled data are assigned using similarity with labeled data.\n",
        "        Assume unlabeled class as missing values, apply EM on unlabeled data to refine classifier.\n",
        "        The label propagation can only use dense matrix, so it is quite time consuming.\n",
        "        \"\"\"\n",
        "        n_ul_docs = X_u.shape[0] # number of unlabeled samples\n",
        "        n_l_docs = X_l.shape[0] # number of labeled samples\n",
        "        # initialization (n_docs = n_ul_docs): \n",
        "        # assign class to unlabeled data using similarity with labeled data if y_u is not given\n",
        "        if (y_u==None):\n",
        "            label_prop_model = LabelSpreading(kernel='rbf', max_iter=5, n_jobs=-1)\n",
        "            y_u = np.array([-1.0]*n_ul_docs)\n",
        "            X = vstack([X_l, X_u])\n",
        "            y = np.concatenate((y_l, y_u), axis=0)\n",
        "            label_prop_model.fit(X.toarray(), y)\n",
        "            y_u = label_prop_model.predict(X_u.toarray())\n",
        "        y = np.concatenate((y_l, y_u), axis=0)\n",
        "        clf = deepcopy(self.clf)# build new copy of classifier\n",
        "        clf.fit(X, y) # use labeled data only to initialize classifier parameters\n",
        "        prev_log_lkh = self.log_lkh # record log likelihood of previous EM iteration\n",
        "        lp_w_c = clf.feature_log_prob_ # log CP of word given class [n_classes, n_words]\n",
        "        b_w_d = (X_u > 0) # words in each document [n_docs, n_words]\n",
        "        lp_d_c = get_blas_funcs(\"gemm\", [lp_w_c, b_w_d.T.toarray()]) # log CP of doc given class [n_classes, n_docs]\n",
        "        lp_d_c = lp_d_c(alpha=1.0, a=lp_w_c, b=b_w_d.T.toarray()) \n",
        "        lp_c = np.matrix(clf.class_log_prior_).T # log prob of classes [n_classes, 1]\n",
        "        lp_c = np.repeat(lp_c, n_ul_docs, axis=1) # repeat for each doc [n_classes, n_docs]\n",
        "        lp_dc = lp_d_c + lp_c # joint prob of doc and class [n_classes, n_docs]\n",
        "        p_c_d = clf.predict_proba(X_u) # weight of each class in each doc [n_docs, n_classes]\n",
        "        expectation = get_blas_funcs(\"gemm\", [p_c_d, lp_dc]) # expectation of log likelihood over all unlabeled docs\n",
        "        expectation = expectation(alpha=1.0, a=p_c_d, b=lp_dc).trace() \n",
        "        self.clf = deepcopy(clf)\n",
        "        self.log_lkh = expectation\n",
        "        if self.print_log_lkh:\n",
        "            print(\"Initial expected log likelihood = %0.3f\\n\" % expectation)\n",
        "        # Loop until log likelihood does not improve\n",
        "        iter_count = 0 # count EM iteration\n",
        "        while (self.log_lkh-prev_log_lkh>=self.tol and iter_count<self.max_iter):\n",
        "        # while (iter_count<self.max_iter):\n",
        "            iter_count += 1\n",
        "            if self.print_log_lkh:\n",
        "                print(\"EM iteration #%d\" % iter_count) # debug\n",
        "            # E-step: Estimate class membership of unlabeled documents\n",
        "            y_u = clf.predict(X_u)\n",
        "            # M-step: Re-estimate classifier parameters\n",
        "            X = vstack([X_l, X_u])\n",
        "            y = np.concatenate((y_l, y_u), axis=0)\n",
        "            clf.fit(X, y)\n",
        "            # check convergence: update log likelihood\n",
        "            p_c_d = clf.predict_proba(X_u)\n",
        "            lp_w_c = clf.feature_log_prob_ # log CP of word given class [n_classes, n_words]\n",
        "            b_w_d = (X_u > 0) # words in each document\n",
        "            lp_d_c = get_blas_funcs(\"gemm\", [lp_w_c, b_w_d.transpose().toarray()]) # log CP of doc given class [n_classes, n_docs]\n",
        "            lp_d_c = lp_d_c(alpha=1.0, a=lp_w_c, b=b_w_d.transpose().toarray()) \n",
        "            lp_c = np.matrix(clf.class_log_prior_).T # log prob of classes [n_classes, 1]\n",
        "            lp_c = np.repeat(lp_c, n_ul_docs, axis=1) # repeat for each doc [n_classes, n_docs]\n",
        "            lp_dc = lp_d_c + lp_c  # joint prob of doc and class [n_classes, n_docs]\n",
        "            expectation = get_blas_funcs(\"gemm\", [p_c_d, lp_dc]) # expectation of log likelihood over all unlabeled docs\n",
        "            expectation = expectation(alpha=1.0, a=p_c_d, b=lp_dc).trace() \n",
        "            if self.print_log_lkh:\n",
        "                print(\"\\tExpected log likelihood = %0.3f\" % expectation)\n",
        "            if (expectation-self.log_lkh >= self.tol):\n",
        "                prev_log_lkh = self.log_lkh\n",
        "                self.log_lkh = expectation\n",
        "                self.clf = deepcopy(clf)\n",
        "            else:\n",
        "                break\n",
        "        self.feature_log_prob_ = self.clf.feature_log_prob_\n",
        "        self.coef_ = self.clf.coef_\n",
        "        return self\n",
        "\n",
        "    def partial_fit(self, X_l, y_l, X_u=np.array([])):\n",
        "        \"\"\"\n",
        "        Initialize the parameter using labeled data only.\n",
        "        Assume unlabeled class as missing values, apply EM on unlabeled data to refine classifier.\n",
        "        This function can only be used after fit()\n",
        "        \"\"\"\n",
        "        n_ul_docs = X_u.shape[0] # number of unlabeled samples\n",
        "        n_l_docs = X_l.shape[0] # number of labeled samples\n",
        "        # initialization (n_docs = n_ul_docs)\n",
        "        clf = deepcopy(self.clf)# build new copy of classifier\n",
        "        clf.partial_fit(X_l, y_l) # use labeled data only to initialize classifier parameters\n",
        "        prev_log_lkh = self.log_lkh # record log likelihood of previous EM iteration\n",
        "        lp_w_c = clf.feature_log_prob_ # log CP of word given class [n_classes, n_words]\n",
        "        b_w_d = (X_u > 0) # words in each document [n_docs, n_words]\n",
        "        lp_d_c = get_blas_funcs(\"gemm\", [lp_w_c, b_w_d.T.toarray()]) # log CP of doc given class [n_classes, n_docs]\n",
        "        lp_d_c = lp_d_c(alpha=1.0, a=lp_w_c, b=b_w_d.T.toarray()) \n",
        "        lp_c = np.matrix(clf.class_log_prior_).T # log prob of classes [n_classes, 1]\n",
        "        lp_c = np.repeat(lp_c, n_ul_docs, axis=1) # repeat for each doc [n_classes, n_docs]\n",
        "        lp_dc = lp_d_c + lp_c # joint prob of doc and class [n_classes, n_docs]\n",
        "        p_c_d = clf.predict_proba(X_u) # weight of each class in each doc [n_docs, n_classes]\n",
        "        expectation = get_blas_funcs(\"gemm\", [p_c_d, lp_dc]) # expectation of log likelihood over all unlabeled docs\n",
        "        expectation = expectation(alpha=1.0, a=p_c_d, b=lp_dc).trace() \n",
        "        self.clf = deepcopy(clf)\n",
        "        self.log_lkh = expectation\n",
        "        print(\"Initial expected log likelihood = %0.3f\\n\" % expectation)\n",
        "        # Loop until log likelihood does not improve\n",
        "        iter_count = 0 # count EM iteration\n",
        "        while (self.log_lkh-prev_log_lkh>=self.tol and iter_count<self.max_iter):\n",
        "        # while (iter_count<self.max_iter):\n",
        "            iter_count += 1\n",
        "            print(\"EM iteration #%d\" % iter_count) # debug\n",
        "            # E-step: Estimate class membership of unlabeled documents\n",
        "            y_u = clf.predict(X_u)\n",
        "            # M-step: Re-estimate classifier parameters\n",
        "            X = vstack([X_l, X_u])\n",
        "            y = np.concatenate((y_l, y_u), axis=0)\n",
        "            clf.partial_fit(X, y)\n",
        "            # check convergence: update log likelihood\n",
        "            p_c_d = clf.predict_proba(X_u)\n",
        "            lp_w_c = clf.feature_log_prob_ # log CP of word given class [n_classes, n_words]\n",
        "            b_w_d = (X_u > 0) # words in each document\n",
        "            lp_d_c = get_blas_funcs(\"gemm\", [lp_w_c, b_w_d.transpose().toarray()]) # log CP of doc given class [n_classes, n_docs]\n",
        "            lp_d_c = lp_d_c(alpha=1.0, a=lp_w_c, b=b_w_d.transpose().toarray()) \n",
        "            lp_c = np.matrix(clf.class_log_prior_).T # log prob of classes [n_classes, 1]\n",
        "            lp_c = np.repeat(lp_c, n_ul_docs, axis=1) # repeat for each doc [n_classes, n_docs]\n",
        "            lp_dc = lp_d_c + lp_c  # joint prob of doc and class [n_classes, n_docs]\n",
        "            expectation = get_blas_funcs(\"gemm\", [p_c_d, lp_dc]) # expectation of log likelihood over all unlabeled docs\n",
        "            expectation = expectation(alpha=1.0, a=p_c_d, b=lp_dc).trace() \n",
        "            print(\"\\tExpected log likelihood = %0.3f\" % expectation)\n",
        "            if (expectation-self.log_lkh >= self.tol):\n",
        "                prev_log_lkh = self.log_lkh\n",
        "                self.log_lkh = expectation\n",
        "                self.clf = deepcopy(clf)\n",
        "            else:\n",
        "                break\n",
        "        self.feature_log_prob_ = self.clf.feature_log_prob_\n",
        "        self.coef_ = self.clf.coef_\n",
        "        return self\n",
        "\n",
        "    def predict(self, X):\n",
        "        return self.clf.predict(X)\n",
        "\n",
        "    def score(self, X, y):\n",
        "        return self.clf.score(X, y)\n",
        "\n",
        "    def get_params(deep=True):\n",
        "        return self.clf.get_params(deep)\n",
        "\n",
        "    def __str__(self):\n",
        "        return self.clf.__str__()"
      ],
      "execution_count": 2,
      "outputs": []
    },
    {
      "cell_type": "code",
      "metadata": {
        "id": "KH4nB28oiKz2"
      },
      "source": [
        "# Import packages and libraries\n",
        "import numpy as np\n",
        "import random as rnd\n",
        "import re\n",
        "import seaborn as sns\n",
        "import matplotlib.pyplot as plt\n",
        "%matplotlib inline\n",
        "\n",
        "from sklearn.datasets import fetch_20newsgroups\n",
        "from sklearn.feature_extraction.text import TfidfVectorizer\n",
        "from sklearn.model_selection import train_test_split, StratifiedShuffleSplit\n",
        "from sklearn.naive_bayes import MultinomialNB\n",
        "from sklearn.model_selection import KFold, StratifiedKFold, ShuffleSplit\n",
        "from sklearn import metrics\n",
        "\n",
        "from time import time\n",
        "from pprint import pprint\n",
        "from copy import deepcopy\n",
        "from wordcloud import WordCloud \n",
        "#from Semi_EM_NB import Semi_EM_MultinomialNB\n",
        "from os import path\n",
        "from PIL import Image\n",
        "\n",
        "from nltk.corpus import stopwords\n",
        "from nltk.tokenize import RegexpTokenizer\n",
        "from nltk.stem.porter import PorterStemmer\n",
        "from nltk.stem import WordNetLemmatizer"
      ],
      "execution_count": 3,
      "outputs": []
    },
    {
      "cell_type": "code",
      "metadata": {
        "id": "kLIjz8tIiXAV"
      },
      "source": [
        "def remove_noise(sentence):\n",
        "    result = ''\n",
        "    poster = PorterStemmer()\n",
        "    lemmatizer = WordNetLemmatizer()\n",
        "    stopword_set = set(stopwords.words('english'))\n",
        "    wordlist = re.sub(r\"\\n|(\\\\(.*?){)|}|[!$%^&*#()_+|~\\-={}\\[\\]:\\\";'<>?,.\\/\\\\]|[0-9]|[@]\", ' ', sentence) # remove punctuation\n",
        "    wordlist = re.sub('\\s+', ' ', wordlist) # remove extra space\n",
        "    wordlist_normal = [poster.stem(word.lower()) for word in wordlist.split()] # restore word to its original form (stemming)\n",
        "    wordlist_normal = [lemmatizer.lemmatize(word, pos='v') for word in wordlist_normal] # restore word to its root form (lemmatization)\n",
        "    wordlist_clean = [word for word in wordlist_normal if word not in stopword_set] # remove stopwords\n",
        "    result = ' '.join(wordlist_clean)\n",
        "    return result"
      ],
      "execution_count": 4,
      "outputs": []
    },
    {
      "cell_type": "code",
      "metadata": {
        "id": "OAjEhPrNieV1"
      },
      "source": [
        "def cross_validation(clf, data_X, data_y, unlabeled=None, n_folds=5):\n",
        "    print('=' * 80)\n",
        "    print(\"Validation: \")\n",
        "    print(clf)\n",
        "    kf = StratifiedKFold(n_splits=n_folds)\n",
        "    start_time = time()\n",
        "    train_scores = list() # training accuracy\n",
        "    fold_count = 1\n",
        "    original_clf = deepcopy(clf)\n",
        "    avg_accuracy = 0\n",
        "    for train_ids, valid_ids in kf.split(data_X, data_y):\n",
        "        cv_clf = deepcopy(original_clf)\n",
        "        print(\"Fold # %d\" % fold_count)\n",
        "        fold_count += 1\n",
        "        train_X, train_y, valid_X, valid_y = data_X[train_ids], data_y[train_ids], data_X[valid_ids], data_y[valid_ids]\n",
        "        if unlabeled==None:\n",
        "            cv_clf.fit(train_X, train_y)\n",
        "        else:\n",
        "            cv_clf.fit(train_X, train_y, unlabeled)\n",
        "        pred = cv_clf.predict(valid_X)\n",
        "        scores = dict()\n",
        "        scores['accuracy'] = metrics.accuracy_score(valid_y, pred)\n",
        "        scores['recall'] = metrics.recall_score(valid_y, pred, average='macro')\n",
        "        scores['precision'] = metrics.precision_score(valid_y, pred, average='macro')\n",
        "        scores['f1_score'] = metrics.f1_score(valid_y, pred, average='macro')\n",
        "        train_scores.append(scores)\n",
        "        avg_accuracy += scores['accuracy']\n",
        "    train_time = time() - start_time\n",
        "    print(\"Validation time: %0.3f seconds\" % train_time)\n",
        "    print(\"Average training accuracy: %0.3f\" % (avg_accuracy/n_folds))\n",
        "    return train_scores, train_time"
      ],
      "execution_count": 5,
      "outputs": []
    },
    {
      "cell_type": "code",
      "metadata": {
        "id": "nHfUuJSpifez"
      },
      "source": [
        "def show_topK(classifier, vectorizer, categories, K=10):\n",
        "    feature_names = np.asarray(vectorizer.get_feature_names())\n",
        "    nrows, ncols = 5, 4\n",
        "    fig, axes = plt.subplots(figsize=(50, 40), nrows=nrows, ncols=ncols)\n",
        "    #d = path.dirname(__file__)\n",
        "    circle_mask = np.array(Image.open(path.join('./', \"circle.png\")))\n",
        "    for i, category in enumerate(categories):\n",
        "        topK = np.argsort(classifier.coef_[i])[-K:]\n",
        "        text = \" \".join(feature_names[topK])\n",
        "        print(\"%s: %s\" % (category, text))\n",
        "        wordcloud = WordCloud(background_color=\"white\", mask=circle_mask).generate(text)\n",
        "        axes[i//ncols, i%ncols].imshow(wordcloud, cmap=plt.cm.cool_r, interpolation='bilinear')\n",
        "        axes[i//ncols, i%ncols].axis(\"off\")\n",
        "        axes[i//ncols, i%ncols].set_title(category, fontweight=\"bold\", size=24)\n",
        "    plt.show()"
      ],
      "execution_count": 6,
      "outputs": []
    },
    {
      "cell_type": "code",
      "metadata": {
        "colab": {
          "base_uri": "https://localhost:8080/"
        },
        "id": "SLyzbXqvijeH",
        "outputId": "d56a55fb-1331-4b3c-e87b-2a78add9509b"
      },
      "source": [
        "# Load data set with class labels and split into train and test set\n",
        "test_size_ratio = 0.2\n",
        "data_Xy = fetch_20newsgroups(subset='all', remove=('headers', 'footers', 'quotes'), shuffle=True)\n",
        "category_names = data_Xy.target_names # text names of all categories\n",
        "train_X, test_X, train_y, test_y = train_test_split(data_Xy.data, data_Xy.target, test_size=test_size_ratio, stratify=data_Xy.target)\n",
        "print(\"Training set size: %8d\\tTest set size: %8d\" % (len(train_X), len(test_X)))"
      ],
      "execution_count": 7,
      "outputs": [
        {
          "output_type": "stream",
          "text": [
            "Training set size:    15076\tTest set size:     3770\n"
          ],
          "name": "stdout"
        }
      ]
    },
    {
      "cell_type": "code",
      "metadata": {
        "id": "VznLVGKLinKb"
      },
      "source": [
        "# preprocess train and test text data\n",
        "train_X_clean = map(remove_noise, train_X)\n",
        "test_X_clean = map(remove_noise, test_X)"
      ],
      "execution_count": 8,
      "outputs": []
    },
    {
      "cell_type": "code",
      "metadata": {
        "colab": {
          "base_uri": "https://localhost:8080/"
        },
        "id": "lLwZT43oi03y",
        "outputId": "6116ebda-4ba0-4778-be3d-2fadce9ef717"
      },
      "source": [
        "import nltk\n",
        "nltk.download('stopwords')\n",
        "nltk.download('wordnet')"
      ],
      "execution_count": 9,
      "outputs": [
        {
          "output_type": "stream",
          "text": [
            "[nltk_data] Downloading package stopwords to /root/nltk_data...\n",
            "[nltk_data]   Package stopwords is already up-to-date!\n",
            "[nltk_data] Downloading package wordnet to /root/nltk_data...\n",
            "[nltk_data]   Package wordnet is already up-to-date!\n"
          ],
          "name": "stdout"
        },
        {
          "output_type": "execute_result",
          "data": {
            "text/plain": [
              "True"
            ]
          },
          "metadata": {
            "tags": []
          },
          "execution_count": 9
        }
      ]
    },
    {
      "cell_type": "code",
      "metadata": {
        "colab": {
          "base_uri": "https://localhost:8080/"
        },
        "id": "bKe0JKn2iqxu",
        "outputId": "16aa1a46-92ff-46f8-a3db-16f4793188cc"
      },
      "source": [
        "# Convert all text data into tf-idf vectors \n",
        "vectorizer = TfidfVectorizer(stop_words='english', min_df=5, max_df=0.95)\n",
        "# vectorizer = TfidfVectorizer()\n",
        "train_vec = vectorizer.fit_transform(train_X_clean)\n",
        "test_vec = vectorizer.transform(test_X_clean)\n",
        "print (train_vec.shape, test_vec.shape)"
      ],
      "execution_count": 10,
      "outputs": [
        {
          "output_type": "stream",
          "text": [
            "(15076, 13114) (3770, 13114)\n"
          ],
          "name": "stdout"
        }
      ]
    },
    {
      "cell_type": "code",
      "metadata": {
        "colab": {
          "base_uri": "https://localhost:8080/"
        },
        "id": "tTDte95gjHNe",
        "outputId": "51625f8e-04ee-44b7-82c0-4a1359c651d7"
      },
      "source": [
        "# Divide train data set into labeled and unlabeled data sets\n",
        "split_ratio = 0.2 # labeled vs total(labeled+unlabeled)\n",
        "# X_l, X_u, y_l, y_u = train_test_split(train_vec, train_y, train_size=split_ratio, stratify=train_y)\n",
        "X_l, X_u, y_l, y_u = train_test_split(train_vec, train_y, test_size=10000, stratify=train_y)\n",
        "experiments = np.logspace(2.3, 3.7, num=20, base=10, dtype='int')\n",
        "print (X_l.shape, X_u.shape)"
      ],
      "execution_count": 11,
      "outputs": [
        {
          "output_type": "stream",
          "text": [
            "(5076, 13114) (10000, 13114)\n"
          ],
          "name": "stdout"
        }
      ]
    },
    {
      "cell_type": "code",
      "metadata": {
        "colab": {
          "base_uri": "https://localhost:8080/"
        },
        "id": "ReGy0QIvjMok",
        "outputId": "318e4e00-6f13-4c4c-cf4a-1ee6e03d4f88"
      },
      "source": [
        "# Cross validation for Naive Bayes classifier \n",
        "# using labeled data set only\n",
        "nb_cv_scores = list()\n",
        "nb_cv_times = list()\n",
        "for n_l_docs in experiments:\n",
        "    nb_clf = MultinomialNB(alpha=1e-2)\n",
        "    cv_scores, cv_time = cross_validation(nb_clf, X_l[:n_l_docs,], y_l[:n_l_docs])\n",
        "    nb_cv_scores.append(cv_scores)\n",
        "    nb_cv_times.append(cv_time)\n",
        "    print(\"Number of labeled documents: %6d\" % n_l_docs)"
      ],
      "execution_count": 12,
      "outputs": [
        {
          "output_type": "stream",
          "text": [
            "================================================================================\n",
            "Validation: \n",
            "MultinomialNB(alpha=0.01, class_prior=None, fit_prior=True)\n",
            "Fold # 1\n",
            "Fold # 2\n",
            "Fold # 3\n",
            "Fold # 4\n",
            "Fold # 5\n",
            "Validation time: 0.074 seconds\n",
            "Average training accuracy: 0.387\n",
            "Number of labeled documents:    199\n",
            "================================================================================\n",
            "Validation: \n",
            "MultinomialNB(alpha=0.01, class_prior=None, fit_prior=True)\n",
            "Fold # 1\n",
            "Fold # 2\n",
            "Fold # 3\n",
            "Fold # 4\n",
            "Fold # 5\n",
            "Validation time: 0.081 seconds\n",
            "Average training accuracy: 0.411\n",
            "Number of labeled documents:    236\n",
            "================================================================================\n",
            "Validation: \n",
            "MultinomialNB(alpha=0.01, class_prior=None, fit_prior=True)\n",
            "Fold # 1\n",
            "Fold # 2\n",
            "Fold # 3\n"
          ],
          "name": "stdout"
        },
        {
          "output_type": "stream",
          "text": [
            "/usr/local/lib/python3.7/dist-packages/sklearn/metrics/_classification.py:1272: UndefinedMetricWarning: Precision is ill-defined and being set to 0.0 in labels with no predicted samples. Use `zero_division` parameter to control this behavior.\n",
            "  _warn_prf(average, modifier, msg_start, len(result))\n",
            "/usr/local/lib/python3.7/dist-packages/sklearn/metrics/_classification.py:1272: UndefinedMetricWarning: Precision is ill-defined and being set to 0.0 in labels with no predicted samples. Use `zero_division` parameter to control this behavior.\n",
            "  _warn_prf(average, modifier, msg_start, len(result))\n",
            "/usr/local/lib/python3.7/dist-packages/sklearn/metrics/_classification.py:1272: UndefinedMetricWarning: Precision is ill-defined and being set to 0.0 in labels with no predicted samples. Use `zero_division` parameter to control this behavior.\n",
            "  _warn_prf(average, modifier, msg_start, len(result))\n",
            "/usr/local/lib/python3.7/dist-packages/sklearn/metrics/_classification.py:1272: UndefinedMetricWarning: Precision is ill-defined and being set to 0.0 in labels with no predicted samples. Use `zero_division` parameter to control this behavior.\n",
            "  _warn_prf(average, modifier, msg_start, len(result))\n",
            "/usr/local/lib/python3.7/dist-packages/sklearn/metrics/_classification.py:1272: UndefinedMetricWarning: Precision is ill-defined and being set to 0.0 in labels with no predicted samples. Use `zero_division` parameter to control this behavior.\n",
            "  _warn_prf(average, modifier, msg_start, len(result))\n",
            "/usr/local/lib/python3.7/dist-packages/sklearn/metrics/_classification.py:1272: UndefinedMetricWarning: Precision is ill-defined and being set to 0.0 in labels with no predicted samples. Use `zero_division` parameter to control this behavior.\n",
            "  _warn_prf(average, modifier, msg_start, len(result))\n",
            "/usr/local/lib/python3.7/dist-packages/sklearn/metrics/_classification.py:1272: UndefinedMetricWarning: Precision is ill-defined and being set to 0.0 in labels with no predicted samples. Use `zero_division` parameter to control this behavior.\n",
            "  _warn_prf(average, modifier, msg_start, len(result))\n",
            "/usr/local/lib/python3.7/dist-packages/sklearn/metrics/_classification.py:1272: UndefinedMetricWarning: Precision is ill-defined and being set to 0.0 in labels with no predicted samples. Use `zero_division` parameter to control this behavior.\n",
            "  _warn_prf(average, modifier, msg_start, len(result))\n",
            "/usr/local/lib/python3.7/dist-packages/sklearn/metrics/_classification.py:1272: UndefinedMetricWarning: Precision is ill-defined and being set to 0.0 in labels with no predicted samples. Use `zero_division` parameter to control this behavior.\n",
            "  _warn_prf(average, modifier, msg_start, len(result))\n",
            "/usr/local/lib/python3.7/dist-packages/sklearn/metrics/_classification.py:1272: UndefinedMetricWarning: Precision is ill-defined and being set to 0.0 in labels with no predicted samples. Use `zero_division` parameter to control this behavior.\n",
            "  _warn_prf(average, modifier, msg_start, len(result))\n",
            "/usr/local/lib/python3.7/dist-packages/sklearn/metrics/_classification.py:1272: UndefinedMetricWarning: Precision is ill-defined and being set to 0.0 in labels with no predicted samples. Use `zero_division` parameter to control this behavior.\n",
            "  _warn_prf(average, modifier, msg_start, len(result))\n",
            "/usr/local/lib/python3.7/dist-packages/sklearn/metrics/_classification.py:1272: UndefinedMetricWarning: Precision is ill-defined and being set to 0.0 in labels with no predicted samples. Use `zero_division` parameter to control this behavior.\n",
            "  _warn_prf(average, modifier, msg_start, len(result))\n",
            "/usr/local/lib/python3.7/dist-packages/sklearn/metrics/_classification.py:1272: UndefinedMetricWarning: Precision is ill-defined and being set to 0.0 in labels with no predicted samples. Use `zero_division` parameter to control this behavior.\n",
            "  _warn_prf(average, modifier, msg_start, len(result))\n"
          ],
          "name": "stderr"
        },
        {
          "output_type": "stream",
          "text": [
            "Fold # 4\n",
            "Fold # 5\n",
            "Validation time: 0.093 seconds\n",
            "Average training accuracy: 0.457\n",
            "Number of labeled documents:    280\n",
            "================================================================================\n",
            "Validation: \n",
            "MultinomialNB(alpha=0.01, class_prior=None, fit_prior=True)\n",
            "Fold # 1\n",
            "Fold # 2\n",
            "Fold # 3\n",
            "Fold # 4\n",
            "Fold # 5\n",
            "Validation time: 0.077 seconds\n",
            "Average training accuracy: 0.462\n",
            "Number of labeled documents:    331\n",
            "================================================================================\n",
            "Validation: \n",
            "MultinomialNB(alpha=0.01, class_prior=None, fit_prior=True)\n",
            "Fold # 1\n",
            "Fold # 2\n",
            "Fold # 3\n",
            "Fold # 4\n",
            "Fold # 5\n",
            "Validation time: 0.091 seconds\n",
            "Average training accuracy: 0.473\n",
            "Number of labeled documents:    393\n",
            "================================================================================\n",
            "Validation: "
          ],
          "name": "stdout"
        },
        {
          "output_type": "stream",
          "text": [
            "/usr/local/lib/python3.7/dist-packages/sklearn/metrics/_classification.py:1272: UndefinedMetricWarning: Precision is ill-defined and being set to 0.0 in labels with no predicted samples. Use `zero_division` parameter to control this behavior.\n",
            "  _warn_prf(average, modifier, msg_start, len(result))\n",
            "/usr/local/lib/python3.7/dist-packages/sklearn/metrics/_classification.py:1272: UndefinedMetricWarning: Precision is ill-defined and being set to 0.0 in labels with no predicted samples. Use `zero_division` parameter to control this behavior.\n",
            "  _warn_prf(average, modifier, msg_start, len(result))\n",
            "/usr/local/lib/python3.7/dist-packages/sklearn/metrics/_classification.py:1272: UndefinedMetricWarning: Precision is ill-defined and being set to 0.0 in labels with no predicted samples. Use `zero_division` parameter to control this behavior.\n",
            "  _warn_prf(average, modifier, msg_start, len(result))\n",
            "/usr/local/lib/python3.7/dist-packages/sklearn/metrics/_classification.py:1272: UndefinedMetricWarning: Precision is ill-defined and being set to 0.0 in labels with no predicted samples. Use `zero_division` parameter to control this behavior.\n",
            "  _warn_prf(average, modifier, msg_start, len(result))\n",
            "/usr/local/lib/python3.7/dist-packages/sklearn/metrics/_classification.py:1272: UndefinedMetricWarning: Precision is ill-defined and being set to 0.0 in labels with no predicted samples. Use `zero_division` parameter to control this behavior.\n",
            "  _warn_prf(average, modifier, msg_start, len(result))\n",
            "/usr/local/lib/python3.7/dist-packages/sklearn/metrics/_classification.py:1272: UndefinedMetricWarning: Precision is ill-defined and being set to 0.0 in labels with no predicted samples. Use `zero_division` parameter to control this behavior.\n",
            "  _warn_prf(average, modifier, msg_start, len(result))\n",
            "/usr/local/lib/python3.7/dist-packages/sklearn/metrics/_classification.py:1272: UndefinedMetricWarning: Precision is ill-defined and being set to 0.0 in labels with no predicted samples. Use `zero_division` parameter to control this behavior.\n",
            "  _warn_prf(average, modifier, msg_start, len(result))\n",
            "/usr/local/lib/python3.7/dist-packages/sklearn/metrics/_classification.py:1272: UndefinedMetricWarning: Precision is ill-defined and being set to 0.0 in labels with no predicted samples. Use `zero_division` parameter to control this behavior.\n",
            "  _warn_prf(average, modifier, msg_start, len(result))\n",
            "/usr/local/lib/python3.7/dist-packages/sklearn/metrics/_classification.py:1272: UndefinedMetricWarning: Precision is ill-defined and being set to 0.0 in labels with no predicted samples. Use `zero_division` parameter to control this behavior.\n",
            "  _warn_prf(average, modifier, msg_start, len(result))\n",
            "/usr/local/lib/python3.7/dist-packages/sklearn/metrics/_classification.py:1272: UndefinedMetricWarning: Precision is ill-defined and being set to 0.0 in labels with no predicted samples. Use `zero_division` parameter to control this behavior.\n",
            "  _warn_prf(average, modifier, msg_start, len(result))\n",
            "/usr/local/lib/python3.7/dist-packages/sklearn/metrics/_classification.py:1272: UndefinedMetricWarning: Precision is ill-defined and being set to 0.0 in labels with no predicted samples. Use `zero_division` parameter to control this behavior.\n",
            "  _warn_prf(average, modifier, msg_start, len(result))\n"
          ],
          "name": "stderr"
        },
        {
          "output_type": "stream",
          "text": [
            "\n",
            "MultinomialNB(alpha=0.01, class_prior=None, fit_prior=True)\n",
            "Fold # 1\n",
            "Fold # 2\n",
            "Fold # 3\n",
            "Fold # 4\n",
            "Fold # 5\n",
            "Validation time: 0.087 seconds\n",
            "Average training accuracy: 0.485\n",
            "Number of labeled documents:    466\n",
            "================================================================================\n",
            "Validation: \n",
            "MultinomialNB(alpha=0.01, class_prior=None, fit_prior=True)\n",
            "Fold # 1\n",
            "Fold # 2\n",
            "Fold # 3\n",
            "Fold # 4\n",
            "Fold # 5\n",
            "Validation time: 0.087 seconds\n",
            "Average training accuracy: 0.518\n",
            "Number of labeled documents:    552\n",
            "================================================================================\n",
            "Validation: \n",
            "MultinomialNB(alpha=0.01, class_prior=None, fit_prior=True)\n",
            "Fold # 1\n",
            "Fold # 2\n"
          ],
          "name": "stdout"
        },
        {
          "output_type": "stream",
          "text": [
            "/usr/local/lib/python3.7/dist-packages/sklearn/metrics/_classification.py:1272: UndefinedMetricWarning: Precision is ill-defined and being set to 0.0 in labels with no predicted samples. Use `zero_division` parameter to control this behavior.\n",
            "  _warn_prf(average, modifier, msg_start, len(result))\n",
            "/usr/local/lib/python3.7/dist-packages/sklearn/metrics/_classification.py:1272: UndefinedMetricWarning: Precision is ill-defined and being set to 0.0 in labels with no predicted samples. Use `zero_division` parameter to control this behavior.\n",
            "  _warn_prf(average, modifier, msg_start, len(result))\n",
            "/usr/local/lib/python3.7/dist-packages/sklearn/metrics/_classification.py:1272: UndefinedMetricWarning: Precision is ill-defined and being set to 0.0 in labels with no predicted samples. Use `zero_division` parameter to control this behavior.\n",
            "  _warn_prf(average, modifier, msg_start, len(result))\n",
            "/usr/local/lib/python3.7/dist-packages/sklearn/metrics/_classification.py:1272: UndefinedMetricWarning: Precision is ill-defined and being set to 0.0 in labels with no predicted samples. Use `zero_division` parameter to control this behavior.\n",
            "  _warn_prf(average, modifier, msg_start, len(result))\n"
          ],
          "name": "stderr"
        },
        {
          "output_type": "stream",
          "text": [
            "Fold # 3\n",
            "Fold # 4\n",
            "Fold # 5\n",
            "Validation time: 0.094 seconds\n",
            "Average training accuracy: 0.531\n",
            "Number of labeled documents:    654\n",
            "================================================================================\n",
            "Validation: \n",
            "MultinomialNB(alpha=0.01, class_prior=None, fit_prior=True)\n",
            "Fold # 1\n",
            "Fold # 2\n",
            "Fold # 3\n",
            "Fold # 4\n",
            "Fold # 5\n",
            "Validation time: 0.091 seconds\n",
            "Average training accuracy: 0.543\n",
            "Number of labeled documents:    775\n",
            "================================================================================\n",
            "Validation: \n",
            "MultinomialNB(alpha=0.01, class_prior=None, fit_prior=True)\n",
            "Fold # 1\n",
            "Fold # 2\n",
            "Fold # 3\n"
          ],
          "name": "stdout"
        },
        {
          "output_type": "stream",
          "text": [
            "/usr/local/lib/python3.7/dist-packages/sklearn/metrics/_classification.py:1272: UndefinedMetricWarning: Precision is ill-defined and being set to 0.0 in labels with no predicted samples. Use `zero_division` parameter to control this behavior.\n",
            "  _warn_prf(average, modifier, msg_start, len(result))\n",
            "/usr/local/lib/python3.7/dist-packages/sklearn/metrics/_classification.py:1272: UndefinedMetricWarning: Precision is ill-defined and being set to 0.0 in labels with no predicted samples. Use `zero_division` parameter to control this behavior.\n",
            "  _warn_prf(average, modifier, msg_start, len(result))\n",
            "/usr/local/lib/python3.7/dist-packages/sklearn/metrics/_classification.py:1272: UndefinedMetricWarning: Precision is ill-defined and being set to 0.0 in labels with no predicted samples. Use `zero_division` parameter to control this behavior.\n",
            "  _warn_prf(average, modifier, msg_start, len(result))\n",
            "/usr/local/lib/python3.7/dist-packages/sklearn/metrics/_classification.py:1272: UndefinedMetricWarning: Precision is ill-defined and being set to 0.0 in labels with no predicted samples. Use `zero_division` parameter to control this behavior.\n",
            "  _warn_prf(average, modifier, msg_start, len(result))\n"
          ],
          "name": "stderr"
        },
        {
          "output_type": "stream",
          "text": [
            "Fold # 4\n",
            "Fold # 5\n",
            "Validation time: 0.101 seconds\n",
            "Average training accuracy: 0.571\n",
            "Number of labeled documents:    918\n",
            "================================================================================\n",
            "Validation: \n",
            "MultinomialNB(alpha=0.01, class_prior=None, fit_prior=True)\n",
            "Fold # 1\n",
            "Fold # 2\n",
            "Fold # 3\n",
            "Fold # 4\n",
            "Fold # 5\n",
            "Validation time: 0.082 seconds\n",
            "Average training accuracy: 0.589\n",
            "Number of labeled documents:   1088\n",
            "================================================================================\n",
            "Validation: \n",
            "MultinomialNB(alpha=0.01, class_prior=None, fit_prior=True)\n",
            "Fold # 1\n",
            "Fold # 2\n",
            "Fold # 3\n",
            "Fold # 4\n"
          ],
          "name": "stdout"
        },
        {
          "output_type": "stream",
          "text": [
            "/usr/local/lib/python3.7/dist-packages/sklearn/metrics/_classification.py:1272: UndefinedMetricWarning: Precision is ill-defined and being set to 0.0 in labels with no predicted samples. Use `zero_division` parameter to control this behavior.\n",
            "  _warn_prf(average, modifier, msg_start, len(result))\n"
          ],
          "name": "stderr"
        },
        {
          "output_type": "stream",
          "text": [
            "Fold # 5\n",
            "Validation time: 0.103 seconds\n",
            "Average training accuracy: 0.597\n",
            "Number of labeled documents:   1289\n",
            "================================================================================\n",
            "Validation: \n",
            "MultinomialNB(alpha=0.01, class_prior=None, fit_prior=True)\n",
            "Fold # 1\n",
            "Fold # 2\n",
            "Fold # 3\n",
            "Fold # 4\n",
            "Fold # 5\n",
            "Validation time: 0.093 seconds\n",
            "Average training accuracy: 0.603\n",
            "Number of labeled documents:   1528\n",
            "================================================================================\n",
            "Validation: \n",
            "MultinomialNB(alpha=0.01, class_prior=None, fit_prior=True)\n",
            "Fold # 1\n",
            "Fold # 2\n",
            "Fold # 3\n",
            "Fold # 4\n",
            "Fold # 5\n",
            "Validation time: 0.109 seconds\n",
            "Average training accuracy: 0.620\n",
            "Number of labeled documents:   1810\n",
            "================================================================================\n",
            "Validation: \n",
            "MultinomialNB(alpha=0.01, class_prior=None, fit_prior=True)\n",
            "Fold # 1\n",
            "Fold # 2\n",
            "Fold # 3\n",
            "Fold # 4\n",
            "Fold # 5\n",
            "Validation time: 0.098 seconds\n",
            "Average training accuracy: 0.639\n",
            "Number of labeled documents:   2145\n",
            "================================================================================\n",
            "Validation: \n",
            "MultinomialNB(alpha=0.01, class_prior=None, fit_prior=True)\n",
            "Fold # 1\n",
            "Fold # 2\n",
            "Fold # 3\n",
            "Fold # 4\n",
            "Fold # 5\n",
            "Validation time: 0.108 seconds\n",
            "Average training accuracy: 0.654\n",
            "Number of labeled documents:   2542\n",
            "================================================================================\n",
            "Validation: \n",
            "MultinomialNB(alpha=0.01, class_prior=None, fit_prior=True)\n",
            "Fold # 1\n",
            "Fold # 2\n",
            "Fold # 3\n",
            "Fold # 4\n",
            "Fold # 5\n",
            "Validation time: 0.137 seconds\n",
            "Average training accuracy: 0.657\n",
            "Number of labeled documents:   3012\n",
            "================================================================================\n",
            "Validation: \n",
            "MultinomialNB(alpha=0.01, class_prior=None, fit_prior=True)\n",
            "Fold # 1\n",
            "Fold # 2\n",
            "Fold # 3\n",
            "Fold # 4\n",
            "Fold # 5\n",
            "Validation time: 0.119 seconds\n",
            "Average training accuracy: 0.677\n",
            "Number of labeled documents:   3569\n",
            "================================================================================\n",
            "Validation: \n",
            "MultinomialNB(alpha=0.01, class_prior=None, fit_prior=True)\n",
            "Fold # 1\n",
            "Fold # 2\n",
            "Fold # 3\n",
            "Fold # 4\n",
            "Fold # 5\n",
            "Validation time: 0.143 seconds\n",
            "Average training accuracy: 0.684\n",
            "Number of labeled documents:   4229\n",
            "================================================================================\n",
            "Validation: \n",
            "MultinomialNB(alpha=0.01, class_prior=None, fit_prior=True)\n",
            "Fold # 1\n",
            "Fold # 2\n",
            "Fold # 3\n",
            "Fold # 4\n",
            "Fold # 5\n",
            "Validation time: 0.128 seconds\n",
            "Average training accuracy: 0.695\n",
            "Number of labeled documents:   5011\n"
          ],
          "name": "stdout"
        }
      ]
    },
    {
      "cell_type": "code",
      "metadata": {
        "colab": {
          "base_uri": "https://localhost:8080/"
        },
        "id": "oXPcPXWmjPbM",
        "outputId": "e7afd1a2-19a5-4248-c166-d6e68eba18af"
      },
      "source": [
        "# Cross validation for semisupervised EM Naive Bayes classifier \n",
        "# using both labeled and unlabeled data set\n",
        "em_nb_cv_scores = list()\n",
        "em_nb_cv_times = list()\n",
        "for n_l_docs in experiments:\n",
        "    em_nb_clf = Semi_EM_MultinomialNB(alpha=1e-2, tol=100, print_log_lkh=False) # semi supervised EM based Naive Bayes classifier\n",
        "    cv_scores, cv_time = cross_validation(em_nb_clf, X_l[:n_l_docs,], y_l[:n_l_docs], X_u)\n",
        "    em_nb_cv_scores.append(cv_scores)\n",
        "    em_nb_cv_times.append(cv_time)\n",
        "    print(\"Number of labeled documents: %6d\" % n_l_docs)"
      ],
      "execution_count": 13,
      "outputs": [
        {
          "output_type": "stream",
          "text": [
            "================================================================================\n",
            "Validation: \n",
            "MultinomialNB(alpha=0.01, class_prior=None, fit_prior=True)\n",
            "Fold # 1\n"
          ],
          "name": "stdout"
        },
        {
          "output_type": "stream",
          "text": [
            "/usr/local/lib/python3.7/dist-packages/sklearn/metrics/_classification.py:1272: UndefinedMetricWarning: Precision is ill-defined and being set to 0.0 in labels with no predicted samples. Use `zero_division` parameter to control this behavior.\n",
            "  _warn_prf(average, modifier, msg_start, len(result))\n"
          ],
          "name": "stderr"
        },
        {
          "output_type": "stream",
          "text": [
            "Fold # 2\n"
          ],
          "name": "stdout"
        },
        {
          "output_type": "stream",
          "text": [
            "/usr/local/lib/python3.7/dist-packages/sklearn/metrics/_classification.py:1272: UndefinedMetricWarning: Precision is ill-defined and being set to 0.0 in labels with no predicted samples. Use `zero_division` parameter to control this behavior.\n",
            "  _warn_prf(average, modifier, msg_start, len(result))\n"
          ],
          "name": "stderr"
        },
        {
          "output_type": "stream",
          "text": [
            "Fold # 3\n"
          ],
          "name": "stdout"
        },
        {
          "output_type": "stream",
          "text": [
            "/usr/local/lib/python3.7/dist-packages/sklearn/metrics/_classification.py:1272: UndefinedMetricWarning: Precision is ill-defined and being set to 0.0 in labels with no predicted samples. Use `zero_division` parameter to control this behavior.\n",
            "  _warn_prf(average, modifier, msg_start, len(result))\n"
          ],
          "name": "stderr"
        },
        {
          "output_type": "stream",
          "text": [
            "Fold # 4\n"
          ],
          "name": "stdout"
        },
        {
          "output_type": "stream",
          "text": [
            "/usr/local/lib/python3.7/dist-packages/sklearn/metrics/_classification.py:1272: UndefinedMetricWarning: Precision is ill-defined and being set to 0.0 in labels with no predicted samples. Use `zero_division` parameter to control this behavior.\n",
            "  _warn_prf(average, modifier, msg_start, len(result))\n"
          ],
          "name": "stderr"
        },
        {
          "output_type": "stream",
          "text": [
            "Fold # 5\n"
          ],
          "name": "stdout"
        },
        {
          "output_type": "stream",
          "text": [
            "/usr/local/lib/python3.7/dist-packages/sklearn/metrics/_classification.py:1272: UndefinedMetricWarning: Precision is ill-defined and being set to 0.0 in labels with no predicted samples. Use `zero_division` parameter to control this behavior.\n",
            "  _warn_prf(average, modifier, msg_start, len(result))\n"
          ],
          "name": "stderr"
        },
        {
          "output_type": "stream",
          "text": [
            "Validation time: 46.401 seconds\n",
            "Average training accuracy: 0.432\n",
            "Number of labeled documents:    199\n",
            "================================================================================\n",
            "Validation: \n",
            "MultinomialNB(alpha=0.01, class_prior=None, fit_prior=True)\n",
            "Fold # 1\n"
          ],
          "name": "stdout"
        },
        {
          "output_type": "stream",
          "text": [
            "/usr/local/lib/python3.7/dist-packages/sklearn/metrics/_classification.py:1272: UndefinedMetricWarning: Precision is ill-defined and being set to 0.0 in labels with no predicted samples. Use `zero_division` parameter to control this behavior.\n",
            "  _warn_prf(average, modifier, msg_start, len(result))\n"
          ],
          "name": "stderr"
        },
        {
          "output_type": "stream",
          "text": [
            "Fold # 2\n"
          ],
          "name": "stdout"
        },
        {
          "output_type": "stream",
          "text": [
            "/usr/local/lib/python3.7/dist-packages/sklearn/metrics/_classification.py:1272: UndefinedMetricWarning: Precision is ill-defined and being set to 0.0 in labels with no predicted samples. Use `zero_division` parameter to control this behavior.\n",
            "  _warn_prf(average, modifier, msg_start, len(result))\n"
          ],
          "name": "stderr"
        },
        {
          "output_type": "stream",
          "text": [
            "Fold # 3\n"
          ],
          "name": "stdout"
        },
        {
          "output_type": "stream",
          "text": [
            "/usr/local/lib/python3.7/dist-packages/sklearn/metrics/_classification.py:1272: UndefinedMetricWarning: Precision is ill-defined and being set to 0.0 in labels with no predicted samples. Use `zero_division` parameter to control this behavior.\n",
            "  _warn_prf(average, modifier, msg_start, len(result))\n"
          ],
          "name": "stderr"
        },
        {
          "output_type": "stream",
          "text": [
            "Fold # 4\n"
          ],
          "name": "stdout"
        },
        {
          "output_type": "stream",
          "text": [
            "/usr/local/lib/python3.7/dist-packages/sklearn/metrics/_classification.py:1272: UndefinedMetricWarning: Precision is ill-defined and being set to 0.0 in labels with no predicted samples. Use `zero_division` parameter to control this behavior.\n",
            "  _warn_prf(average, modifier, msg_start, len(result))\n"
          ],
          "name": "stderr"
        },
        {
          "output_type": "stream",
          "text": [
            "Fold # 5\n"
          ],
          "name": "stdout"
        },
        {
          "output_type": "stream",
          "text": [
            "/usr/local/lib/python3.7/dist-packages/sklearn/metrics/_classification.py:1272: UndefinedMetricWarning: Precision is ill-defined and being set to 0.0 in labels with no predicted samples. Use `zero_division` parameter to control this behavior.\n",
            "  _warn_prf(average, modifier, msg_start, len(result))\n"
          ],
          "name": "stderr"
        },
        {
          "output_type": "stream",
          "text": [
            "Validation time: 45.530 seconds\n",
            "Average training accuracy: 0.449\n",
            "Number of labeled documents:    236\n",
            "================================================================================\n",
            "Validation: \n",
            "MultinomialNB(alpha=0.01, class_prior=None, fit_prior=True)\n",
            "Fold # 1\n"
          ],
          "name": "stdout"
        },
        {
          "output_type": "stream",
          "text": [
            "/usr/local/lib/python3.7/dist-packages/sklearn/metrics/_classification.py:1272: UndefinedMetricWarning: Precision is ill-defined and being set to 0.0 in labels with no predicted samples. Use `zero_division` parameter to control this behavior.\n",
            "  _warn_prf(average, modifier, msg_start, len(result))\n"
          ],
          "name": "stderr"
        },
        {
          "output_type": "stream",
          "text": [
            "Fold # 2\n"
          ],
          "name": "stdout"
        },
        {
          "output_type": "stream",
          "text": [
            "/usr/local/lib/python3.7/dist-packages/sklearn/metrics/_classification.py:1272: UndefinedMetricWarning: Precision is ill-defined and being set to 0.0 in labels with no predicted samples. Use `zero_division` parameter to control this behavior.\n",
            "  _warn_prf(average, modifier, msg_start, len(result))\n"
          ],
          "name": "stderr"
        },
        {
          "output_type": "stream",
          "text": [
            "Fold # 3\n"
          ],
          "name": "stdout"
        },
        {
          "output_type": "stream",
          "text": [
            "/usr/local/lib/python3.7/dist-packages/sklearn/metrics/_classification.py:1272: UndefinedMetricWarning: Precision is ill-defined and being set to 0.0 in labels with no predicted samples. Use `zero_division` parameter to control this behavior.\n",
            "  _warn_prf(average, modifier, msg_start, len(result))\n"
          ],
          "name": "stderr"
        },
        {
          "output_type": "stream",
          "text": [
            "Fold # 4\n"
          ],
          "name": "stdout"
        },
        {
          "output_type": "stream",
          "text": [
            "/usr/local/lib/python3.7/dist-packages/sklearn/metrics/_classification.py:1272: UndefinedMetricWarning: Precision is ill-defined and being set to 0.0 in labels with no predicted samples. Use `zero_division` parameter to control this behavior.\n",
            "  _warn_prf(average, modifier, msg_start, len(result))\n"
          ],
          "name": "stderr"
        },
        {
          "output_type": "stream",
          "text": [
            "Fold # 5\n"
          ],
          "name": "stdout"
        },
        {
          "output_type": "stream",
          "text": [
            "/usr/local/lib/python3.7/dist-packages/sklearn/metrics/_classification.py:1272: UndefinedMetricWarning: Precision is ill-defined and being set to 0.0 in labels with no predicted samples. Use `zero_division` parameter to control this behavior.\n",
            "  _warn_prf(average, modifier, msg_start, len(result))\n"
          ],
          "name": "stderr"
        },
        {
          "output_type": "stream",
          "text": [
            "Validation time: 43.304 seconds\n",
            "Average training accuracy: 0.521\n",
            "Number of labeled documents:    280\n",
            "================================================================================\n",
            "Validation: \n",
            "MultinomialNB(alpha=0.01, class_prior=None, fit_prior=True)\n",
            "Fold # 1\n"
          ],
          "name": "stdout"
        },
        {
          "output_type": "stream",
          "text": [
            "/usr/local/lib/python3.7/dist-packages/sklearn/metrics/_classification.py:1272: UndefinedMetricWarning: Precision is ill-defined and being set to 0.0 in labels with no predicted samples. Use `zero_division` parameter to control this behavior.\n",
            "  _warn_prf(average, modifier, msg_start, len(result))\n"
          ],
          "name": "stderr"
        },
        {
          "output_type": "stream",
          "text": [
            "Fold # 2\n"
          ],
          "name": "stdout"
        },
        {
          "output_type": "stream",
          "text": [
            "/usr/local/lib/python3.7/dist-packages/sklearn/metrics/_classification.py:1272: UndefinedMetricWarning: Precision is ill-defined and being set to 0.0 in labels with no predicted samples. Use `zero_division` parameter to control this behavior.\n",
            "  _warn_prf(average, modifier, msg_start, len(result))\n"
          ],
          "name": "stderr"
        },
        {
          "output_type": "stream",
          "text": [
            "Fold # 3\n"
          ],
          "name": "stdout"
        },
        {
          "output_type": "stream",
          "text": [
            "/usr/local/lib/python3.7/dist-packages/sklearn/metrics/_classification.py:1272: UndefinedMetricWarning: Precision is ill-defined and being set to 0.0 in labels with no predicted samples. Use `zero_division` parameter to control this behavior.\n",
            "  _warn_prf(average, modifier, msg_start, len(result))\n"
          ],
          "name": "stderr"
        },
        {
          "output_type": "stream",
          "text": [
            "Fold # 4\n"
          ],
          "name": "stdout"
        },
        {
          "output_type": "stream",
          "text": [
            "/usr/local/lib/python3.7/dist-packages/sklearn/metrics/_classification.py:1272: UndefinedMetricWarning: Precision is ill-defined and being set to 0.0 in labels with no predicted samples. Use `zero_division` parameter to control this behavior.\n",
            "  _warn_prf(average, modifier, msg_start, len(result))\n"
          ],
          "name": "stderr"
        },
        {
          "output_type": "stream",
          "text": [
            "Fold # 5\n"
          ],
          "name": "stdout"
        },
        {
          "output_type": "stream",
          "text": [
            "/usr/local/lib/python3.7/dist-packages/sklearn/metrics/_classification.py:1272: UndefinedMetricWarning: Precision is ill-defined and being set to 0.0 in labels with no predicted samples. Use `zero_division` parameter to control this behavior.\n",
            "  _warn_prf(average, modifier, msg_start, len(result))\n"
          ],
          "name": "stderr"
        },
        {
          "output_type": "stream",
          "text": [
            "Validation time: 38.632 seconds\n",
            "Average training accuracy: 0.544\n",
            "Number of labeled documents:    331\n",
            "================================================================================\n",
            "Validation: \n",
            "MultinomialNB(alpha=0.01, class_prior=None, fit_prior=True)\n",
            "Fold # 1\n"
          ],
          "name": "stdout"
        },
        {
          "output_type": "stream",
          "text": [
            "/usr/local/lib/python3.7/dist-packages/sklearn/metrics/_classification.py:1272: UndefinedMetricWarning: Precision is ill-defined and being set to 0.0 in labels with no predicted samples. Use `zero_division` parameter to control this behavior.\n",
            "  _warn_prf(average, modifier, msg_start, len(result))\n"
          ],
          "name": "stderr"
        },
        {
          "output_type": "stream",
          "text": [
            "Fold # 2\n"
          ],
          "name": "stdout"
        },
        {
          "output_type": "stream",
          "text": [
            "/usr/local/lib/python3.7/dist-packages/sklearn/metrics/_classification.py:1272: UndefinedMetricWarning: Precision is ill-defined and being set to 0.0 in labels with no predicted samples. Use `zero_division` parameter to control this behavior.\n",
            "  _warn_prf(average, modifier, msg_start, len(result))\n"
          ],
          "name": "stderr"
        },
        {
          "output_type": "stream",
          "text": [
            "Fold # 3\n"
          ],
          "name": "stdout"
        },
        {
          "output_type": "stream",
          "text": [
            "/usr/local/lib/python3.7/dist-packages/sklearn/metrics/_classification.py:1272: UndefinedMetricWarning: Precision is ill-defined and being set to 0.0 in labels with no predicted samples. Use `zero_division` parameter to control this behavior.\n",
            "  _warn_prf(average, modifier, msg_start, len(result))\n"
          ],
          "name": "stderr"
        },
        {
          "output_type": "stream",
          "text": [
            "Fold # 4\n"
          ],
          "name": "stdout"
        },
        {
          "output_type": "stream",
          "text": [
            "/usr/local/lib/python3.7/dist-packages/sklearn/metrics/_classification.py:1272: UndefinedMetricWarning: Precision is ill-defined and being set to 0.0 in labels with no predicted samples. Use `zero_division` parameter to control this behavior.\n",
            "  _warn_prf(average, modifier, msg_start, len(result))\n"
          ],
          "name": "stderr"
        },
        {
          "output_type": "stream",
          "text": [
            "Fold # 5\n"
          ],
          "name": "stdout"
        },
        {
          "output_type": "stream",
          "text": [
            "/usr/local/lib/python3.7/dist-packages/sklearn/metrics/_classification.py:1272: UndefinedMetricWarning: Precision is ill-defined and being set to 0.0 in labels with no predicted samples. Use `zero_division` parameter to control this behavior.\n",
            "  _warn_prf(average, modifier, msg_start, len(result))\n"
          ],
          "name": "stderr"
        },
        {
          "output_type": "stream",
          "text": [
            "Validation time: 40.437 seconds\n",
            "Average training accuracy: 0.560\n",
            "Number of labeled documents:    393\n",
            "================================================================================\n",
            "Validation: \n",
            "MultinomialNB(alpha=0.01, class_prior=None, fit_prior=True)\n",
            "Fold # 1\n"
          ],
          "name": "stdout"
        },
        {
          "output_type": "stream",
          "text": [
            "/usr/local/lib/python3.7/dist-packages/sklearn/metrics/_classification.py:1272: UndefinedMetricWarning: Precision is ill-defined and being set to 0.0 in labels with no predicted samples. Use `zero_division` parameter to control this behavior.\n",
            "  _warn_prf(average, modifier, msg_start, len(result))\n"
          ],
          "name": "stderr"
        },
        {
          "output_type": "stream",
          "text": [
            "Fold # 2\n"
          ],
          "name": "stdout"
        },
        {
          "output_type": "stream",
          "text": [
            "/usr/local/lib/python3.7/dist-packages/sklearn/metrics/_classification.py:1272: UndefinedMetricWarning: Precision is ill-defined and being set to 0.0 in labels with no predicted samples. Use `zero_division` parameter to control this behavior.\n",
            "  _warn_prf(average, modifier, msg_start, len(result))\n"
          ],
          "name": "stderr"
        },
        {
          "output_type": "stream",
          "text": [
            "Fold # 3\n"
          ],
          "name": "stdout"
        },
        {
          "output_type": "stream",
          "text": [
            "/usr/local/lib/python3.7/dist-packages/sklearn/metrics/_classification.py:1272: UndefinedMetricWarning: Precision is ill-defined and being set to 0.0 in labels with no predicted samples. Use `zero_division` parameter to control this behavior.\n",
            "  _warn_prf(average, modifier, msg_start, len(result))\n"
          ],
          "name": "stderr"
        },
        {
          "output_type": "stream",
          "text": [
            "Fold # 4\n"
          ],
          "name": "stdout"
        },
        {
          "output_type": "stream",
          "text": [
            "/usr/local/lib/python3.7/dist-packages/sklearn/metrics/_classification.py:1272: UndefinedMetricWarning: Precision is ill-defined and being set to 0.0 in labels with no predicted samples. Use `zero_division` parameter to control this behavior.\n",
            "  _warn_prf(average, modifier, msg_start, len(result))\n"
          ],
          "name": "stderr"
        },
        {
          "output_type": "stream",
          "text": [
            "Fold # 5\n"
          ],
          "name": "stdout"
        },
        {
          "output_type": "stream",
          "text": [
            "/usr/local/lib/python3.7/dist-packages/sklearn/metrics/_classification.py:1272: UndefinedMetricWarning: Precision is ill-defined and being set to 0.0 in labels with no predicted samples. Use `zero_division` parameter to control this behavior.\n",
            "  _warn_prf(average, modifier, msg_start, len(result))\n"
          ],
          "name": "stderr"
        },
        {
          "output_type": "stream",
          "text": [
            "Validation time: 43.127 seconds\n",
            "Average training accuracy: 0.590\n",
            "Number of labeled documents:    466\n",
            "================================================================================\n",
            "Validation: \n",
            "MultinomialNB(alpha=0.01, class_prior=None, fit_prior=True)\n",
            "Fold # 1\n",
            "Fold # 2\n",
            "Fold # 3\n",
            "Fold # 4\n"
          ],
          "name": "stdout"
        },
        {
          "output_type": "stream",
          "text": [
            "/usr/local/lib/python3.7/dist-packages/sklearn/metrics/_classification.py:1272: UndefinedMetricWarning: Precision is ill-defined and being set to 0.0 in labels with no predicted samples. Use `zero_division` parameter to control this behavior.\n",
            "  _warn_prf(average, modifier, msg_start, len(result))\n"
          ],
          "name": "stderr"
        },
        {
          "output_type": "stream",
          "text": [
            "Fold # 5\n"
          ],
          "name": "stdout"
        },
        {
          "output_type": "stream",
          "text": [
            "/usr/local/lib/python3.7/dist-packages/sklearn/metrics/_classification.py:1272: UndefinedMetricWarning: Precision is ill-defined and being set to 0.0 in labels with no predicted samples. Use `zero_division` parameter to control this behavior.\n",
            "  _warn_prf(average, modifier, msg_start, len(result))\n"
          ],
          "name": "stderr"
        },
        {
          "output_type": "stream",
          "text": [
            "Validation time: 38.944 seconds\n",
            "Average training accuracy: 0.576\n",
            "Number of labeled documents:    552\n",
            "================================================================================\n",
            "Validation: \n",
            "MultinomialNB(alpha=0.01, class_prior=None, fit_prior=True)\n",
            "Fold # 1\n"
          ],
          "name": "stdout"
        },
        {
          "output_type": "stream",
          "text": [
            "/usr/local/lib/python3.7/dist-packages/sklearn/metrics/_classification.py:1272: UndefinedMetricWarning: Precision is ill-defined and being set to 0.0 in labels with no predicted samples. Use `zero_division` parameter to control this behavior.\n",
            "  _warn_prf(average, modifier, msg_start, len(result))\n"
          ],
          "name": "stderr"
        },
        {
          "output_type": "stream",
          "text": [
            "Fold # 2\n"
          ],
          "name": "stdout"
        },
        {
          "output_type": "stream",
          "text": [
            "/usr/local/lib/python3.7/dist-packages/sklearn/metrics/_classification.py:1272: UndefinedMetricWarning: Precision is ill-defined and being set to 0.0 in labels with no predicted samples. Use `zero_division` parameter to control this behavior.\n",
            "  _warn_prf(average, modifier, msg_start, len(result))\n"
          ],
          "name": "stderr"
        },
        {
          "output_type": "stream",
          "text": [
            "Fold # 3\n"
          ],
          "name": "stdout"
        },
        {
          "output_type": "stream",
          "text": [
            "/usr/local/lib/python3.7/dist-packages/sklearn/metrics/_classification.py:1272: UndefinedMetricWarning: Precision is ill-defined and being set to 0.0 in labels with no predicted samples. Use `zero_division` parameter to control this behavior.\n",
            "  _warn_prf(average, modifier, msg_start, len(result))\n"
          ],
          "name": "stderr"
        },
        {
          "output_type": "stream",
          "text": [
            "Fold # 4\n"
          ],
          "name": "stdout"
        },
        {
          "output_type": "stream",
          "text": [
            "/usr/local/lib/python3.7/dist-packages/sklearn/metrics/_classification.py:1272: UndefinedMetricWarning: Precision is ill-defined and being set to 0.0 in labels with no predicted samples. Use `zero_division` parameter to control this behavior.\n",
            "  _warn_prf(average, modifier, msg_start, len(result))\n"
          ],
          "name": "stderr"
        },
        {
          "output_type": "stream",
          "text": [
            "Fold # 5\n"
          ],
          "name": "stdout"
        },
        {
          "output_type": "stream",
          "text": [
            "/usr/local/lib/python3.7/dist-packages/sklearn/metrics/_classification.py:1272: UndefinedMetricWarning: Precision is ill-defined and being set to 0.0 in labels with no predicted samples. Use `zero_division` parameter to control this behavior.\n",
            "  _warn_prf(average, modifier, msg_start, len(result))\n"
          ],
          "name": "stderr"
        },
        {
          "output_type": "stream",
          "text": [
            "Validation time: 34.649 seconds\n",
            "Average training accuracy: 0.589\n",
            "Number of labeled documents:    654\n",
            "================================================================================\n",
            "Validation: \n",
            "MultinomialNB(alpha=0.01, class_prior=None, fit_prior=True)\n",
            "Fold # 1\n"
          ],
          "name": "stdout"
        },
        {
          "output_type": "stream",
          "text": [
            "/usr/local/lib/python3.7/dist-packages/sklearn/metrics/_classification.py:1272: UndefinedMetricWarning: Precision is ill-defined and being set to 0.0 in labels with no predicted samples. Use `zero_division` parameter to control this behavior.\n",
            "  _warn_prf(average, modifier, msg_start, len(result))\n"
          ],
          "name": "stderr"
        },
        {
          "output_type": "stream",
          "text": [
            "Fold # 2\n",
            "Fold # 3\n"
          ],
          "name": "stdout"
        },
        {
          "output_type": "stream",
          "text": [
            "/usr/local/lib/python3.7/dist-packages/sklearn/metrics/_classification.py:1272: UndefinedMetricWarning: Precision is ill-defined and being set to 0.0 in labels with no predicted samples. Use `zero_division` parameter to control this behavior.\n",
            "  _warn_prf(average, modifier, msg_start, len(result))\n"
          ],
          "name": "stderr"
        },
        {
          "output_type": "stream",
          "text": [
            "Fold # 4\n"
          ],
          "name": "stdout"
        },
        {
          "output_type": "stream",
          "text": [
            "/usr/local/lib/python3.7/dist-packages/sklearn/metrics/_classification.py:1272: UndefinedMetricWarning: Precision is ill-defined and being set to 0.0 in labels with no predicted samples. Use `zero_division` parameter to control this behavior.\n",
            "  _warn_prf(average, modifier, msg_start, len(result))\n"
          ],
          "name": "stderr"
        },
        {
          "output_type": "stream",
          "text": [
            "Fold # 5\n"
          ],
          "name": "stdout"
        },
        {
          "output_type": "stream",
          "text": [
            "/usr/local/lib/python3.7/dist-packages/sklearn/metrics/_classification.py:1272: UndefinedMetricWarning: Precision is ill-defined and being set to 0.0 in labels with no predicted samples. Use `zero_division` parameter to control this behavior.\n",
            "  _warn_prf(average, modifier, msg_start, len(result))\n"
          ],
          "name": "stderr"
        },
        {
          "output_type": "stream",
          "text": [
            "Validation time: 35.540 seconds\n",
            "Average training accuracy: 0.603\n",
            "Number of labeled documents:    775\n",
            "================================================================================\n",
            "Validation: \n",
            "MultinomialNB(alpha=0.01, class_prior=None, fit_prior=True)\n",
            "Fold # 1\n"
          ],
          "name": "stdout"
        },
        {
          "output_type": "stream",
          "text": [
            "/usr/local/lib/python3.7/dist-packages/sklearn/metrics/_classification.py:1272: UndefinedMetricWarning: Precision is ill-defined and being set to 0.0 in labels with no predicted samples. Use `zero_division` parameter to control this behavior.\n",
            "  _warn_prf(average, modifier, msg_start, len(result))\n"
          ],
          "name": "stderr"
        },
        {
          "output_type": "stream",
          "text": [
            "Fold # 2\n",
            "Fold # 3\n",
            "Fold # 4\n"
          ],
          "name": "stdout"
        },
        {
          "output_type": "stream",
          "text": [
            "/usr/local/lib/python3.7/dist-packages/sklearn/metrics/_classification.py:1272: UndefinedMetricWarning: Precision is ill-defined and being set to 0.0 in labels with no predicted samples. Use `zero_division` parameter to control this behavior.\n",
            "  _warn_prf(average, modifier, msg_start, len(result))\n"
          ],
          "name": "stderr"
        },
        {
          "output_type": "stream",
          "text": [
            "Fold # 5\n",
            "Validation time: 32.902 seconds\n",
            "Average training accuracy: 0.619\n",
            "Number of labeled documents:    918\n",
            "================================================================================\n",
            "Validation: \n",
            "MultinomialNB(alpha=0.01, class_prior=None, fit_prior=True)\n",
            "Fold # 1\n"
          ],
          "name": "stdout"
        },
        {
          "output_type": "stream",
          "text": [
            "/usr/local/lib/python3.7/dist-packages/sklearn/metrics/_classification.py:1272: UndefinedMetricWarning: Precision is ill-defined and being set to 0.0 in labels with no predicted samples. Use `zero_division` parameter to control this behavior.\n",
            "  _warn_prf(average, modifier, msg_start, len(result))\n"
          ],
          "name": "stderr"
        },
        {
          "output_type": "stream",
          "text": [
            "Fold # 2\n",
            "Fold # 3\n",
            "Fold # 4\n"
          ],
          "name": "stdout"
        },
        {
          "output_type": "stream",
          "text": [
            "/usr/local/lib/python3.7/dist-packages/sklearn/metrics/_classification.py:1272: UndefinedMetricWarning: Precision is ill-defined and being set to 0.0 in labels with no predicted samples. Use `zero_division` parameter to control this behavior.\n",
            "  _warn_prf(average, modifier, msg_start, len(result))\n"
          ],
          "name": "stderr"
        },
        {
          "output_type": "stream",
          "text": [
            "Fold # 5\n",
            "Validation time: 31.596 seconds\n",
            "Average training accuracy: 0.631\n",
            "Number of labeled documents:   1088\n",
            "================================================================================\n",
            "Validation: \n",
            "MultinomialNB(alpha=0.01, class_prior=None, fit_prior=True)\n",
            "Fold # 1\n",
            "Fold # 2\n"
          ],
          "name": "stdout"
        },
        {
          "output_type": "stream",
          "text": [
            "/usr/local/lib/python3.7/dist-packages/sklearn/metrics/_classification.py:1272: UndefinedMetricWarning: Precision is ill-defined and being set to 0.0 in labels with no predicted samples. Use `zero_division` parameter to control this behavior.\n",
            "  _warn_prf(average, modifier, msg_start, len(result))\n"
          ],
          "name": "stderr"
        },
        {
          "output_type": "stream",
          "text": [
            "Fold # 3\n"
          ],
          "name": "stdout"
        },
        {
          "output_type": "stream",
          "text": [
            "/usr/local/lib/python3.7/dist-packages/sklearn/metrics/_classification.py:1272: UndefinedMetricWarning: Precision is ill-defined and being set to 0.0 in labels with no predicted samples. Use `zero_division` parameter to control this behavior.\n",
            "  _warn_prf(average, modifier, msg_start, len(result))\n"
          ],
          "name": "stderr"
        },
        {
          "output_type": "stream",
          "text": [
            "Fold # 4\n",
            "Fold # 5\n"
          ],
          "name": "stdout"
        },
        {
          "output_type": "stream",
          "text": [
            "/usr/local/lib/python3.7/dist-packages/sklearn/metrics/_classification.py:1272: UndefinedMetricWarning: Precision is ill-defined and being set to 0.0 in labels with no predicted samples. Use `zero_division` parameter to control this behavior.\n",
            "  _warn_prf(average, modifier, msg_start, len(result))\n"
          ],
          "name": "stderr"
        },
        {
          "output_type": "stream",
          "text": [
            "Validation time: 30.398 seconds\n",
            "Average training accuracy: 0.639\n",
            "Number of labeled documents:   1289\n",
            "================================================================================\n",
            "Validation: \n",
            "MultinomialNB(alpha=0.01, class_prior=None, fit_prior=True)\n",
            "Fold # 1\n",
            "Fold # 2\n",
            "Fold # 3\n",
            "Fold # 4\n",
            "Fold # 5\n",
            "Validation time: 28.313 seconds\n",
            "Average training accuracy: 0.652\n",
            "Number of labeled documents:   1528\n",
            "================================================================================\n",
            "Validation: \n",
            "MultinomialNB(alpha=0.01, class_prior=None, fit_prior=True)\n",
            "Fold # 1\n",
            "Fold # 2\n",
            "Fold # 3\n",
            "Fold # 4\n",
            "Fold # 5\n",
            "Validation time: 27.824 seconds\n",
            "Average training accuracy: 0.666\n",
            "Number of labeled documents:   1810\n",
            "================================================================================\n",
            "Validation: \n",
            "MultinomialNB(alpha=0.01, class_prior=None, fit_prior=True)\n",
            "Fold # 1\n",
            "Fold # 2\n",
            "Fold # 3\n",
            "Fold # 4\n",
            "Fold # 5\n",
            "Validation time: 27.336 seconds\n",
            "Average training accuracy: 0.667\n",
            "Number of labeled documents:   2145\n",
            "================================================================================\n",
            "Validation: \n",
            "MultinomialNB(alpha=0.01, class_prior=None, fit_prior=True)\n",
            "Fold # 1\n",
            "Fold # 2\n"
          ],
          "name": "stdout"
        },
        {
          "output_type": "stream",
          "text": [
            "/usr/local/lib/python3.7/dist-packages/sklearn/metrics/_classification.py:1272: UndefinedMetricWarning: Precision is ill-defined and being set to 0.0 in labels with no predicted samples. Use `zero_division` parameter to control this behavior.\n",
            "  _warn_prf(average, modifier, msg_start, len(result))\n"
          ],
          "name": "stderr"
        },
        {
          "output_type": "stream",
          "text": [
            "Fold # 3\n",
            "Fold # 4\n"
          ],
          "name": "stdout"
        },
        {
          "output_type": "stream",
          "text": [
            "/usr/local/lib/python3.7/dist-packages/sklearn/metrics/_classification.py:1272: UndefinedMetricWarning: Precision is ill-defined and being set to 0.0 in labels with no predicted samples. Use `zero_division` parameter to control this behavior.\n",
            "  _warn_prf(average, modifier, msg_start, len(result))\n"
          ],
          "name": "stderr"
        },
        {
          "output_type": "stream",
          "text": [
            "Fold # 5\n",
            "Validation time: 26.691 seconds\n",
            "Average training accuracy: 0.677\n",
            "Number of labeled documents:   2542\n",
            "================================================================================\n",
            "Validation: \n",
            "MultinomialNB(alpha=0.01, class_prior=None, fit_prior=True)\n",
            "Fold # 1\n",
            "Fold # 2\n",
            "Fold # 3\n"
          ],
          "name": "stdout"
        },
        {
          "output_type": "stream",
          "text": [
            "/usr/local/lib/python3.7/dist-packages/sklearn/metrics/_classification.py:1272: UndefinedMetricWarning: Precision is ill-defined and being set to 0.0 in labels with no predicted samples. Use `zero_division` parameter to control this behavior.\n",
            "  _warn_prf(average, modifier, msg_start, len(result))\n"
          ],
          "name": "stderr"
        },
        {
          "output_type": "stream",
          "text": [
            "Fold # 4\n",
            "Fold # 5\n",
            "Validation time: 29.575 seconds\n",
            "Average training accuracy: 0.679\n",
            "Number of labeled documents:   3012\n",
            "================================================================================\n",
            "Validation: \n",
            "MultinomialNB(alpha=0.01, class_prior=None, fit_prior=True)\n",
            "Fold # 1\n",
            "Fold # 2\n",
            "Fold # 3\n",
            "Fold # 4\n",
            "Fold # 5\n",
            "Validation time: 24.600 seconds\n",
            "Average training accuracy: 0.688\n",
            "Number of labeled documents:   3569\n",
            "================================================================================\n",
            "Validation: \n",
            "MultinomialNB(alpha=0.01, class_prior=None, fit_prior=True)\n",
            "Fold # 1\n",
            "Fold # 2\n",
            "Fold # 3\n",
            "Fold # 4\n",
            "Fold # 5\n",
            "Validation time: 25.680 seconds\n",
            "Average training accuracy: 0.696\n",
            "Number of labeled documents:   4229\n",
            "================================================================================\n",
            "Validation: \n",
            "MultinomialNB(alpha=0.01, class_prior=None, fit_prior=True)\n",
            "Fold # 1\n",
            "Fold # 2\n",
            "Fold # 3\n",
            "Fold # 4\n",
            "Fold # 5\n",
            "Validation time: 23.638 seconds\n",
            "Average training accuracy: 0.702\n",
            "Number of labeled documents:   5011\n"
          ],
          "name": "stdout"
        }
      ]
    },
    {
      "cell_type": "code",
      "metadata": {
        "colab": {
          "base_uri": "https://localhost:8080/",
          "height": 430
        },
        "id": "tanzB0npjVOb",
        "outputId": "17fe79b8-1c28-4c75-da61-ae67250be2a5"
      },
      "source": [
        "# plot CV accuracy comparisons\n",
        "nb_score_mean = list()\n",
        "nb_score_err = list()\n",
        "em_nb_score_mean = list()\n",
        "em_nb_score_err = list()\n",
        "for idx in range(len(experiments)):\n",
        "    nb_scores = [value['accuracy'] for value in nb_cv_scores[idx]]\n",
        "    nb_score_mean.append(np.mean(nb_scores))\n",
        "    nb_score_err.append(np.std(nb_scores))\n",
        "    em_nb_scores = [value['accuracy'] for value in em_nb_cv_scores[idx]]\n",
        "    em_nb_score_mean.append(np.mean(em_nb_scores))\n",
        "    em_nb_score_err.append(np.std(em_nb_scores))\n",
        "fig = plt.figure(figsize=(10,6))\n",
        "ax = fig.add_subplot(111)\n",
        "ax.plot(experiments, nb_score_mean, color='b', linewidth=2, label='Traditional Naive Bayes')\n",
        "ax.errorbar(experiments, nb_score_mean, yerr=nb_score_err, fmt='s', color='b')\n",
        "ax.plot(experiments, em_nb_score_mean, color='r', linewidth=2, label='Semisupervised EM Naive Bayes')\n",
        "ax.errorbar(experiments, em_nb_score_mean, yerr=em_nb_score_err, fmt='o', color='r')\n",
        "ax.set_xlabel('Number of Labeled Documents')\n",
        "ax.set_ylabel('Accuracy')\n",
        "ax.set_xlim(left=np.min(experiments)-10, right=np.max(experiments)+100)\n",
        "ax.set_xscale('log')\n",
        "ax.set_xticks([200, 1000, 5000]) \n",
        "ax.set_xticklabels([r'$2\\times10^2$', r'$10^3$', r'$5\\times10^3$'], fontsize=15)\n",
        "plt.legend(loc='upper left')\n",
        "plt.title('Cross-Validation Average Accuracy vs Number of Labeled Documents in Training Set')"
      ],
      "execution_count": 14,
      "outputs": [
        {
          "output_type": "execute_result",
          "data": {
            "text/plain": [
              "Text(0.5, 1.0, 'Cross-Validation Average Accuracy vs Number of Labeled Documents in Training Set')"
            ]
          },
          "metadata": {
            "tags": []
          },
          "execution_count": 14
        },
        {
          "output_type": "display_data",
          "data": {
            "image/png": "[encoded data removed]",
            "text/plain": [
              "<Figure size 720x432 with 1 Axes>"
            ]
          },
          "metadata": {
            "tags": [],
            "needs_background": "light"
          }
        }
      ]
    }
  ]
}