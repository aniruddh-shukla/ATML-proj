{
  "nbformat": 4,
  "nbformat_minor": 0,
  "metadata": {
    "colab": {
      "name": "semi-supervised_newsgroups_label_spreading.ipynb.ipynb",
      "provenance": [],
      "authorship_tag": "ABX9TyOmPv0KnAeUnXUX3udQjVwG",
      "include_colab_link": true
    },
    "kernelspec": {
      "name": "python3",
      "display_name": "Python 3"
    },
    "language_info": {
      "name": "python"
    }
  },
  "cells": [
    {
      "cell_type": "markdown",
      "metadata": {
        "id": "view-in-github",
        "colab_type": "text"
      },
      "source": [
        "<a href=\"https://colab.research.google.com/github/aniruddh-shukla/ATML-proj/blob/main/semi_supervised_newsgroups_label_spreading_ipynb.ipynb\" target=\"_parent\"><img src=\"https://colab.research.google.com/assets/colab-badge.svg\" alt=\"Open In Colab\"/></a>"
      ]
    },
    {
      "cell_type": "code",
      "metadata": {
        "colab": {
          "base_uri": "https://localhost:8080/"
        },
        "id": "G3zvDFz_BzJu",
        "outputId": "6a213b50-20dc-438b-dfe6-a4850e4cd845"
      },
      "source": [
        "!pip install --upgrade scikit-learn\n",
        "!pip install gensim"
      ],
      "execution_count": 2,
      "outputs": [
        {
          "output_type": "stream",
          "text": [
            "Requirement already up-to-date: scikit-learn in /usr/local/lib/python3.7/dist-packages (0.24.2)\n",
            "Requirement already satisfied, skipping upgrade: scipy>=0.19.1 in /usr/local/lib/python3.7/dist-packages (from scikit-learn) (1.4.1)\n",
            "Requirement already satisfied, skipping upgrade: threadpoolctl>=2.0.0 in /usr/local/lib/python3.7/dist-packages (from scikit-learn) (2.1.0)\n",
            "Requirement already satisfied, skipping upgrade: joblib>=0.11 in /usr/local/lib/python3.7/dist-packages (from scikit-learn) (1.0.1)\n",
            "Requirement already satisfied, skipping upgrade: numpy>=1.13.3 in /usr/local/lib/python3.7/dist-packages (from scikit-learn) (1.19.5)\n",
            "Requirement already satisfied: gensim in /usr/local/lib/python3.7/dist-packages (3.6.0)\n",
            "Requirement already satisfied: smart-open>=1.2.1 in /usr/local/lib/python3.7/dist-packages (from gensim) (5.0.0)\n",
            "Requirement already satisfied: numpy>=1.11.3 in /usr/local/lib/python3.7/dist-packages (from gensim) (1.19.5)\n",
            "Requirement already satisfied: six>=1.5.0 in /usr/local/lib/python3.7/dist-packages (from gensim) (1.15.0)\n",
            "Requirement already satisfied: scipy>=0.18.1 in /usr/local/lib/python3.7/dist-packages (from gensim) (1.4.1)\n"
          ],
          "name": "stdout"
        }
      ]
    },
    {
      "cell_type": "code",
      "metadata": {
        "colab": {
          "base_uri": "https://localhost:8080/"
        },
        "id": "b6bJzc3hUN1g",
        "outputId": "f1c2c6af-527c-43c5-87e9-dfa42a20cd26"
      },
      "source": [
        "import re\n",
        "import numpy as np \n",
        "import pandas as pd \n",
        "\n",
        "pd.set_option('display.max_colwidth', -1)\n",
        "\n",
        "# dataset\n",
        "from sklearn.datasets import fetch_20newsgroups\n",
        "\n",
        "# Gensim packages\n",
        "from gensim.parsing import strip_tags, strip_numeric, strip_multiple_whitespaces, stem_text, strip_punctuation, remove_stopwords\n",
        "from gensim.parsing import preprocess_string"
      ],
      "execution_count": 3,
      "outputs": [
        {
          "output_type": "stream",
          "text": [
            "/usr/local/lib/python3.7/dist-packages/ipykernel_launcher.py:5: FutureWarning: Passing a negative integer is deprecated in version 1.0 and will not be supported in future version. Instead, use None to not limit the column width.\n",
            "  \"\"\"\n"
          ],
          "name": "stderr"
        }
      ]
    },
    {
      "cell_type": "code",
      "metadata": {
        "id": "a7siQQgSUTc9"
      },
      "source": [
        "# loading dataset\n",
        "news_group = fetch_20newsgroups(subset='train')\n",
        "\n",
        "news_group_data = news_group.data\n",
        "news_group_target_names = news_group.target_names\n",
        "news_group_target = news_group.target\n",
        "# Creating a dataframe from the loaded data\n",
        "news_df = pd.DataFrame({'news': news_group_data, \n",
        "                        'class': news_group_target})\n",
        "# Custom filter method\n",
        "transform_to_lower = lambda s: s.lower() #upper to lower case\n",
        "\n",
        "remove_single_char = lambda s: re.sub(r'\\s+\\w{1}\\s+', '', s) #regex to remove single char\n",
        "\n",
        "# Filters to be executed in pipeline\n",
        "CLEAN_FILTERS = [strip_tags,\n",
        "                strip_numeric,\n",
        "                strip_punctuation, \n",
        "                strip_multiple_whitespaces, \n",
        "                transform_to_lower,\n",
        "                remove_stopwords,\n",
        "                remove_single_char,stem_text] #stemming text\n",
        "\n",
        "# Method does the filtering of all the unrelevant text elements\n",
        "def cleaning_pipe(document):\n",
        "    # Invoking gensim.parsing.preprocess_string method with set of filters\n",
        "    processed_words = preprocess_string(document, CLEAN_FILTERS)\n",
        "    \n",
        "    return processed_words"
      ],
      "execution_count": 5,
      "outputs": []
    },
    {
      "cell_type": "code",
      "metadata": {
        "colab": {
          "base_uri": "https://localhost:8080/"
        },
        "id": "GGl-fO3F4gDs",
        "outputId": "538b8aac-3a70-42a6-e255-51fab264791a"
      },
      "source": [
        "import os\n",
        "\n",
        "import numpy as np\n",
        "\n",
        "from sklearn.datasets import fetch_20newsgroups\n",
        "from sklearn.feature_extraction.text import CountVectorizer\n",
        "from sklearn.feature_extraction.text import TfidfTransformer\n",
        "from sklearn.preprocessing import FunctionTransformer\n",
        "from sklearn.linear_model import SGDClassifier\n",
        "from sklearn.model_selection import train_test_split\n",
        "from sklearn.pipeline import Pipeline\n",
        "from sklearn.semi_supervised import SelfTrainingClassifier\n",
        "from sklearn.semi_supervised import LabelSpreading\n",
        "from sklearn.metrics import f1_score\n",
        "\n",
        "data = fetch_20newsgroups(subset='train', categories=None)\n",
        "print(\"%d documents\" % len(data.filenames))\n",
        "print(\"%d categories\" % len(data.target_names))\n",
        "print()\n",
        "\n",
        "# Parameters\n",
        "sdg_params = dict(alpha=1e-5, penalty='l2', loss='log')\n",
        "vectorizer_params = dict(ngram_range=(1, 2), min_df=5, max_df=0.8)\n",
        "\n",
        "# Supervised Pipeline\n",
        "pipeline = Pipeline([\n",
        "    ('vect', CountVectorizer(tokenizer=cleaning_pipe,**vectorizer_params)),\n",
        "    ('tfidf', TfidfTransformer()),\n",
        "    ('clf', SGDClassifier(**sdg_params)),\n",
        "])\n",
        "# SelfTraining Pipeline\n",
        "st_pipeline = Pipeline([\n",
        "    ('vect', CountVectorizer(tokenizer=cleaning_pipe,**vectorizer_params)),\n",
        "    ('tfidf', TfidfTransformer()),\n",
        "    ('clf', SelfTrainingClassifier(SGDClassifier(**sdg_params), verbose=True)),\n",
        "])\n",
        "# LabelSpreading Pipeline\n",
        "ls_pipeline = Pipeline([\n",
        "    ('vect', CountVectorizer(tokenizer=cleaning_pipe,**vectorizer_params)),\n",
        "    ('tfidf', TfidfTransformer()),\n",
        "    # LabelSpreading does not support dense matrices\n",
        "    ('todense', FunctionTransformer(lambda x: x.todense())),\n",
        "    ('clf', LabelSpreading()),\n",
        "])\n",
        "\n",
        "\n",
        "def eval_and_print_metrics(clf, X_train, y_train, X_test, y_test):\n",
        "    print(\"Number of training samples:\", len(X_train))\n",
        "    print(\"Unlabeled samples in training set:\",\n",
        "          sum(1 for x in y_train if x == -1))\n",
        "    clf.fit(X_train, y_train)\n",
        "    y_pred = clf.predict(X_test)\n",
        "    print(\"Micro-averaged F1 score on test set: \"\n",
        "          \"%0.3f\" % f1_score(y_test, y_pred, average='micro'))\n",
        "    print(\"-\" * 10)\n",
        "    print()\n",
        "\n",
        "\n",
        "if __name__ == \"__main__\":\n",
        "    X, y = data.data, data.target\n",
        "    X_train, X_test, y_train, y_test = train_test_split(X, y)\n",
        "\n",
        "    print(\"Supervised SGDClassifier on 100% of the data:\")\n",
        "    eval_and_print_metrics(pipeline, X_train, y_train, X_test, y_test)\n",
        "\n",
        "    # select a mask of 20% of the train dataset\n",
        "    y_mask = np.random.rand(len(y_train)) < 0.2\n",
        "\n",
        "    # X_20 and y_20 are the subset of the train dataset indicated by the mask\n",
        "    X_20, y_20 = map(list, zip(*((x, y)\n",
        "                     for x, y, m in zip(X_train, y_train, y_mask) if m)))\n",
        "    print(\"Supervised SGDClassifier on 20% of the training data:\")\n",
        "    eval_and_print_metrics(pipeline, X_20, y_20, X_test, y_test)\n",
        "\n",
        "    # set the non-masked subset to be unlabeled\n",
        "    y_train[~y_mask] = -1\n",
        "    print(\"SelfTrainingClassifier on 20% of the training data (rest \"\n",
        "          \"is unlabeled):\")\n",
        "    eval_and_print_metrics(st_pipeline, X_train, y_train, X_test, y_test)\n",
        "\n",
        "    if 'CI' not in os.environ:\n",
        "        print(\"LabelSpreading on 20% of the data (rest is unlabeled):\")\n",
        "        eval_and_print_metrics(ls_pipeline, X_train, y_train, X_test, y_test)"
      ],
      "execution_count": 12,
      "outputs": [
        {
          "output_type": "stream",
          "text": [
            "11314 documents\n",
            "20 categories\n",
            "\n",
            "Supervised SGDClassifier on 100% of the data:\n",
            "Number of training samples: 8485\n",
            "Unlabeled samples in training set: 0\n",
            "Micro-averaged F1 score on test set: 0.913\n",
            "----------\n",
            "\n",
            "Supervised SGDClassifier on 20% of the training data:\n",
            "Number of training samples: 1736\n",
            "Unlabeled samples in training set: 0\n",
            "Micro-averaged F1 score on test set: 0.779\n",
            "----------\n",
            "\n",
            "SelfTrainingClassifier on 20% of the training data (rest is unlabeled):\n",
            "Number of training samples: 8485\n",
            "Unlabeled samples in training set: 6749\n",
            "End of iteration 1, added 3364 new labels.\n",
            "End of iteration 2, added 686 new labels.\n",
            "End of iteration 3, added 212 new labels.\n",
            "End of iteration 4, added 71 new labels.\n",
            "End of iteration 5, added 25 new labels.\n",
            "End of iteration 6, added 10 new labels.\n",
            "End of iteration 7, added 12 new labels.\n",
            "End of iteration 8, added 7 new labels.\n",
            "End of iteration 9, added 10 new labels.\n",
            "End of iteration 10, added 5 new labels.\n",
            "Micro-averaged F1 score on test set: 0.838\n",
            "----------\n",
            "\n",
            "LabelSpreading on 20% of the data (rest is unlabeled):\n",
            "Number of training samples: 8485\n",
            "Unlabeled samples in training set: 6749\n",
            "Micro-averaged F1 score on test set: 0.619\n",
            "----------\n",
            "\n"
          ],
          "name": "stdout"
        }
      ]
    }
  ]
}