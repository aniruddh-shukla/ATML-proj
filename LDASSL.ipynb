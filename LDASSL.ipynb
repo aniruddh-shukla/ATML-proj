{
 "cells": [
  {
   "cell_type": "code",
   "execution_count": 1,
   "metadata": {},
   "outputs": [
    {
     "name": "stderr",
     "output_type": "stream",
     "text": [
      "C:\\Users\\Vatsal\\anaconda3\\lib\\site-packages\\gensim\\similarities\\__init__.py:15: UserWarning: The gensim.similarities.levenshtein submodule is disabled, because the optional Levenshtein package <https://pypi.org/project/python-Levenshtein/> is unavailable. Install Levenhstein (e.g. `pip install python-Levenshtein`) to suppress this warning.\n",
      "  warnings.warn(msg)\n"
     ]
    }
   ],
   "source": [
    "import numpy as np\n",
    "import pandas as pd\n",
    "import re, nltk, spacy, gensim\n",
    "from sklearn.base import BaseEstimator, TransformerMixin\n",
    "\n",
    "# Gensim\n",
    "import gensim\n",
    "import gensim.corpora as corpora\n",
    "from gensim.utils import simple_preprocess\n",
    "from gensim.models import CoherenceModel\n",
    "\n",
    "\n",
    "# Sklearn\n",
    "from sklearn.decomposition import LatentDirichletAllocation, TruncatedSVD\n",
    "from sklearn.feature_extraction.text import CountVectorizer, TfidfVectorizer\n",
    "from sklearn.model_selection import GridSearchCV\n",
    "from pprint import pprint\n",
    "\n",
    "# Plotting tools\n",
    "import pyLDAvis\n",
    "import pyLDAvis.sklearn\n",
    "import pyLDAvis.gensim_models\n",
    "import matplotlib.pyplot as plt\n",
    "# dataset\n",
    "from sklearn.datasets import fetch_20newsgroups\n",
    "# Import Dataset\n",
    "# loading train dataset\n",
    "news_group_train = fetch_20newsgroups(subset='train',remove=('headers', 'footers', 'quotes'))\n",
    "news_group_data_train = news_group_train.data\n",
    "news_group_target_names_train = news_group_train.target_names\n",
    "news_group_target_train = news_group_train.target\n",
    "\n",
    "# Creating a dataframe from the loaded data\n",
    "news_train = pd.DataFrame({'news': news_group_data_train, \n",
    "                        'class': news_group_target_train})\n",
    "\n",
    "#Loading test data\n",
    "news_group_test = fetch_20newsgroups(subset='test',remove=('headers', 'footers', 'quotes'))\n",
    "news_group_data_test = news_group_test.data\n",
    "news_group_target_names_test = news_group_test.target_names\n",
    "news_group_target_test = news_group_test.target\n",
    "\n",
    "# Creating a dataframe from the loaded data\n",
    "news_test = pd.DataFrame({'news': news_group_data_test, \n",
    "                        'class': news_group_target_test})\n",
    "#Merging both dataset\n",
    "frames = [news_train,news_test]\n",
    "df = pd.concat(frames).reset_index(drop=True)"
   ]
  },
  {
   "cell_type": "code",
   "execution_count": 2,
   "metadata": {},
   "outputs": [
    {
     "name": "stdout",
     "output_type": "stream",
     "text": [
      "18846 documents\n",
      "20 categories\n"
     ]
    },
    {
     "name": "stderr",
     "output_type": "stream",
     "text": [
      "C:\\Users\\Vatsal\\anaconda3\\lib\\site-packages\\ipykernel\\ipkernel.py:287: DeprecationWarning: `should_run_async` will not call `transform_cell` automatically in the future. Please pass the result to `transformed_cell` argument and any exception that happen during thetransform in `preprocessing_exc_tuple` in IPython 7.17 and above.\n",
      "  and should_run_async(code)\n"
     ]
    }
   ],
   "source": [
    "import numpy as np\n",
    "from sklearn.linear_model import SGDClassifier\n",
    "from sklearn.model_selection import train_test_split\n",
    "from sklearn.pipeline import Pipeline\n",
    "from sklearn.semi_supervised import SelfTrainingClassifier\n",
    "from sklearn.semi_supervised import LabelSpreading\n",
    "from sklearn.metrics import f1_score\n",
    "from sklearn.semi_supervised import LabelPropagation\n",
    "print(\"%d documents\" % len(df.index))\n",
    "print(\"%d categories\" % 20)"
   ]
  },
  {
   "cell_type": "code",
   "execution_count": 3,
   "metadata": {},
   "outputs": [
    {
     "name": "stderr",
     "output_type": "stream",
     "text": [
      "C:\\Users\\Vatsal\\anaconda3\\lib\\site-packages\\ipykernel\\ipkernel.py:287: DeprecationWarning: `should_run_async` will not call `transform_cell` automatically in the future. Please pass the result to `transformed_cell` argument and any exception that happen during thetransform in `preprocessing_exc_tuple` in IPython 7.17 and above.\n",
      "  and should_run_async(code)\n",
      "<>:17: DeprecationWarning: invalid escape sequence \\S\n",
      "<>:20: DeprecationWarning: invalid escape sequence \\s\n",
      "<>:17: DeprecationWarning: invalid escape sequence \\S\n",
      "<>:20: DeprecationWarning: invalid escape sequence \\s\n",
      "<ipython-input-3-7cec5fc52a8f>:17: DeprecationWarning: invalid escape sequence \\S\n",
      "  data = [re.sub('\\S*@\\S*\\s?', '', sent) for sent in data]\n",
      "<ipython-input-3-7cec5fc52a8f>:20: DeprecationWarning: invalid escape sequence \\s\n",
      "  data = [re.sub('\\s+', ' ', sent) for sent in data]\n"
     ]
    }
   ],
   "source": [
    "class CleanTransformer(BaseEstimator, TransformerMixin):\n",
    "    def __init__(self):\n",
    "        print(\"Inside cleaning init\")\n",
    "   \n",
    "    def fit(self,X,y=None):\n",
    "        print(\"Inside cleaning pipe fit\")\n",
    "        return self\n",
    "    \n",
    "    \n",
    "    \n",
    "    def transform(self,X,y=None):\n",
    "        print(\"Inside cleaning pipe transform\")\n",
    "        # Convert to list\n",
    "        data = X.tolist()\n",
    "\n",
    "        # Remove Emails\n",
    "        data = [re.sub('\\S*@\\S*\\s?', '', sent) for sent in data]\n",
    "\n",
    "        # Remove new line characters\n",
    "        data = [re.sub('\\s+', ' ', sent) for sent in data]\n",
    "\n",
    "        # Remove distracting single quotes\n",
    "        data = [re.sub(\"\\'\", \"\", sent) for sent in data]\n",
    "\n",
    "        \n",
    "        def sent_to_words(sentences):\n",
    "            for sentence in sentences:\n",
    "                yield(gensim.utils.simple_preprocess(str(sentence), deacc=True))  # deacc=True removes punctuations\n",
    "\n",
    "        data_words = list(sent_to_words(data))\n",
    "#         # Faster way to get a sentence clubbed as a trigram/bigram\n",
    "#         # Build the bigram and trigram models\n",
    "#         bigram = gensim.models.Phrases(data_words, min_count=5, threshold=100) # higher threshold fewer phrases.\n",
    "#         trigram = gensim.models.Phrases(bigram[data_words], threshold=100)  \n",
    "#         bigram_mod = gensim.models.phrases.Phraser(bigram)\n",
    "#         trigram_mod = gensim.models.phrases.Phraser(trigram)\n",
    "#         def make_bigrams(texts):\n",
    "#             return [bigram_mod[doc] for doc in texts]\n",
    "\n",
    "#         def make_trigrams(texts):\n",
    "#             return [trigram_mod[bigram_mod[doc]] for doc in texts]\n",
    "#         # Form Bigrams\n",
    "#         data_words_bigrams = make_bigrams(data_words)\n",
    "        def lemmatization(texts, allowed_postags=['NOUN', 'ADJ', 'VERB', 'ADV']):\n",
    "            \"\"\"https://spacy.io/api/annotation\"\"\"\n",
    "            texts_out = []\n",
    "            for sent in texts:\n",
    "                doc = nlp(\" \".join(sent)) \n",
    "                texts_out.append([token.lemma_ for token in doc if token.pos_ in allowed_postags])\n",
    "            return texts_out\n",
    "\n",
    "        # Initialize spacy 'en' model, keeping only tagger component (for efficiency)\n",
    "        nlp = spacy.load('en_core_web_sm', disable=['parser', 'ner'])\n",
    "\n",
    "        # Do lemmatization keeping only Noun, Adj, Verb, Adverb\n",
    "        data_lemmatized = lemmatization(data_words, allowed_postags=['NOUN', 'ADJ', 'VERB', 'ADV'])\n",
    "        \n",
    "        #print(data_lemmatized[:1])\n",
    "        return(data_lemmatized)"
   ]
  },
  {
   "cell_type": "code",
   "execution_count": 4,
   "metadata": {},
   "outputs": [
    {
     "name": "stderr",
     "output_type": "stream",
     "text": [
      "C:\\Users\\Vatsal\\anaconda3\\lib\\site-packages\\ipykernel\\ipkernel.py:287: DeprecationWarning: `should_run_async` will not call `transform_cell` automatically in the future. Please pass the result to `transformed_cell` argument and any exception that happen during thetransform in `preprocessing_exc_tuple` in IPython 7.17 and above.\n",
      "  and should_run_async(code)\n"
     ]
    }
   ],
   "source": [
    "class LDATransformer(BaseEstimator, TransformerMixin):\n",
    "    def __init__(self):\n",
    "        print(\"Inside lda pipe init\")\n",
    "   \n",
    "    def fit(self,X,y=None):\n",
    "        print(\"Inside lda pipe fit\")\n",
    "        # Create Dictionary\n",
    "        self.dictionary_LDA = corpora.Dictionary(X)\n",
    "#         # assume the word 'b' is to be deleted, put its id in a variable\n",
    "#         del_ids = [k for k,v in self.dictionary_LDA.items() if len(k)<4]\n",
    "\n",
    "#         # remove unwanted word ids from the dictionary in place\n",
    "#         self.dictionary_LDA.filter_tokens(bad_ids=del_ids)\n",
    "\n",
    "        # Term Document Frequency\n",
    "        corpus = [self.dictionary_LDA.doc2bow(data_lemmatized) for data_lemmatized in X]\n",
    "        def compute_coherence_values(dictionary, corpus, texts, limit, start=2, step=3):\n",
    "            coherence_values = []\n",
    "            model_list = []\n",
    "            for num_topics in range(start, limit, step):\n",
    "                model = gensim.models.LdaModel(corpus=corpus, num_topics=num_topics, id2word=dictionary)\n",
    "                model_list.append(model)\n",
    "                coherencemodel = CoherenceModel(model=model, texts=texts, dictionary=dictionary, coherence='c_v')\n",
    "                coherence_values.append(coherencemodel.get_coherence())\n",
    "            return model_list, coherence_values\n",
    "        model_list, coherence_values = compute_coherence_values(dictionary=self.dictionary_LDA, corpus=corpus, texts=X, start=2, limit=40, step=6)\n",
    "        # Show graph\n",
    "        limit=40; start=2; step=6;\n",
    "        x = range(start, limit, step)\n",
    "        plt.plot(x, coherence_values)\n",
    "        plt.xlabel(\"Num Topics\")\n",
    "        plt.ylabel(\"Coherence score\")\n",
    "        plt.legend((\"coherence_values\"), loc='best')\n",
    "        plt.show()\n",
    "        nooftopics=0\n",
    "        cvscore=0\n",
    "        # Print the coherence scores\n",
    "        for m, cv in zip(x, coherence_values):\n",
    "            if cvscore<cv:\n",
    "                nooftopics=m\n",
    "                cvscore=cv\n",
    "            print(\"Num Topics =\", m, \" has Coherence Value of\", round(cv, 4))\n",
    "        print(\"Best no of Topics =\", nooftopics, \" has Coherence Value of\", round(cvscore, 4))\n",
    "        # Build LDA model\n",
    "        self.num_topics =nooftopics\n",
    "        self.lda_model = gensim.models.LdaModel(corpus, num_topics=self.num_topics, id2word=self.dictionary_LDA, passes=4, alpha=[0.01]*self.num_topics, \\\n",
    "                                           eta=[0.01]*len(self.dictionary_LDA.keys()))\n",
    "        # Visualize the topics\n",
    "        pyLDAvis.enable_notebook()\n",
    "        vis = pyLDAvis.gensim_models.prepare(self.lda_model, corpus, self.dictionary_LDA)\n",
    "        vis\n",
    "        return self\n",
    "        \n",
    "    def transform(self,X):\n",
    "        print(\"Inside lda pipe transform\")\n",
    "            \n",
    "        # Term Document Frequency\n",
    "        corpus = [self.dictionary_LDA.doc2bow(data_lemmatized) for data_lemmatized in X]\n",
    "        \n",
    "        topics = [self.lda_model[corpus[i]] for i in range(len(X))]\n",
    "        def topics_document_to_dataframe(topics_document, num_topics):\n",
    "            res = pd.DataFrame(columns=range(num_topics))\n",
    "            for topic_weight in topics_document:\n",
    "                res.loc[0, topic_weight[0]] = topic_weight[1]\n",
    "            return res\n",
    "        features=pd.concat([topics_document_to_dataframe(topics_document, num_topics=self.num_topics) for topics_document in topics]) \\\n",
    "            .reset_index(drop=True).fillna(0)\n",
    "        #print(features)\n",
    "        return features.to_numpy()\n",
    "            \n",
    "       \n"
   ]
  },
  {
   "cell_type": "code",
   "execution_count": 5,
   "metadata": {},
   "outputs": [
    {
     "name": "stdout",
     "output_type": "stream",
     "text": [
      "Inside cleaning init\n",
      "Inside lda pipe init\n",
      "Inside cleaning init\n",
      "Inside lda pipe init\n",
      "Inside cleaning init\n",
      "Inside lda pipe init\n"
     ]
    },
    {
     "name": "stderr",
     "output_type": "stream",
     "text": [
      "C:\\Users\\Vatsal\\anaconda3\\lib\\site-packages\\ipykernel\\ipkernel.py:287: DeprecationWarning: `should_run_async` will not call `transform_cell` automatically in the future. Please pass the result to `transformed_cell` argument and any exception that happen during thetransform in `preprocessing_exc_tuple` in IPython 7.17 and above.\n",
      "  and should_run_async(code)\n"
     ]
    }
   ],
   "source": [
    "from sklearn.preprocessing import FunctionTransformer\n",
    "# Parameters\n",
    "sdg_params = dict(alpha=1e-5, penalty='l2', loss='log')\n",
    "\n",
    "# Supervised Pipeline\n",
    "pipeline = Pipeline([\n",
    "    ('CleanTransformer', CleanTransformer()),\n",
    "    ('LDATransformer', LDATransformer()),\n",
    "    ('clf', SGDClassifier(**sdg_params)),\n",
    "])\n",
    "# SelfTraining Pipeline\n",
    "st_pipeline = Pipeline([\n",
    "    ('CleanTransformer', CleanTransformer()),\n",
    "    ('LDATransformer', LDATransformer()),\n",
    "    ('clf', SelfTrainingClassifier(SGDClassifier(**sdg_params), verbose=True)),\n",
    "])\n",
    "# LabelSpreading Pipeline\n",
    "lp_pipeline = Pipeline([\n",
    "    ('CleanTransformer', CleanTransformer()),\n",
    "    ('LDATransformer', LDATransformer()),\n",
    "    # LabelSpreading does not support dense matrices\n",
    "    #('todense', FunctionTransformer(lambda x: x.todense())),\n",
    "    ('clf', LabelPropagation(max_iter=2000)),\n",
    "])"
   ]
  },
  {
   "cell_type": "code",
   "execution_count": 6,
   "metadata": {
    "scrolled": false
   },
   "outputs": [
    {
     "name": "stderr",
     "output_type": "stream",
     "text": [
      "C:\\Users\\Vatsal\\anaconda3\\lib\\site-packages\\ipykernel\\ipkernel.py:287: DeprecationWarning: `should_run_async` will not call `transform_cell` automatically in the future. Please pass the result to `transformed_cell` argument and any exception that happen during thetransform in `preprocessing_exc_tuple` in IPython 7.17 and above.\n",
      "  and should_run_async(code)\n"
     ]
    },
    {
     "name": "stdout",
     "output_type": "stream",
     "text": [
      "Supervised SGDClassifier on 100% of the data:\n",
      "Number of training samples: 12626\n",
      "Unlabeled samples in training set: 0\n",
      "Inside cleaning pipe fit\n",
      "Inside cleaning pipe transform\n",
      "Inside lda pipe fit\n"
     ]
    },
    {
     "data": {
      "image/png": "[encoded data removed]",
      "text/plain": [
       "<Figure size 432x288 with 1 Axes>"
      ]
     },
     "metadata": {
      "needs_background": "light"
     },
     "output_type": "display_data"
    },
    {
     "name": "stdout",
     "output_type": "stream",
     "text": [
      "Num Topics = 2  has Coherence Value of 0.518\n",
      "Num Topics = 8  has Coherence Value of 0.5787\n",
      "Num Topics = 14  has Coherence Value of 0.5435\n",
      "Num Topics = 20  has Coherence Value of 0.5023\n",
      "Num Topics = 26  has Coherence Value of 0.5307\n",
      "Num Topics = 32  has Coherence Value of 0.5256\n",
      "Num Topics = 38  has Coherence Value of 0.4872\n",
      "Best no of Topics = 8  has Coherence Value of 0.5787\n",
      "Inside lda pipe transform\n",
      "Inside cleaning pipe transform\n",
      "Inside lda pipe transform\n",
      "Micro-averaged F1 score on test set: 0.260\n",
      "----------\n",
      "\n",
      "Supervised SGDClassifier on 20% of the training data:\n",
      "Number of training samples: 2584\n",
      "Unlabeled samples in training set: 0\n",
      "Inside cleaning pipe fit\n",
      "Inside cleaning pipe transform\n",
      "Inside lda pipe fit\n"
     ]
    },
    {
     "data": {
      "image/png": "[encoded data removed]",
      "text/plain": [
       "<Figure size 432x288 with 1 Axes>"
      ]
     },
     "metadata": {
      "needs_background": "light"
     },
     "output_type": "display_data"
    },
    {
     "name": "stdout",
     "output_type": "stream",
     "text": [
      "Num Topics = 2  has Coherence Value of 0.5155\n",
      "Num Topics = 8  has Coherence Value of 0.4509\n",
      "Num Topics = 14  has Coherence Value of 0.4502\n",
      "Num Topics = 20  has Coherence Value of 0.4394\n",
      "Num Topics = 26  has Coherence Value of 0.4148\n",
      "Num Topics = 32  has Coherence Value of 0.4125\n",
      "Num Topics = 38  has Coherence Value of 0.4123\n",
      "Best no of Topics = 2  has Coherence Value of 0.5155\n",
      "Inside lda pipe transform\n",
      "Inside cleaning pipe transform\n",
      "Inside lda pipe transform\n",
      "Micro-averaged F1 score on test set: 0.095\n",
      "----------\n",
      "\n",
      "SelfTrainingClassifier on 20% of the training data (rest is unlabeled):\n",
      "Number of training samples: 12626\n",
      "Unlabeled samples in training set: 10042\n",
      "Inside cleaning pipe fit\n",
      "Inside cleaning pipe transform\n",
      "Inside lda pipe fit\n"
     ]
    },
    {
     "data": {
      "image/png": "[encoded data removed]",
      "text/plain": [
       "<Figure size 432x288 with 1 Axes>"
      ]
     },
     "metadata": {
      "needs_background": "light"
     },
     "output_type": "display_data"
    },
    {
     "name": "stdout",
     "output_type": "stream",
     "text": [
      "Num Topics = 2  has Coherence Value of 0.5432\n",
      "Num Topics = 8  has Coherence Value of 0.4667\n",
      "Num Topics = 14  has Coherence Value of 0.5214\n",
      "Num Topics = 20  has Coherence Value of 0.5441\n",
      "Num Topics = 26  has Coherence Value of 0.5089\n",
      "Num Topics = 32  has Coherence Value of 0.5262\n",
      "Num Topics = 38  has Coherence Value of 0.4983\n",
      "Best no of Topics = 20  has Coherence Value of 0.5441\n",
      "Inside lda pipe transform\n",
      "End of iteration 1, added 845 new labels.\n",
      "End of iteration 2, added 205 new labels.\n",
      "End of iteration 3, added 258 new labels.\n",
      "End of iteration 4, added 319 new labels.\n",
      "End of iteration 5, added 28 new labels.\n",
      "End of iteration 6, added 46 new labels.\n",
      "End of iteration 7, added 20 new labels.\n",
      "End of iteration 8, added 107 new labels.\n",
      "End of iteration 9, added 35 new labels.\n",
      "End of iteration 10, added 9 new labels.\n",
      "Inside cleaning pipe transform\n",
      "Inside lda pipe transform\n",
      "Micro-averaged F1 score on test set: 0.374\n",
      "----------\n",
      "\n",
      "LabelSpreading on 20% of the data (rest is unlabeled):\n",
      "Number of training samples: 12626\n",
      "Unlabeled samples in training set: 10042\n",
      "Inside cleaning pipe fit\n",
      "Inside cleaning pipe transform\n",
      "Inside lda pipe fit\n"
     ]
    },
    {
     "data": {
      "image/png": "[encoded data removed]",
      "text/plain": [
       "<Figure size 432x288 with 1 Axes>"
      ]
     },
     "metadata": {
      "needs_background": "light"
     },
     "output_type": "display_data"
    },
    {
     "name": "stdout",
     "output_type": "stream",
     "text": [
      "Num Topics = 2  has Coherence Value of 0.5327\n",
      "Num Topics = 8  has Coherence Value of 0.4933\n",
      "Num Topics = 14  has Coherence Value of 0.5071\n",
      "Num Topics = 20  has Coherence Value of 0.55\n",
      "Num Topics = 26  has Coherence Value of 0.4788\n",
      "Num Topics = 32  has Coherence Value of 0.4948\n",
      "Num Topics = 38  has Coherence Value of 0.4738\n",
      "Best no of Topics = 20  has Coherence Value of 0.55\n",
      "Inside lda pipe transform\n",
      "Inside cleaning pipe transform\n",
      "Inside lda pipe transform\n",
      "Micro-averaged F1 score on test set: 0.350\n",
      "----------\n",
      "\n"
     ]
    }
   ],
   "source": [
    "import os\n",
    "def eval_and_print_metrics(clf, X_train, y_train, X_test, y_test):\n",
    "    print(\"Number of training samples:\", len(X_train))\n",
    "    print(\"Unlabeled samples in training set:\",\n",
    "          sum(1 for x in y_train if x == -1))\n",
    "    clf.fit(X_train, y_train)\n",
    "    y_pred = clf.predict(X_test)\n",
    "    print(\"Micro-averaged F1 score on test set: \"\n",
    "          \"%0.3f\" % f1_score(y_test, y_pred, average='micro'))\n",
    "    print(\"-\" * 10)\n",
    "    print()\n",
    "\n",
    "\n",
    "if __name__ == \"__main__\":\n",
    "    X, y = df['news'],df['class']\n",
    "    X_train, X_test, y_train, y_test = train_test_split(X, y,test_size=0.33,random_state=0,stratify=y)\n",
    "\n",
    "    print(\"Supervised SGDClassifier on 100% of the data:\")\n",
    "    eval_and_print_metrics(pipeline, X_train, y_train, X_test, y_test)\n",
    "\n",
    "    # select a mask of 20% of the train dataset\n",
    "    y_mask = np.random.rand(len(y_train)) < 0.2\n",
    "\n",
    "    # X_20 and y_20 are the subset of the train dataset indicated by the mask\n",
    "    X_20, y_20 = map(list, zip(*((x, y)\n",
    "                     for x, y, m in zip(X_train, y_train, y_mask) if m)))\n",
    "    \n",
    "    print(\"Supervised SGDClassifier on 20% of the training data:\")\n",
    "    eval_and_print_metrics(pipeline, np.array(X_20), np.array(y_20), X_test, y_test)\n",
    "\n",
    "    # set the non-masked subset to be unlabeled\n",
    "    y_train[~y_mask] = -1\n",
    "    print(\"SelfTrainingClassifier on 20% of the training data (rest \"\n",
    "          \"is unlabeled):\")\n",
    "    eval_and_print_metrics(st_pipeline, X_train, y_train, X_test, y_test)\n",
    "\n",
    "    if 'CI' not in os.environ:\n",
    "        print(\"LabelSpreading on 20% of the data (rest is unlabeled):\")\n",
    "        eval_and_print_metrics(lp_pipeline, X_train, y_train, X_test, y_test)"
   ]
  }
 ],
 "metadata": {
  "kernelspec": {
   "display_name": "Python 3",
   "language": "python",
   "name": "python3"
  },
  "language_info": {
   "codemirror_mode": {
    "name": "ipython",
    "version": 3
   },
   "file_extension": ".py",
   "mimetype": "text/x-python",
   "name": "python",
   "nbconvert_exporter": "python",
   "pygments_lexer": "ipython3",
   "version": "3.8.5"
  }
 },
 "nbformat": 4,
 "nbformat_minor": 4
}
