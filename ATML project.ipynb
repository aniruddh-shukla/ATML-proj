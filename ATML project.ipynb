{
 "cells": [
  {
   "cell_type": "code",
   "execution_count": 1,
   "metadata": {},
   "outputs": [
    {
     "name": "stdout",
     "output_type": "stream",
     "text": [
      "Collecting gensim\n",
      "  Downloading https://files.pythonhosted.org/packages/15/89/b785d557e3c806abc8beaae664571d71e8c4eb736a2c32b69aba9932cbd1/gensim-4.0.1-cp37-cp37m-win_amd64.whl (23.9MB)\n",
      "Collecting smart-open>=1.8.1 (from gensim)\n",
      "  Downloading https://files.pythonhosted.org/packages/2f/36/5f7cdd039b2a49636aa098145a3f233601d4580805ccf19819743bd7dad1/smart_open-5.0.0-py3-none-any.whl (56kB)\n",
      "Collecting Cython==0.29.21 (from gensim)\n",
      "  Downloading https://files.pythonhosted.org/packages/79/f4/28002920834b292a4dece255d59860c9996d16002f1bca30d7794e0b7884/Cython-0.29.21-cp37-cp37m-win_amd64.whl (1.6MB)\n",
      "Requirement already satisfied: scipy>=0.18.1 in c:\\users\\user\\anaconda3\\lib\\site-packages (from gensim) (1.4.1)\n",
      "Requirement already satisfied: numpy>=1.11.3 in c:\\users\\user\\anaconda3\\lib\\site-packages (from gensim) (1.19.1)\n",
      "Installing collected packages: smart-open, Cython, gensim\n",
      "  Found existing installation: Cython 0.29.13\n",
      "    Uninstalling Cython-0.29.13:\n",
      "      Successfully uninstalled Cython-0.29.13\n",
      "Successfully installed Cython-0.29.21 gensim-4.0.1 smart-open-5.0.0\n"
     ]
    }
   ],
   "source": [
    "!pip install gensim"
   ]
  },
  {
   "cell_type": "markdown",
   "metadata": {},
   "source": [
    "# Import"
   ]
  },
  {
   "cell_type": "code",
   "execution_count": 2,
   "metadata": {},
   "outputs": [
    {
     "name": "stderr",
     "output_type": "stream",
     "text": [
      "C:\\Users\\User\\Anaconda3\\lib\\site-packages\\ipykernel_launcher.py:5: FutureWarning: Passing a negative integer is deprecated in version 1.0 and will not be supported in future version. Instead, use None to not limit the column width.\n",
      "  \"\"\"\n",
      "C:\\Users\\User\\Anaconda3\\lib\\site-packages\\gensim\\similarities\\__init__.py:15: UserWarning: The gensim.similarities.levenshtein submodule is disabled, because the optional Levenshtein package <https://pypi.org/project/python-Levenshtein/> is unavailable. Install Levenhstein (e.g. `pip install python-Levenshtein`) to suppress this warning.\n",
      "  warnings.warn(msg)\n"
     ]
    }
   ],
   "source": [
    "import re\n",
    "import numpy as np \n",
    "import pandas as pd \n",
    "\n",
    "pd.set_option('display.max_colwidth', -1)\n",
    "\n",
    "# dataset\n",
    "from sklearn.datasets import fetch_20newsgroups\n",
    "\n",
    "# Gensim packages\n",
    "from gensim.parsing import strip_tags, strip_numeric, strip_multiple_whitespaces, stem_text, strip_punctuation, remove_stopwords\n",
    "from gensim.parsing import preprocess_string"
   ]
  },
  {
   "cell_type": "code",
   "execution_count": 3,
   "metadata": {},
   "outputs": [],
   "source": [
    "# loading dataset\n",
    "news_group = fetch_20newsgroups(subset='train')\n",
    "\n",
    "news_group_data = news_group.data\n",
    "news_group_target_names = news_group.target_names\n",
    "news_group_target = news_group.target"
   ]
  },
  {
   "cell_type": "code",
   "execution_count": 4,
   "metadata": {},
   "outputs": [],
   "source": [
    "# Creating a dataframe from the loaded data\n",
    "news_df = pd.DataFrame({'news': news_group_data, \n",
    "                        'class': news_group_target})"
   ]
  },
  {
   "cell_type": "code",
   "execution_count": 9,
   "metadata": {},
   "outputs": [
    {
     "data": {
      "text/html": [
       "<div>\n",
       "<style scoped>\n",
       "    .dataframe tbody tr th:only-of-type {\n",
       "        vertical-align: middle;\n",
       "    }\n",
       "\n",
       "    .dataframe tbody tr th {\n",
       "        vertical-align: top;\n",
       "    }\n",
       "\n",
       "    .dataframe thead th {\n",
       "        text-align: right;\n",
       "    }\n",
       "</style>\n",
       "<table border=\"1\" class=\"dataframe\">\n",
       "  <thead>\n",
       "    <tr style=\"text-align: right;\">\n",
       "      <th></th>\n",
       "      <th>news</th>\n",
       "      <th>class</th>\n",
       "    </tr>\n",
       "  </thead>\n",
       "  <tbody>\n",
       "    <tr>\n",
       "      <th>0</th>\n",
       "      <td>From: lerxst@wam.umd.edu (where's my thing)\\nSubject: WHAT car is this!?\\nNntp-Posting-Host: rac3.wam.umd.edu\\nOrganization: University of Maryland, College Park\\nLines: 15\\n\\n I was wondering if anyone out there could enlighten me on this car I saw\\nthe other day. It was a 2-door sports car, looked to be from the late 60s/\\nearly 70s. It was called a Bricklin. The doors were really small. In addition,\\nthe front bumper was separate from the rest of the body. This is \\nall I know. If anyone can tellme a model name, engine specs, years\\nof production, where this car is made, history, or whatever info you\\nhave on this funky looking car, please e-mail.\\n\\nThanks,\\n- IL\\n   ---- brought to you by your neighborhood Lerxst ----\\n\\n\\n\\n\\n</td>\n",
       "      <td>7</td>\n",
       "    </tr>\n",
       "    <tr>\n",
       "      <th>1</th>\n",
       "      <td>From: guykuo@carson.u.washington.edu (Guy Kuo)\\nSubject: SI Clock Poll - Final Call\\nSummary: Final call for SI clock reports\\nKeywords: SI,acceleration,clock,upgrade\\nArticle-I.D.: shelley.1qvfo9INNc3s\\nOrganization: University of Washington\\nLines: 11\\nNNTP-Posting-Host: carson.u.washington.edu\\n\\nA fair number of brave souls who upgraded their SI clock oscillator have\\nshared their experiences for this poll. Please send a brief message detailing\\nyour experiences with the procedure. Top speed attained, CPU rated speed,\\nadd on cards and adapters, heat sinks, hour of usage per day, floppy disk\\nfunctionality with 800 and 1.4 m floppies are especially requested.\\n\\nI will be summarizing in the next two days, so please add to the network\\nknowledge base if you have done the clock upgrade and haven't answered this\\npoll. Thanks.\\n\\nGuy Kuo &lt;guykuo@u.washington.edu&gt;\\n</td>\n",
       "      <td>4</td>\n",
       "    </tr>\n",
       "    <tr>\n",
       "      <th>2</th>\n",
       "      <td>From: twillis@ec.ecn.purdue.edu (Thomas E Willis)\\nSubject: PB questions...\\nOrganization: Purdue University Engineering Computer Network\\nDistribution: usa\\nLines: 36\\n\\nwell folks, my mac plus finally gave up the ghost this weekend after\\nstarting life as a 512k way back in 1985.  sooo, i'm in the market for a\\nnew machine a bit sooner than i intended to be...\\n\\ni'm looking into picking up a powerbook 160 or maybe 180 and have a bunch\\nof questions that (hopefully) somebody can answer:\\n\\n* does anybody know any dirt on when the next round of powerbook\\nintroductions are expected?  i'd heard the 185c was supposed to make an\\nappearence \"this summer\" but haven't heard anymore on it - and since i\\ndon't have access to macleak, i was wondering if anybody out there had\\nmore info...\\n\\n* has anybody heard rumors about price drops to the powerbook line like the\\nones the duo's just went through recently?\\n\\n* what's the impression of the display on the 180?  i could probably swing\\na 180 if i got the 80Mb disk rather than the 120, but i don't really have\\na feel for how much \"better\" the display is (yea, it looks great in the\\nstore, but is that all \"wow\" or is it really that good?).  could i solicit\\nsome opinions of people who use the 160 and 180 day-to-day on if its worth\\ntaking the disk size and money hit to get the active display?  (i realize\\nthis is a real subjective question, but i've only played around with the\\nmachines in a computer store breifly and figured the opinions of somebody\\nwho actually uses the machine daily might prove helpful).\\n\\n* how well does hellcats perform?  ;)\\n\\nthanks a bunch in advance for any info - if you could email, i'll post a\\nsummary (news reading time is at a premium with finals just around the\\ncorner... :( )\\n--\\nTom Willis  \\  twillis@ecn.purdue.edu    \\    Purdue Electrical Engineering\\n---------------------------------------------------------------------------\\n\"Convictions are more dangerous enemies of truth than lies.\"  - F. W.\\nNietzsche\\n</td>\n",
       "      <td>4</td>\n",
       "    </tr>\n",
       "    <tr>\n",
       "      <th>3</th>\n",
       "      <td>From: jgreen@amber (Joe Green)\\nSubject: Re: Weitek P9000 ?\\nOrganization: Harris Computer Systems Division\\nLines: 14\\nDistribution: world\\nNNTP-Posting-Host: amber.ssd.csd.harris.com\\nX-Newsreader: TIN [version 1.1 PL9]\\n\\nRobert J.C. Kyanko (rob@rjck.UUCP) wrote:\\n&gt; abraxis@iastate.edu writes in article &lt;abraxis.734340159@class1.iastate.edu&gt;:\\n&gt; &gt; Anyone know about the Weitek P9000 graphics chip?\\n&gt; As far as the low-level stuff goes, it looks pretty nice.  It's got this\\n&gt; quadrilateral fill command that requires just the four points.\\n\\nDo you have Weitek's address/phone number?  I'd like to get some information\\nabout this chip.\\n\\n--\\nJoe Green\\t\\t\\t\\tHarris Corporation\\njgreen@csd.harris.com\\t\\t\\tComputer Systems Division\\n\"The only thing that really scares me is a person with no sense of humor.\"\\n\\t\\t\\t\\t\\t\\t-- Jonathan Winters\\n</td>\n",
       "      <td>1</td>\n",
       "    </tr>\n",
       "    <tr>\n",
       "      <th>4</th>\n",
       "      <td>From: jcm@head-cfa.harvard.edu (Jonathan McDowell)\\nSubject: Re: Shuttle Launch Question\\nOrganization: Smithsonian Astrophysical Observatory, Cambridge, MA,  USA\\nDistribution: sci\\nLines: 23\\n\\nFrom article &lt;C5owCB.n3p@world.std.com&gt;, by tombaker@world.std.com (Tom A Baker):\\n&gt;&gt;In article &lt;C5JLwx.4H9.1@cs.cmu.edu&gt;, ETRAT@ttacs1.ttu.edu (Pack Rat) writes...\\n&gt;&gt;&gt;\"Clear caution &amp; warning memory.  Verify no unexpected\\n&gt;&gt;&gt;errors. ...\".  I am wondering what an \"expected error\" might\\n&gt;&gt;&gt;be.  Sorry if this is a really dumb question, but\\n&gt; \\n&gt; Parity errors in memory or previously known conditions that were waivered.\\n&gt;    \"Yes that is an error, but we already knew about it\"\\n&gt; I'd be curious as to what the real meaning of the quote is.\\n&gt; \\n&gt; tom\\n\\n\\nMy understanding is that the 'expected errors' are basically\\nknown bugs in the warning system software - things are checked\\nthat don't have the right values in yet because they aren't\\nset till after launch, and suchlike. Rather than fix the code\\nand possibly introduce new bugs, they just tell the crew\\n'ok, if you see a warning no. 213 before liftoff, ignore it'.\\n\\n - Jonathan\\n\\n\\n</td>\n",
       "      <td>14</td>\n",
       "    </tr>\n",
       "  </tbody>\n",
       "</table>\n",
       "</div>"
      ],
      "text/plain": [
       "                                                                                                                                                                                                                                                                                                                                                                                                                                                                                                                                                                                                                                                                                                                                                                                                                                                                                                                                                                                                                                                                                                                                                                                                                                                                                                                                                                                                                                                                                                                                                                                                                                                                                                                                                                                                                                                                                                                                                                                                                                                                                                      news  \\\n",
       "0  From: lerxst@wam.umd.edu (where's my thing)\\nSubject: WHAT car is this!?\\nNntp-Posting-Host: rac3.wam.umd.edu\\nOrganization: University of Maryland, College Park\\nLines: 15\\n\\n I was wondering if anyone out there could enlighten me on this car I saw\\nthe other day. It was a 2-door sports car, looked to be from the late 60s/\\nearly 70s. It was called a Bricklin. The doors were really small. In addition,\\nthe front bumper was separate from the rest of the body. This is \\nall I know. If anyone can tellme a model name, engine specs, years\\nof production, where this car is made, history, or whatever info you\\nhave on this funky looking car, please e-mail.\\n\\nThanks,\\n- IL\\n   ---- brought to you by your neighborhood Lerxst ----\\n\\n\\n\\n\\n                                                                                                                                                                                                                                                                                                                                                                                                                                                                                                                                                                                                                                                                                                                                                                                                                                                                                                                                                                                                                                                                                                                                                                                                                                                                                                                                    \n",
       "1  From: guykuo@carson.u.washington.edu (Guy Kuo)\\nSubject: SI Clock Poll - Final Call\\nSummary: Final call for SI clock reports\\nKeywords: SI,acceleration,clock,upgrade\\nArticle-I.D.: shelley.1qvfo9INNc3s\\nOrganization: University of Washington\\nLines: 11\\nNNTP-Posting-Host: carson.u.washington.edu\\n\\nA fair number of brave souls who upgraded their SI clock oscillator have\\nshared their experiences for this poll. Please send a brief message detailing\\nyour experiences with the procedure. Top speed attained, CPU rated speed,\\nadd on cards and adapters, heat sinks, hour of usage per day, floppy disk\\nfunctionality with 800 and 1.4 m floppies are especially requested.\\n\\nI will be summarizing in the next two days, so please add to the network\\nknowledge base if you have done the clock upgrade and haven't answered this\\npoll. Thanks.\\n\\nGuy Kuo <guykuo@u.washington.edu>\\n                                                                                                                                                                                                                                                                                                                                                                                                                                                                                                                                                                                                                                                                                                                                                                                                                                                                                                                                                                                                                                                                                                                                                                                            \n",
       "2  From: twillis@ec.ecn.purdue.edu (Thomas E Willis)\\nSubject: PB questions...\\nOrganization: Purdue University Engineering Computer Network\\nDistribution: usa\\nLines: 36\\n\\nwell folks, my mac plus finally gave up the ghost this weekend after\\nstarting life as a 512k way back in 1985.  sooo, i'm in the market for a\\nnew machine a bit sooner than i intended to be...\\n\\ni'm looking into picking up a powerbook 160 or maybe 180 and have a bunch\\nof questions that (hopefully) somebody can answer:\\n\\n* does anybody know any dirt on when the next round of powerbook\\nintroductions are expected?  i'd heard the 185c was supposed to make an\\nappearence \"this summer\" but haven't heard anymore on it - and since i\\ndon't have access to macleak, i was wondering if anybody out there had\\nmore info...\\n\\n* has anybody heard rumors about price drops to the powerbook line like the\\nones the duo's just went through recently?\\n\\n* what's the impression of the display on the 180?  i could probably swing\\na 180 if i got the 80Mb disk rather than the 120, but i don't really have\\na feel for how much \"better\" the display is (yea, it looks great in the\\nstore, but is that all \"wow\" or is it really that good?).  could i solicit\\nsome opinions of people who use the 160 and 180 day-to-day on if its worth\\ntaking the disk size and money hit to get the active display?  (i realize\\nthis is a real subjective question, but i've only played around with the\\nmachines in a computer store breifly and figured the opinions of somebody\\nwho actually uses the machine daily might prove helpful).\\n\\n* how well does hellcats perform?  ;)\\n\\nthanks a bunch in advance for any info - if you could email, i'll post a\\nsummary (news reading time is at a premium with finals just around the\\ncorner... :( )\\n--\\nTom Willis  \\  twillis@ecn.purdue.edu    \\    Purdue Electrical Engineering\\n---------------------------------------------------------------------------\\n\"Convictions are more dangerous enemies of truth than lies.\"  - F. W.\\nNietzsche\\n   \n",
       "3  From: jgreen@amber (Joe Green)\\nSubject: Re: Weitek P9000 ?\\nOrganization: Harris Computer Systems Division\\nLines: 14\\nDistribution: world\\nNNTP-Posting-Host: amber.ssd.csd.harris.com\\nX-Newsreader: TIN [version 1.1 PL9]\\n\\nRobert J.C. Kyanko (rob@rjck.UUCP) wrote:\\n> abraxis@iastate.edu writes in article <abraxis.734340159@class1.iastate.edu>:\\n> > Anyone know about the Weitek P9000 graphics chip?\\n> As far as the low-level stuff goes, it looks pretty nice.  It's got this\\n> quadrilateral fill command that requires just the four points.\\n\\nDo you have Weitek's address/phone number?  I'd like to get some information\\nabout this chip.\\n\\n--\\nJoe Green\\t\\t\\t\\tHarris Corporation\\njgreen@csd.harris.com\\t\\t\\tComputer Systems Division\\n\"The only thing that really scares me is a person with no sense of humor.\"\\n\\t\\t\\t\\t\\t\\t-- Jonathan Winters\\n                                                                                                                                                                                                                                                                                                                                                                                                                                                                                                                                                                                                                                                                                                                                                                                                                                                                                                                                                                                                                                                                                                                                                                                                                        \n",
       "4  From: jcm@head-cfa.harvard.edu (Jonathan McDowell)\\nSubject: Re: Shuttle Launch Question\\nOrganization: Smithsonian Astrophysical Observatory, Cambridge, MA,  USA\\nDistribution: sci\\nLines: 23\\n\\nFrom article <C5owCB.n3p@world.std.com>, by tombaker@world.std.com (Tom A Baker):\\n>>In article <C5JLwx.4H9.1@cs.cmu.edu>, ETRAT@ttacs1.ttu.edu (Pack Rat) writes...\\n>>>\"Clear caution & warning memory.  Verify no unexpected\\n>>>errors. ...\".  I am wondering what an \"expected error\" might\\n>>>be.  Sorry if this is a really dumb question, but\\n> \\n> Parity errors in memory or previously known conditions that were waivered.\\n>    \"Yes that is an error, but we already knew about it\"\\n> I'd be curious as to what the real meaning of the quote is.\\n> \\n> tom\\n\\n\\nMy understanding is that the 'expected errors' are basically\\nknown bugs in the warning system software - things are checked\\nthat don't have the right values in yet because they aren't\\nset till after launch, and suchlike. Rather than fix the code\\nand possibly introduce new bugs, they just tell the crew\\n'ok, if you see a warning no. 213 before liftoff, ignore it'.\\n\\n - Jonathan\\n\\n\\n                                                                                                                                                                                                                                                                                                                                                                                                                                                                                                                                                                                                                                                                                                                                                                                                                                                                                                             \n",
       "\n",
       "   class  \n",
       "0  7      \n",
       "1  4      \n",
       "2  4      \n",
       "3  1      \n",
       "4  14     "
      ]
     },
     "execution_count": 9,
     "metadata": {},
     "output_type": "execute_result"
    }
   ],
   "source": [
    "news_df.head()"
   ]
  },
  {
   "cell_type": "code",
   "execution_count": 5,
   "metadata": {},
   "outputs": [
    {
     "data": {
      "text/html": [
       "<div>\n",
       "<style scoped>\n",
       "    .dataframe tbody tr th:only-of-type {\n",
       "        vertical-align: middle;\n",
       "    }\n",
       "\n",
       "    .dataframe tbody tr th {\n",
       "        vertical-align: top;\n",
       "    }\n",
       "\n",
       "    .dataframe thead th {\n",
       "        text-align: right;\n",
       "    }\n",
       "</style>\n",
       "<table border=\"1\" class=\"dataframe\">\n",
       "  <thead>\n",
       "    <tr style=\"text-align: right;\">\n",
       "      <th></th>\n",
       "      <th>news</th>\n",
       "      <th>class</th>\n",
       "    </tr>\n",
       "  </thead>\n",
       "  <tbody>\n",
       "    <tr>\n",
       "      <th>0</th>\n",
       "      <td>From: tedm@tsoft.net (Ted Matsumura)\\nSubject: Re: Catalog of Hard-to-Find PC Enhancements (Repost)\\nArticle-I.D.: tsoft.C5JCCG.3Bn\\nDistribution: usa\\nOrganization: TSoft BBS and Public Access Unix, +1 415 969 8238\\nLines: 34\\n\\n[stuff deleted]\\n&gt;\\n&gt;For example, I subscribe to 2 magazines, \"ABC news\" and \"XYZ products\".\\n&gt;I give my name as \"Joseph X. Cool\" for the first, and \"Joe Q. Cool\" for\\n&gt;the 2nd. When I get junk mail addressed to \"Joseph X.  Cool\", I know\\n&gt;where they bought my name.\\n&gt;\\n&gt;This doesn't help NOT getting junk mail, but you at least know who's\\n&gt;selling your name. And if you ask companies to NOT sell your name to\\n&gt;mailing lists/tele-marketeers, they are not supposed to (as in, it's\\n&gt;illegal.)\\n&gt;\\n&gt;And in case you haven't guessed, I don't really use Joe Cool.\\n&gt;\\n&gt;--\\n\\nMy company maintains a 20,000+ mailing list which is regularly rented for\\none time use by the major software companies.  The method you are using to\\n\"seed\" your junk mail, isn't really effective.  Bulk mailers regulary \\neither send their databases to be \"cleaned\" by the NCOA, which if you've\\nmoved recently, will revert back to the original \"xxx Cool\", and in large\\nmailings, there will likely be a dupe of you, and they'll pick the first, and use the\\nothers for future mailings.\\n \\nBTW, our list is currently one of the hottest lists for actual buyers of\\na MS Windows utility product in the $100 range, and is available through\\nDirect Media in CT., at $0.10 per name.  Please let your direct mail\\nmarketing rep. know about this..  Thanks.\\n \\nTEd\\n&gt;\\n&gt;  --- Matthew Caprile    || Hey, I only speak for myself ! Even I  ---\\n&gt;  ---                    || won't admit to the opinions expressed  ---\\n&gt;  --- caprile@apple.com  || here, so don't expect my employer to.  ---\\n</td>\n",
       "      <td>6</td>\n",
       "    </tr>\n",
       "    <tr>\n",
       "      <th>1</th>\n",
       "      <td>From: hovig@uxa.cso.uiuc.edu (Hovig Heghinian)\\nSubject: Re: Seventh Century A.D. Armenian Math Problems\\nOrganization: University of Illinois at Urbana\\nLines: 25\\n\\nkoc@rize.ECE.ORST.EDU (Cetin Kaya Koc) writes:\\n\\n&gt;&gt; Problem 1\\n&gt;&gt; \\n&gt;&gt; My father told me the following story. During the famous wars between the \\n&gt;&gt; Armenians and the Persians, prince Zaurak Kamsarakan performed extraordinary\\n&gt;&gt; heroic deeds. Three times in a single month he attacked the Persian troops. \\n&gt;&gt; The first time, he struck down half of the Persian army. The second time, \\n&gt;&gt; pursuing the Persians, he slaughtered one fourth of the soldiers. The third \\n&gt;&gt; time, he destroyed one eleventh of the Persian army. The Persians who were \\n&gt;&gt; still alive, numbering two hundred eighty, fled to Nakhichevan. And so, from\\n&gt;&gt; this remainder, find how many Persian soldiers there were before the  \\n&gt; massacre.\\n&gt;&gt; \\n\\n&gt;Answer: a(1-1/2-1/4-1/11)=280 -&gt; a = 1760\\n\\n&gt;Corollary: Armenians strike, slaughter, destroy, and massacre. After all,\\n&gt;           they are not as innocent as the asala network claims.\\n\\n   Hmm ... Turks sure know how to keep track of deaths, but they seem to\\nlose count around 1.5 million.\\n\\nHovig\\n\\n</td>\n",
       "      <td>17</td>\n",
       "    </tr>\n",
       "  </tbody>\n",
       "</table>\n",
       "</div>"
      ],
      "text/plain": [
       "                                                                                                                                                                                                                                                                                                                                                                                                                                                                                                                                                                                                                                                                                                                                                                                                                                                                                                                                                                                                                                                                                                                                                                                                                                                                                                                                                                                                                                                                                                                                                                                                                                                                                                                                                                                                                                                        news  \\\n",
       "0  From: tedm@tsoft.net (Ted Matsumura)\\nSubject: Re: Catalog of Hard-to-Find PC Enhancements (Repost)\\nArticle-I.D.: tsoft.C5JCCG.3Bn\\nDistribution: usa\\nOrganization: TSoft BBS and Public Access Unix, +1 415 969 8238\\nLines: 34\\n\\n[stuff deleted]\\n>\\n>For example, I subscribe to 2 magazines, \"ABC news\" and \"XYZ products\".\\n>I give my name as \"Joseph X. Cool\" for the first, and \"Joe Q. Cool\" for\\n>the 2nd. When I get junk mail addressed to \"Joseph X.  Cool\", I know\\n>where they bought my name.\\n>\\n>This doesn't help NOT getting junk mail, but you at least know who's\\n>selling your name. And if you ask companies to NOT sell your name to\\n>mailing lists/tele-marketeers, they are not supposed to (as in, it's\\n>illegal.)\\n>\\n>And in case you haven't guessed, I don't really use Joe Cool.\\n>\\n>--\\n\\nMy company maintains a 20,000+ mailing list which is regularly rented for\\none time use by the major software companies.  The method you are using to\\n\"seed\" your junk mail, isn't really effective.  Bulk mailers regulary \\neither send their databases to be \"cleaned\" by the NCOA, which if you've\\nmoved recently, will revert back to the original \"xxx Cool\", and in large\\nmailings, there will likely be a dupe of you, and they'll pick the first, and use the\\nothers for future mailings.\\n \\nBTW, our list is currently one of the hottest lists for actual buyers of\\na MS Windows utility product in the $100 range, and is available through\\nDirect Media in CT., at $0.10 per name.  Please let your direct mail\\nmarketing rep. know about this..  Thanks.\\n \\nTEd\\n>\\n>  --- Matthew Caprile    || Hey, I only speak for myself ! Even I  ---\\n>  ---                    || won't admit to the opinions expressed  ---\\n>  --- caprile@apple.com  || here, so don't expect my employer to.  ---\\n   \n",
       "1  From: hovig@uxa.cso.uiuc.edu (Hovig Heghinian)\\nSubject: Re: Seventh Century A.D. Armenian Math Problems\\nOrganization: University of Illinois at Urbana\\nLines: 25\\n\\nkoc@rize.ECE.ORST.EDU (Cetin Kaya Koc) writes:\\n\\n>> Problem 1\\n>> \\n>> My father told me the following story. During the famous wars between the \\n>> Armenians and the Persians, prince Zaurak Kamsarakan performed extraordinary\\n>> heroic deeds. Three times in a single month he attacked the Persian troops. \\n>> The first time, he struck down half of the Persian army. The second time, \\n>> pursuing the Persians, he slaughtered one fourth of the soldiers. The third \\n>> time, he destroyed one eleventh of the Persian army. The Persians who were \\n>> still alive, numbering two hundred eighty, fled to Nakhichevan. And so, from\\n>> this remainder, find how many Persian soldiers there were before the  \\n> massacre.\\n>> \\n\\n>Answer: a(1-1/2-1/4-1/11)=280 -> a = 1760\\n\\n>Corollary: Armenians strike, slaughter, destroy, and massacre. After all,\\n>           they are not as innocent as the asala network claims.\\n\\n   Hmm ... Turks sure know how to keep track of deaths, but they seem to\\nlose count around 1.5 million.\\n\\nHovig\\n\\n                                                                                                                                                                                                                                                                                                                                                                                                                                                                                                                                                                                                           \n",
       "\n",
       "   class  \n",
       "0  6      \n",
       "1  17     "
      ]
     },
     "execution_count": 5,
     "metadata": {},
     "output_type": "execute_result"
    }
   ],
   "source": [
    "#randomly taking sample\n",
    "news_extracts = news_df.sample(2000)\n",
    "\n",
    "news_extracts.reset_index(drop=True, inplace=True)\n",
    "news_extracts.head(2)"
   ]
  },
  {
   "cell_type": "markdown",
   "metadata": {},
   "source": [
    "### Pre-Processing"
   ]
  },
  {
   "cell_type": "code",
   "execution_count": 6,
   "metadata": {},
   "outputs": [],
   "source": [
    "# \"\\s\"\tMost engines: \"whitespace character\": space, tab, newline, carriage return,\n",
    "# \"\\w\" means \"any word character\" which usually means alphanumeric (letters, numbers, regardless of case) plus underscore (_)\n",
    "# more info https://www.rexegg.com/regex-quickstart.html"
   ]
  },
  {
   "cell_type": "code",
   "execution_count": 7,
   "metadata": {},
   "outputs": [],
   "source": [
    "# Custom filter method\n",
    "transform_to_lower = lambda s: s.lower() #upper to lower case\n",
    "\n",
    "remove_single_char = lambda s: re.sub(r'\\s+\\w{1}\\s+', '', s) #regex to remove single char\n",
    "\n",
    "# Filters to be executed in pipeline\n",
    "CLEAN_FILTERS = [strip_tags,\n",
    "                strip_numeric,\n",
    "                strip_punctuation, \n",
    "                strip_multiple_whitespaces, \n",
    "                transform_to_lower,\n",
    "                remove_stopwords,\n",
    "                remove_single_char]\n",
    "\n",
    "# Method does the filtering of all the unrelevant text elements\n",
    "def cleaning_pipe(document):\n",
    "    # Invoking gensim.parsing.preprocess_string method with set of filters\n",
    "    processed_words = preprocess_string(document, CLEAN_FILTERS)\n",
    "    \n",
    "    return processed_words"
   ]
  },
  {
   "cell_type": "code",
   "execution_count": 8,
   "metadata": {},
   "outputs": [
    {
     "data": {
      "text/plain": [
       "0    [tedm, tsoft, net, ted, matsumura, subject, catalog, hard, pc, enhancements, repost, articletsoft, cjccg, bn, distribution, usa, organization, tsoft, bbs, public, access, unix, lines, stuff, deleted, example, subscribe, magazines, abc, news, xyz, products, josephcool, joecool, nd, junk, mail, addressed, josephcool, know, boughthelp, getting, junk, mail, knowselling, ask, companies, sell, mailing, lists, tele, marketeers, supposedillegal, case, havenguesseduse, joe, cool, company, maintains, mailing, list, regularly, rented, time, use, major, software, companies, method, seed, junk, mail, isneffective, bulk, mailers, regulary, send, databases, cleaned, ncoa, ve, moved, recently, revert, original, xxx, cool, large, mailings, likely, dupe, ll, pick, use, future, mailings, btw, list, currently, hottest, ...]\n",
       "1    [hovig, uxa, cso, uiuc, edu, hovig, heghinian, subject, seventh, centuryarmenian, math, problems, organization, university, illinois, urbana, lines, koc, rize, ece, orst, edu, cetin, kaya, koc, writes, problem, father, told, following, story, famous, wars, armenians, persians, prince, zaurak, kamsarakan, performed, extraordinary, heroic, deeds, times, single, month, attacked, persian, troops, time, struck, half, persian, army, second, time, pursuing, persians, slaughtered, fourth, soldiers, time, destroyed, eleventh, persian, army, persians, alive, numbering, eighty, fled, nakhichevan, remainder, persian, soldiers, massacre, answer, corollary, armenians, strike, slaughter, destroy, massacre, innocent, asala, network, claims, hmm, turks, sure, know, track, deaths, lose, count, million, hovig]             \n",
       "Name: clean_text, dtype: object"
      ]
     },
     "execution_count": 8,
     "metadata": {},
     "output_type": "execute_result"
    }
   ],
   "source": [
    "# Apply the cleaning pipe on the news data\n",
    "\n",
    "news_extracts['clean_text'] = news_extracts['news'].apply(cleaning_pipe)\n",
    "news_extracts['clean_text'][0:2]"
   ]
  },
  {
   "cell_type": "code",
   "execution_count": 10,
   "metadata": {},
   "outputs": [],
   "source": [
    "#Stemming-Stemming is a technique of finding root word of the given word. \n",
    "#For example, if a word is 'running' then the stem word of that word is 'run'.\n",
    "\n",
    "#Lemmatization-Lemmatization refers to find the axle word by doing vocabulary and morphological analysis of the words."
   ]
  }
 ],
 "metadata": {
  "kernelspec": {
   "display_name": "Python 3",
   "language": "python",
   "name": "python3"
  },
  "language_info": {
   "codemirror_mode": {
    "name": "ipython",
    "version": 3
   },
   "file_extension": ".py",
   "mimetype": "text/x-python",
   "name": "python",
   "nbconvert_exporter": "python",
   "pygments_lexer": "ipython3",
   "version": "3.7.4"
  }
 },
 "nbformat": 4,
 "nbformat_minor": 2
}
