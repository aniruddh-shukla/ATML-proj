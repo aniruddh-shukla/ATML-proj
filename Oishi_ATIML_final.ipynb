{
  "nbformat": 4,
  "nbformat_minor": 0,
  "metadata": {
    "accelerator": "GPU",
    "colab": {
      "name": "Oishi_ATIML_final.ipynb",
      "provenance": [],
      "collapsed_sections": [
        "TSyHK_bQO8J7",
        "3o7_P423OVhu",
        "c6VpZbNtbU9u",
        "A3btQC87c3Wa",
        "Y0mlz46-Cqql",
        "m0sKlFk8QFlV",
        "MwHFHrhoCwkV",
        "9t0BxFtD83u6",
        "JoJTgi8BQFlY",
        "8FN27lfqgezx",
        "bdeh5mdFhEeb",
        "9pgFtYFWgi0F"
      ],
      "machine_shape": "hm"
    },
    "kernelspec": {
      "display_name": "Python 3",
      "language": "python",
      "name": "python3"
    },
    "language_info": {
      "codemirror_mode": {
        "name": "ipython",
        "version": 3
      },
      "file_extension": ".py",
      "mimetype": "text/x-python",
      "name": "python",
      "nbconvert_exporter": "python",
      "pygments_lexer": "ipython3",
      "version": "3.8.5"
    }
  },
  "cells": [
    {
      "cell_type": "markdown",
      "metadata": {
        "id": "TSyHK_bQO8J7"
      },
      "source": [
        "# Installations"
      ]
    },
    {
      "cell_type": "code",
      "metadata": {
        "id": "-qjRyI3itZNl",
        "outputId": "f1da68ef-b5ad-469c-fc06-dff4395c5518",
        "colab": {
          "base_uri": "https://localhost:8080/"
        }
      },
      "source": [
        "!pip install -U pip setuptools wheel\n",
        "!pip install -U textstat\n",
        "!pip install textblob\n",
        "!pip install --upgrade scikit-learn"
      ],
      "execution_count": 1,
      "outputs": [
        {
          "output_type": "stream",
          "text": [
            "Collecting pip\n",
            "\u001b[?25l  Downloading https://files.pythonhosted.org/packages/cd/82/04e9aaf603fdbaecb4323b9e723f13c92c245f6ab2902195c53987848c78/pip-21.1.2-py3-none-any.whl (1.5MB)\n",
            "\u001b[K     |████████████████████████████████| 1.6MB 15.9MB/s \n",
            "\u001b[?25hRequirement already up-to-date: setuptools in /usr/local/lib/python3.7/dist-packages (57.0.0)\n",
            "Requirement already up-to-date: wheel in /usr/local/lib/python3.7/dist-packages (0.36.2)\n",
            "Installing collected packages: pip\n",
            "  Found existing installation: pip 19.3.1\n",
            "    Uninstalling pip-19.3.1:\n",
            "      Successfully uninstalled pip-19.3.1\n",
            "Successfully installed pip-21.1.2\n",
            "Collecting textstat\n",
            "  Downloading textstat-0.7.1-py3-none-any.whl (99 kB)\n",
            "\u001b[K     |████████████████████████████████| 99 kB 6.9 MB/s \n",
            "\u001b[?25hCollecting pyphen\n",
            "  Downloading Pyphen-0.10.0-py3-none-any.whl (1.9 MB)\n",
            "\u001b[K     |████████████████████████████████| 1.9 MB 25.6 MB/s \n",
            "\u001b[?25hInstalling collected packages: pyphen, textstat\n",
            "Successfully installed pyphen-0.10.0 textstat-0.7.1\n",
            "\u001b[33mWARNING: Running pip as root will break packages and permissions. You should install packages reliably by using venv: https://pip.pypa.io/warnings/venv\u001b[0m\n",
            "Requirement already satisfied: textblob in /usr/local/lib/python3.7/dist-packages (0.15.3)\n",
            "Requirement already satisfied: nltk>=3.1 in /usr/local/lib/python3.7/dist-packages (from textblob) (3.2.5)\n",
            "Requirement already satisfied: six in /usr/local/lib/python3.7/dist-packages (from nltk>=3.1->textblob) (1.15.0)\n",
            "\u001b[33mWARNING: Running pip as root will break packages and permissions. You should install packages reliably by using venv: https://pip.pypa.io/warnings/venv\u001b[0m\n",
            "Requirement already satisfied: scikit-learn in /usr/local/lib/python3.7/dist-packages (0.22.2.post1)\n",
            "Collecting scikit-learn\n",
            "  Downloading scikit_learn-0.24.2-cp37-cp37m-manylinux2010_x86_64.whl (22.3 MB)\n",
            "\u001b[K     |████████████████████████████████| 22.3 MB 71.3 MB/s \n",
            "\u001b[?25hRequirement already satisfied: joblib>=0.11 in /usr/local/lib/python3.7/dist-packages (from scikit-learn) (1.0.1)\n",
            "Requirement already satisfied: numpy>=1.13.3 in /usr/local/lib/python3.7/dist-packages (from scikit-learn) (1.19.5)\n",
            "Requirement already satisfied: scipy>=0.19.1 in /usr/local/lib/python3.7/dist-packages (from scikit-learn) (1.4.1)\n",
            "Collecting threadpoolctl>=2.0.0\n",
            "  Downloading threadpoolctl-2.1.0-py3-none-any.whl (12 kB)\n",
            "Installing collected packages: threadpoolctl, scikit-learn\n",
            "  Attempting uninstall: scikit-learn\n",
            "    Found existing installation: scikit-learn 0.22.2.post1\n",
            "    Uninstalling scikit-learn-0.22.2.post1:\n",
            "      Successfully uninstalled scikit-learn-0.22.2.post1\n",
            "Successfully installed scikit-learn-0.24.2 threadpoolctl-2.1.0\n",
            "\u001b[33mWARNING: Running pip as root will break packages and permissions. You should install packages reliably by using venv: https://pip.pypa.io/warnings/venv\u001b[0m\n"
          ],
          "name": "stdout"
        }
      ]
    },
    {
      "cell_type": "markdown",
      "metadata": {
        "id": "3o7_P423OVhu"
      },
      "source": [
        "# All Imports"
      ]
    },
    {
      "cell_type": "code",
      "metadata": {
        "colab": {
          "base_uri": "https://localhost:8080/"
        },
        "id": "JIYuoyc-ZOPW",
        "outputId": "243c69f3-6a6e-426d-bf45-e1bf4e828ff4"
      },
      "source": [
        "import re\n",
        "import numpy as np \n",
        "import pandas as pd\n",
        "import textstat\n",
        "import string\n",
        "import nltk\n",
        "from copy import deepcopy\n",
        "from textblob import TextBlob\n",
        "import spacy\n",
        "from sklearn.datasets import fetch_20newsgroups\n",
        "from sklearn.model_selection import train_test_split\n",
        "from sklearn.pipeline import Pipeline, FeatureUnion\n",
        "from sklearn.feature_selection import SelectKBest, chi2\n",
        "from sklearn.feature_extraction.text import CountVectorizer, TfidfVectorizer\n",
        "from sklearn.ensemble import RandomForestClassifier\n",
        "from sklearn.metrics import classification_report\n",
        "from sklearn.feature_extraction import DictVectorizer\n",
        "\n",
        "from sklearn.model_selection import train_test_split, StratifiedShuffleSplit, KFold, StratifiedKFold, ShuffleSplit \n",
        "\n",
        "from sklearn.svm import LinearSVC\n",
        "from sklearn import preprocessing\n",
        "from nltk.corpus import stopwords\n",
        "from sklearn import metrics\n",
        "from sklearn.semi_supervised import SelfTrainingClassifier, LabelSpreading\n",
        "from sklearn.linear_model import SGDClassifier\n",
        "\n",
        "nltk.download('stopwords')\n",
        "nltk.download('punkt')\n",
        "nltk.download('averaged_perceptron_tagger')\n",
        "\n",
        "#pd.set_option('display.max_rows', None)\n",
        "pd.set_option('display.max_columns', None)\n",
        "pd.set_option('display.width', None)\n",
        "pd.set_option('display.max_colwidth', None)"
      ],
      "execution_count": 2,
      "outputs": [
        {
          "output_type": "stream",
          "text": [
            "[nltk_data] Downloading package stopwords to /root/nltk_data...\n",
            "[nltk_data]   Unzipping corpora/stopwords.zip.\n",
            "[nltk_data] Downloading package punkt to /root/nltk_data...\n",
            "[nltk_data]   Unzipping tokenizers/punkt.zip.\n",
            "[nltk_data] Downloading package averaged_perceptron_tagger to\n",
            "[nltk_data]     /root/nltk_data...\n",
            "[nltk_data]   Unzipping taggers/averaged_perceptron_tagger.zip.\n"
          ],
          "name": "stdout"
        }
      ]
    },
    {
      "cell_type": "markdown",
      "metadata": {
        "id": "c6VpZbNtbU9u"
      },
      "source": [
        "# Fetch Data"
      ]
    },
    {
      "cell_type": "code",
      "metadata": {
        "id": "gXxJPkRqZ4jt"
      },
      "source": [
        "news_group = fetch_20newsgroups(subset='all', remove=('headers', 'footers', 'quotes'), shuffle=True)\n",
        "news_group_data_test = news_group.data\n",
        "news_group_target_names_test = news_group.target_names\n",
        "news_group_target_test = news_group.target\n",
        "\n",
        "# Creating a dataframe from the loaded data\n",
        "news_df = pd.DataFrame({'news': news_group_data_test, \n",
        "                        'class': news_group_target_test})"
      ],
      "execution_count": 3,
      "outputs": []
    },
    {
      "cell_type": "markdown",
      "metadata": {
        "id": "A3btQC87c3Wa"
      },
      "source": [
        "# Cleaning Text\n",
        "\n",
        "*   Cleaning\n",
        "*   Removing stop words\n",
        "\n"
      ]
    },
    {
      "cell_type": "code",
      "metadata": {
        "id": "bI10L4oGDe-M"
      },
      "source": [
        "from sklearn.base import BaseEstimator, TransformerMixin\n",
        "import gensim\n",
        "class CleanTransformer(BaseEstimator, TransformerMixin):\n",
        "    def __init__(self):\n",
        "        pass\n",
        "   \n",
        "    def fit(self,X,y=None):\n",
        "        return self\n",
        "    \n",
        "    \n",
        "    \n",
        "    def transform(self,X,y=None):\n",
        "        # Convert to list\n",
        "        data = X.tolist()\n",
        "\n",
        "        # Remove Emails\n",
        "        data = [re.sub('\\S*@\\S*\\s?', '', sent) for sent in data]\n",
        "\n",
        "        # Remove new line characters\n",
        "        data = [re.sub('\\s+', ' ', sent) for sent in data]\n",
        "\n",
        "        # Remove distracting single quotes\n",
        "        data = [re.sub(\"\\'\", \"\", sent) for sent in data]\n",
        "\n",
        "        def sent_to_words(sentences):\n",
        "            for sentence in sentences:\n",
        "                yield(gensim.utils.simple_preprocess(str(sentence), deacc=True))  # deacc=True removes punctuations\n",
        "        data_words = list(sent_to_words(data))\n",
        "        def lemmatization(texts, allowed_postags=['NOUN', 'ADJ', 'VERB', 'ADV']):\n",
        "            \"\"\"https://spacy.io/api/annotation\"\"\"\n",
        "            texts_out = []\n",
        "            for sent in texts:\n",
        "                doc = nlp(\" \".join(sent)) \n",
        "                texts_out.append([token.lemma_ for token in doc if token.pos_ in allowed_postags])\n",
        "            return texts_out\n",
        "\n",
        "        # Initialize spacy 'en' model, keeping only tagger component (for efficiency)\n",
        "        nlp = spacy.load('en_core_web_sm', disable=['parser', 'ner'])\n",
        "\n",
        "        # Do lemmatization keeping only Noun, Adj, Verb, Adverb\n",
        "        data_lemmatized = lemmatization(data_words, allowed_postags=['NOUN', 'ADJ', 'VERB', 'ADV'])\n",
        "        l=[]\n",
        "        def detokenize(text):\n",
        "            return \"\".join([\" \"+i if not i.startswith(\"'\") and i not in string.punctuation else i for i in text]).strip()\n",
        "        for row in data_lemmatized:\n",
        "            l.append(detokenize(row))\n",
        "        #print(data_lemmatized[:1])\n",
        "        return l"
      ],
      "execution_count": 4,
      "outputs": []
    },
    {
      "cell_type": "markdown",
      "metadata": {
        "id": "m0sKlFk8QFlV"
      },
      "source": [
        "# POS Tagging"
      ]
    },
    {
      "cell_type": "code",
      "metadata": {
        "id": "g-rv3AqYR0xp"
      },
      "source": [
        "class POSVectorizer():\n",
        "    def __init__(self):\n",
        "        pass\n",
        "\n",
        "    def creatingPOSTags(self, x):\n",
        "             \n",
        "        pos_family = {'NOUN' : ['NN','NNS','NNP','NNPS'],\n",
        "                    'PRON' : ['PRP','PRP$','WP','WP$'], \n",
        "                    'VERB' : ['VB','VBD','VBG','VBN','VBP','VBZ'],\n",
        "                    'ADJ'  : ['JJ','JJR','JJS'],\n",
        "                    'ADV'  : ['RB','RBR','RBS','WRB']\n",
        "                    }\n",
        "            \n",
        "        count_pos = {'NOUN':0,'PRON':0,'VERB':0,'ADJ':0,'ADV':0}\n",
        "        \n",
        "        blob  = TextBlob(x) #converts sentences to tokens\n",
        "        for tuple in blob.tags: #blob tags contains term and its pos\n",
        "            #print(tuple)\n",
        "            pos = list(tuple)[1]\n",
        "            if pos in pos_family['NOUN']:\n",
        "                count_pos['NOUN'] = count_pos.get('NOUN')+1\n",
        "            elif pos in pos_family['PRON']:\n",
        "                count_pos['PRON'] = count_pos.get('PRON')+1\n",
        "            elif pos in pos_family['VERB']:\n",
        "                count_pos['VERB'] = count_pos.get('VERB')+1\n",
        "            elif pos in pos_family['ADJ']:\n",
        "                count_pos['ADJ'] = count_pos.get('ADJ')+1\n",
        "            elif pos in pos_family['ADV']:\n",
        "                count_pos['ADV'] = count_pos.get('ADV')+1\n",
        "        return count_pos \n",
        "    \n",
        "    def fit(self, x, y=None):\n",
        "        return self\n",
        "    def transform(self, data):\n",
        "        posVector = POSVectorizer()\n",
        "        pos_vect = []\n",
        "        for d in data:\n",
        "            pos_vect.append(posVector.creatingPOSTags(d))\n",
        "        return pos_vect"
      ],
      "execution_count": 5,
      "outputs": []
    },
    {
      "cell_type": "markdown",
      "metadata": {
        "id": "MwHFHrhoCwkV"
      },
      "source": [
        "# Convert toArray()"
      ]
    },
    {
      "cell_type": "code",
      "metadata": {
        "id": "DN4pqe_mEnmh"
      },
      "source": [
        "class ToArray(BaseEstimator, TransformerMixin):\n",
        "\n",
        "    def transform(self, X):\n",
        "        return X.toarray()\n",
        "\n",
        "    def fit(self, X, y=None, **fit_params):        \n",
        "        return self"
      ],
      "execution_count": 6,
      "outputs": []
    },
    {
      "cell_type": "markdown",
      "metadata": {
        "id": "rKc70oP3C2PG"
      },
      "source": [
        "# Creating Pipelines"
      ]
    },
    {
      "cell_type": "code",
      "metadata": {
        "id": "L32vijlFEwMh"
      },
      "source": [
        "bow_transformer = Pipeline(\n",
        "    steps=[\n",
        "        (\"cleaner\", CleanTransformer()),\n",
        "        (\"tfidf\", TfidfVectorizer(min_df=5, max_df=0.95)),\n",
        "        (\"toarray\", ToArray()), #converting toarray since minmax can't handle sparce matrix\n",
        "        (\"scale\", preprocessing.MinMaxScaler())\n",
        "    ]\n",
        ")\n",
        "\n",
        "\n",
        "pos_transformer = Pipeline(\n",
        "    steps=[\n",
        "        (\"cleaner\", CleanTransformer()),\n",
        "        (\"pos\", POSVectorizer()),\n",
        "        (\"dict_vect\", DictVectorizer()),\n",
        "        (\"toarray\", ToArray()), #converting toarray since minmax can't handle sparce matrix\n",
        "        (\"scale\", preprocessing.MinMaxScaler())\n",
        "    ]\n",
        ")"
      ],
      "execution_count": 7,
      "outputs": []
    },
    {
      "cell_type": "markdown",
      "metadata": {
        "id": "Qk46PkN_u4cZ"
      },
      "source": [
        "# BOW Transform"
      ]
    },
    {
      "cell_type": "code",
      "metadata": {
        "id": "qZrpr6WjtSPz"
      },
      "source": [
        "X=bow_transformer.fit_transform(news_df['news'])"
      ],
      "execution_count": 11,
      "outputs": []
    },
    {
      "cell_type": "code",
      "metadata": {
        "id": "ZDgbNsUVtSPz",
        "outputId": "821a7f63-87c0-4016-bb30-2cc693b4314e"
      },
      "source": [
        "print(X.shape)"
      ],
      "execution_count": null,
      "outputs": [
        {
          "output_type": "stream",
          "text": [
            "(18846, 16623)\n"
          ],
          "name": "stdout"
        }
      ]
    },
    {
      "cell_type": "markdown",
      "metadata": {
        "id": "KkmJPq19um0x"
      },
      "source": [
        "# Feature Selection (Chi2)"
      ]
    },
    {
      "cell_type": "code",
      "metadata": {
        "id": "kZvTiu_YtSP0"
      },
      "source": [
        "X_new=SelectKBest(chi2, k=5000).fit_transform(X,news_df['class'])"
      ],
      "execution_count": 12,
      "outputs": []
    },
    {
      "cell_type": "markdown",
      "metadata": {
        "id": "cHm1nYzmuzMQ"
      },
      "source": [
        "# POS Transform"
      ]
    },
    {
      "cell_type": "code",
      "metadata": {
        "id": "NZyFqY2ftSP0"
      },
      "source": [
        "Y=pos_transformer.fit_transform(news_df['news'])"
      ],
      "execution_count": 13,
      "outputs": []
    },
    {
      "cell_type": "code",
      "metadata": {
        "id": "THjXMNx4tSP0",
        "outputId": "b06c1060-1f56-448b-8261-a11c454d0a74"
      },
      "source": [
        "print(Y.shape)"
      ],
      "execution_count": null,
      "outputs": [
        {
          "output_type": "stream",
          "text": [
            "(18846, 5)\n"
          ],
          "name": "stdout"
        }
      ]
    },
    {
      "cell_type": "markdown",
      "metadata": {
        "id": "8MB1o1uhuqkZ"
      },
      "source": [
        "# Concatenate features"
      ]
    },
    {
      "cell_type": "code",
      "metadata": {
        "id": "rUEfVjHTtSP0"
      },
      "source": [
        "features=np.concatenate((X_new,Y),axis=1)"
      ],
      "execution_count": 14,
      "outputs": []
    },
    {
      "cell_type": "markdown",
      "metadata": {
        "id": "9t0BxFtD83u6"
      },
      "source": [
        "# EM"
      ]
    },
    {
      "cell_type": "code",
      "metadata": {
        "id": "MiwyS7ZIhKcD"
      },
      "source": [
        "import warnings\n",
        "warnings.filterwarnings('ignore')\n",
        "import numpy as np\n",
        "\n",
        "from copy import deepcopy\n",
        "from scipy.sparse import csr_matrix, vstack\n",
        "from sklearn.naive_bayes import MultinomialNB\n",
        "from sklearn.naive_bayes import GaussianNB\n",
        "from scipy.linalg import get_blas_funcs\n",
        "from sklearn.semi_supervised import LabelPropagation, LabelSpreading\n",
        "\n",
        "class Semi_EM_MultinomialNB():\n",
        "    \"\"\"\n",
        "    Naive Bayes classifier for multinomial models for semi-supervised learning.\n",
        "    \n",
        "    Use both labeled and unlabeled data to train NB classifier, update parameters\n",
        "    using unlabeled data, and all data to evaluate performance of classifier. Optimize\n",
        "    classifier using Expectation-Maximization algorithm.\n",
        "    \"\"\"\n",
        "    def __init__(self, alpha=1.0, fit_prior=True, class_prior=None, max_iter=30, tol=1e-6, print_log_lkh=True):\n",
        "        self.alpha = alpha\n",
        "        self.fit_prior = fit_prior\n",
        "        self.class_prior = class_prior\n",
        "        self.clf = MultinomialNB(alpha=self.alpha, fit_prior=self.fit_prior, class_prior=self.class_prior)\n",
        "        self.log_lkh = -np.inf # log likelihood\n",
        "        self.max_iter = max_iter # max number of EM iterations\n",
        "        self.tol = tol # tolerance of log likelihood increment\n",
        "        self.feature_log_prob_ = np.array([]) # Empirical log probability of features given a class, P(x_i|y).\n",
        "        self.coef_ = np.array([]) # Mirrors feature_log_prob_ for interpreting MultinomialNB as a linear model.\n",
        "        self.print_log_lkh = print_log_lkh # if True, print log likelihood during EM iterations\n",
        "\n",
        "    def fit(self, X_l, y_l, X_u):\n",
        "        \"\"\"\n",
        "        Initialize the parameter using labeled data only.\n",
        "        Assume unlabeled class as missing values, apply EM on unlabeled data to refine classifier.\n",
        "        \"\"\"\n",
        "        n_ul_docs = X_u.shape[0] # number of unlabeled samples\n",
        "        n_l_docs = X_l.shape[0] # number of labeled samples\n",
        "        # initialization (n_docs = n_ul_docs)\n",
        "        clf = deepcopy(self.clf)# build new copy of classifier\n",
        "        clf.fit(X_l, y_l) # use labeled data only to initialize classifier parameters\n",
        "        prev_log_lkh = self.log_lkh # record log likelihood of previous EM iteration\n",
        "        lp_w_c = clf.feature_log_prob_ # log CP of word given class [n_classes, n_words]\n",
        "        b_w_d = (X_u > 0) # words in each document [n_docs, n_words]\n",
        "        lp_d_c = get_blas_funcs(\"gemm\", [lp_w_c, b_w_d.T]) # log CP of doc given class [n_classes, n_docs]\n",
        "        lp_d_c = lp_d_c(alpha=1.0, a=lp_w_c, b=b_w_d.T) \n",
        "        lp_c = np.matrix(clf.class_log_prior_).T # log prob of classes [n_classes, 1]\n",
        "        lp_c = np.repeat(lp_c, n_ul_docs, axis=1) # repeat for each doc [n_classes, n_docs]\n",
        "        lp_dc = lp_d_c + lp_c # joint prob of doc and class [n_classes, n_docs]\n",
        "        p_c_d = clf.predict_proba(X_u) # weight of each class in each doc [n_docs, n_classes]\n",
        "        expectation = get_blas_funcs(\"gemm\", [p_c_d, lp_dc]) # expectation of log likelihood over all unlabeled docs\n",
        "        expectation = expectation(alpha=1.0, a=p_c_d, b=lp_dc).trace() \n",
        "        self.clf = deepcopy(clf)\n",
        "        self.log_lkh = expectation\n",
        "        if self.print_log_lkh:\n",
        "            print(\"Initial expected log likelihood = %0.3f\\n\" % expectation)\n",
        "        # Loop until log likelihood does not improve\n",
        "        iter_count = 0 # count EM iteration\n",
        "        while (self.log_lkh-prev_log_lkh>=self.tol and iter_count<self.max_iter):\n",
        "        # while (iter_count<self.max_iter):\n",
        "            iter_count += 1\n",
        "            if self.print_log_lkh:\n",
        "                print(\"EM iteration #%d\" % iter_count) # debug\n",
        "            # E-step: Estimate class membership of unlabeled documents\n",
        "            y_u = clf.predict(X_u)\n",
        "            # M-step: Re-estimate classifier parameters\n",
        "            X = vstack([X_l, X_u])\n",
        "            y = np.concatenate((y_l, y_u), axis=0)\n",
        "            clf.fit(X, y)\n",
        "            # check convergence: update log likelihood\n",
        "            p_c_d = clf.predict_proba(X_u)\n",
        "            lp_w_c = clf.feature_log_prob_ # log CP of word given class [n_classes, n_words]\n",
        "            b_w_d = (X_u > 0) # words in each document\n",
        "            lp_d_c = get_blas_funcs(\"gemm\", [lp_w_c, b_w_d.transpose()]) # log CP of doc given class [n_classes, n_docs]\n",
        "            lp_d_c = lp_d_c(alpha=1.0, a=lp_w_c, b=b_w_d.transpose()) \n",
        "            lp_c = np.matrix(clf.class_log_prior_).T # log prob of classes [n_classes, 1]\n",
        "            lp_c = np.repeat(lp_c, n_ul_docs, axis=1) # repeat for each doc [n_classes, n_docs]\n",
        "            lp_dc = lp_d_c + lp_c  # joint prob of doc and class [n_classes, n_docs]\n",
        "            expectation = get_blas_funcs(\"gemm\", [p_c_d, lp_dc]) # expectation of log likelihood over all unlabeled docs\n",
        "            expectation = expectation(alpha=1.0, a=p_c_d, b=lp_dc).trace() \n",
        "            if self.print_log_lkh:\n",
        "                print(\"\\tExpected log likelihood = %0.3f\" % expectation)\n",
        "            if (expectation-self.log_lkh >= self.tol):\n",
        "                prev_log_lkh = self.log_lkh\n",
        "                self.log_lkh = expectation\n",
        "                self.clf = deepcopy(clf)\n",
        "            else:\n",
        "                break\n",
        "        self.feature_log_prob_ = self.clf.feature_log_prob_\n",
        "        self.coef_ = self.clf.coef_\n",
        "        return self\n",
        "\n",
        "   \n",
        "    def predict(self, X):\n",
        "        return self.clf.predict(X)\n",
        "\n",
        "    def score(self, X, y):\n",
        "        return self.clf.score(X, y)\n",
        "\n",
        "    def get_params(deep=True):\n",
        "        return self.clf.get_params(deep)\n",
        "\n",
        "    def __str__(self):\n",
        "        return self.clf.__str__()"
      ],
      "execution_count": 15,
      "outputs": []
    },
    {
      "cell_type": "markdown",
      "metadata": {
        "id": "mi-Up6na8_mO"
      },
      "source": [
        "# Cross Validation"
      ]
    },
    {
      "cell_type": "code",
      "metadata": {
        "id": "UObdtpJ0JmGs"
      },
      "source": [
        "def cross_validation(clf, data_X, data_y, unlabeled,X_u, n_folds=5):\n",
        "    print('=' * 80)\n",
        "    print(\"Validation: \")\n",
        "    print(clf)\n",
        "    kf = StratifiedKFold(n_splits=n_folds)\n",
        "    start_time = time()\n",
        "    train_scores = list() # training accuracy\n",
        "    fold_count = 1\n",
        "    original_clf = deepcopy(clf)\n",
        "    avg_accuracy = 0\n",
        "    for train_ids, valid_ids in kf.split(data_X, data_y):\n",
        "        cv_clf = deepcopy(original_clf)\n",
        "        print(\"Fold # %d\" % fold_count)\n",
        "        fold_count += 1\n",
        "        train_X, train_y, valid_X, valid_y = data_X[train_ids], data_y[train_ids], data_X[valid_ids], data_y[valid_ids]\n",
        "        if unlabeled==True:\n",
        "            cv_clf.fit(train_X, train_y, X_u)\n",
        "        else:\n",
        "            cv_clf.fit(train_X, train_y)\n",
        "        pred = cv_clf.predict(valid_X)\n",
        "        scores = dict()\n",
        "        scores['accuracy'] = metrics.accuracy_score(valid_y, pred)\n",
        "        scores['recall'] = metrics.recall_score(valid_y, pred, average='macro')\n",
        "        scores['precision'] = metrics.precision_score(valid_y, pred, average='macro')\n",
        "        scores['f1_score'] = metrics.f1_score(valid_y, pred, average='macro')\n",
        "        train_scores.append(scores)\n",
        "        avg_accuracy += scores['accuracy']\n",
        "    train_time = time() - start_time\n",
        "    print(\"Validation time: %0.3f seconds\" % train_time)\n",
        "    print(\"Average training accuracy: %0.3f\" % (avg_accuracy/n_folds))\n",
        "    return train_scores, train_time"
      ],
      "execution_count": 16,
      "outputs": []
    },
    {
      "cell_type": "markdown",
      "metadata": {
        "id": "amG-GqWTuJYH"
      },
      "source": [
        "# Train test split"
      ]
    },
    {
      "cell_type": "code",
      "metadata": {
        "id": "-0rWASZJtSP2",
        "outputId": "8bcba73f-1503-46f2-e89a-986ad652b5c6",
        "colab": {
          "base_uri": "https://localhost:8080/"
        }
      },
      "source": [
        "train_X, test_X, train_y, test_y = train_test_split(features,news_df['class'], test_size=0.2, stratify=news_df['class'])\n",
        "print(\"Training set size: %8d\\tTest set size: %8d\" % (len(train_X), len(test_X)))\n",
        "# Divide train data set into labeled and unlabeled data sets\n",
        "X_l, X_u, y_l, y_u = train_test_split(train_X, train_y, test_size=10000, stratify=train_y)\n",
        "experiments = np.logspace(2.3, 3.7, num=20, base=10, dtype='int')\n",
        "print (X_l.shape, X_u.shape)"
      ],
      "execution_count": 17,
      "outputs": [
        {
          "output_type": "stream",
          "text": [
            "Training set size:    15076\tTest set size:     3770\n",
            "(5076, 5005) (10000, 5005)\n"
          ],
          "name": "stdout"
        }
      ]
    },
    {
      "cell_type": "code",
      "metadata": {
        "id": "jUvFxkrVtSP2",
        "outputId": "8a32cf46-fffc-41cb-8f45-a2432d17013d",
        "colab": {
          "base_uri": "https://localhost:8080/"
        }
      },
      "source": [
        "y_l=y_l.to_numpy()\n",
        "y_u=y_u.to_numpy()\n",
        "print(type(X_l),type(X_u),type(y_l),type(y_u))"
      ],
      "execution_count": 18,
      "outputs": [
        {
          "output_type": "stream",
          "text": [
            "<class 'numpy.ndarray'> <class 'numpy.ndarray'> <class 'numpy.ndarray'> <class 'numpy.ndarray'>\n"
          ],
          "name": "stdout"
        }
      ]
    },
    {
      "cell_type": "markdown",
      "metadata": {
        "id": "iObgzkG1uUOb"
      },
      "source": [
        "# MultinomialNB"
      ]
    },
    {
      "cell_type": "code",
      "metadata": {
        "id": "Q76otOEatSP2",
        "outputId": "612f394e-3189-435a-82f6-65db1f0c095d",
        "colab": {
          "base_uri": "https://localhost:8080/"
        }
      },
      "source": [
        "from time import time\n",
        "# Cross validation for Naive Bayes classifier \n",
        "# using labeled data set only\n",
        "nb_cv_scores = list()\n",
        "nb_cv_times = list()\n",
        "for n_l_docs in experiments:\n",
        "    nb_clf = MultinomialNB(alpha=1e-2)\n",
        "    cv_scores, cv_time = cross_validation(nb_clf, X_l[:n_l_docs,], y_l[:n_l_docs],False,X_u)\n",
        "    nb_cv_scores.append(cv_scores)\n",
        "    nb_cv_times.append(cv_time)\n",
        "    print(\"Number of labeled documents: %6d\" % n_l_docs)"
      ],
      "execution_count": 19,
      "outputs": [
        {
          "output_type": "stream",
          "text": [
            "================================================================================\n",
            "Validation: \n",
            "MultinomialNB(alpha=0.01)\n",
            "Fold # 1\n",
            "Fold # 2\n",
            "Fold # 3\n",
            "Fold # 4\n",
            "Fold # 5\n",
            "Validation time: 0.074 seconds\n",
            "Average training accuracy: 0.342\n",
            "Number of labeled documents:    199\n",
            "================================================================================\n",
            "Validation: \n",
            "MultinomialNB(alpha=0.01)\n",
            "Fold # 1\n",
            "Fold # 2\n",
            "Fold # 3\n",
            "Fold # 4\n",
            "Fold # 5\n",
            "Validation time: 0.079 seconds\n",
            "Average training accuracy: 0.352\n",
            "Number of labeled documents:    236\n",
            "================================================================================\n",
            "Validation: \n",
            "MultinomialNB(alpha=0.01)\n",
            "Fold # 1\n",
            "Fold # 2\n",
            "Fold # 3\n",
            "Fold # 4\n",
            "Fold # 5\n",
            "Validation time: 0.086 seconds\n",
            "Average training accuracy: 0.364\n",
            "Number of labeled documents:    280\n",
            "================================================================================\n",
            "Validation: \n",
            "MultinomialNB(alpha=0.01)\n",
            "Fold # 1\n",
            "Fold # 2\n",
            "Fold # 3\n",
            "Fold # 4\n",
            "Fold # 5\n",
            "Validation time: 0.098 seconds\n",
            "Average training accuracy: 0.435\n",
            "Number of labeled documents:    331\n",
            "================================================================================\n",
            "Validation: \n",
            "MultinomialNB(alpha=0.01)\n",
            "Fold # 1\n",
            "Fold # 2\n",
            "Fold # 3\n",
            "Fold # 4\n",
            "Fold # 5\n",
            "Validation time: 0.106 seconds\n",
            "Average training accuracy: 0.458\n",
            "Number of labeled documents:    393\n",
            "================================================================================\n",
            "Validation: \n",
            "MultinomialNB(alpha=0.01)\n",
            "Fold # 1\n",
            "Fold # 2\n",
            "Fold # 3\n",
            "Fold # 4\n",
            "Fold # 5\n",
            "Validation time: 0.119 seconds\n",
            "Average training accuracy: 0.438\n",
            "Number of labeled documents:    466\n",
            "================================================================================\n",
            "Validation: \n",
            "MultinomialNB(alpha=0.01)\n",
            "Fold # 1\n",
            "Fold # 2\n",
            "Fold # 3\n",
            "Fold # 4\n",
            "Fold # 5\n",
            "Validation time: 0.128 seconds\n",
            "Average training accuracy: 0.453\n",
            "Number of labeled documents:    552\n",
            "================================================================================\n",
            "Validation: \n",
            "MultinomialNB(alpha=0.01)\n",
            "Fold # 1\n",
            "Fold # 2\n",
            "Fold # 3\n",
            "Fold # 4\n",
            "Fold # 5\n",
            "Validation time: 0.143 seconds\n",
            "Average training accuracy: 0.474\n",
            "Number of labeled documents:    654\n",
            "================================================================================\n",
            "Validation: \n",
            "MultinomialNB(alpha=0.01)\n",
            "Fold # 1\n",
            "Fold # 2\n",
            "Fold # 3\n",
            "Fold # 4\n",
            "Fold # 5\n",
            "Validation time: 0.159 seconds\n",
            "Average training accuracy: 0.490\n",
            "Number of labeled documents:    775\n",
            "================================================================================\n",
            "Validation: \n",
            "MultinomialNB(alpha=0.01)\n",
            "Fold # 1\n",
            "Fold # 2\n",
            "Fold # 3\n",
            "Fold # 4\n",
            "Fold # 5\n",
            "Validation time: 0.182 seconds\n",
            "Average training accuracy: 0.519\n",
            "Number of labeled documents:    918\n",
            "================================================================================\n",
            "Validation: \n",
            "MultinomialNB(alpha=0.01)\n",
            "Fold # 1\n",
            "Fold # 2\n",
            "Fold # 3\n",
            "Fold # 4\n",
            "Fold # 5\n",
            "Validation time: 0.208 seconds\n",
            "Average training accuracy: 0.534\n",
            "Number of labeled documents:   1088\n",
            "================================================================================\n",
            "Validation: \n",
            "MultinomialNB(alpha=0.01)\n",
            "Fold # 1\n",
            "Fold # 2\n",
            "Fold # 3\n",
            "Fold # 4\n",
            "Fold # 5\n",
            "Validation time: 0.237 seconds\n",
            "Average training accuracy: 0.534\n",
            "Number of labeled documents:   1289\n",
            "================================================================================\n",
            "Validation: \n",
            "MultinomialNB(alpha=0.01)\n",
            "Fold # 1\n",
            "Fold # 2\n",
            "Fold # 3\n",
            "Fold # 4\n",
            "Fold # 5\n",
            "Validation time: 0.269 seconds\n",
            "Average training accuracy: 0.553\n",
            "Number of labeled documents:   1528\n",
            "================================================================================\n",
            "Validation: \n",
            "MultinomialNB(alpha=0.01)\n",
            "Fold # 1\n",
            "Fold # 2\n",
            "Fold # 3\n",
            "Fold # 4\n",
            "Fold # 5\n",
            "Validation time: 0.304 seconds\n",
            "Average training accuracy: 0.559\n",
            "Number of labeled documents:   1810\n",
            "================================================================================\n",
            "Validation: \n",
            "MultinomialNB(alpha=0.01)\n",
            "Fold # 1\n",
            "Fold # 2\n",
            "Fold # 3\n",
            "Fold # 4\n",
            "Fold # 5\n",
            "Validation time: 0.346 seconds\n",
            "Average training accuracy: 0.584\n",
            "Number of labeled documents:   2145\n",
            "================================================================================\n",
            "Validation: \n",
            "MultinomialNB(alpha=0.01)\n",
            "Fold # 1\n",
            "Fold # 2\n",
            "Fold # 3\n",
            "Fold # 4\n",
            "Fold # 5\n",
            "Validation time: 0.406 seconds\n",
            "Average training accuracy: 0.598\n",
            "Number of labeled documents:   2542\n",
            "================================================================================\n",
            "Validation: \n",
            "MultinomialNB(alpha=0.01)\n",
            "Fold # 1\n",
            "Fold # 2\n",
            "Fold # 3\n",
            "Fold # 4\n",
            "Fold # 5\n",
            "Validation time: 0.467 seconds\n",
            "Average training accuracy: 0.602\n",
            "Number of labeled documents:   3012\n",
            "================================================================================\n",
            "Validation: \n",
            "MultinomialNB(alpha=0.01)\n",
            "Fold # 1\n",
            "Fold # 2\n",
            "Fold # 3\n",
            "Fold # 4\n",
            "Fold # 5\n",
            "Validation time: 0.537 seconds\n",
            "Average training accuracy: 0.621\n",
            "Number of labeled documents:   3569\n",
            "================================================================================\n",
            "Validation: \n",
            "MultinomialNB(alpha=0.01)\n",
            "Fold # 1\n",
            "Fold # 2\n",
            "Fold # 3\n",
            "Fold # 4\n",
            "Fold # 5\n",
            "Validation time: 0.644 seconds\n",
            "Average training accuracy: 0.625\n",
            "Number of labeled documents:   4229\n",
            "================================================================================\n",
            "Validation: \n",
            "MultinomialNB(alpha=0.01)\n",
            "Fold # 1\n",
            "Fold # 2\n",
            "Fold # 3\n",
            "Fold # 4\n",
            "Fold # 5\n",
            "Validation time: 0.741 seconds\n",
            "Average training accuracy: 0.643\n",
            "Number of labeled documents:   5011\n"
          ],
          "name": "stdout"
        }
      ]
    },
    {
      "cell_type": "markdown",
      "metadata": {
        "id": "tLqdv5oMvAZo"
      },
      "source": [
        "# Semi_EM_MultinomialNB"
      ]
    },
    {
      "cell_type": "code",
      "metadata": {
        "id": "MoINawo3tSP3",
        "outputId": "96e5ac44-9d41-4e55-ec54-fbd1e4f9af49",
        "colab": {
          "base_uri": "https://localhost:8080/"
        }
      },
      "source": [
        "# Cross validation for semisupervised EM Naive Bayes classifier \n",
        "# using both labeled and unlabeled data set\n",
        "em_nb_cv_scores = list()\n",
        "em_nb_cv_times = list()\n",
        "for n_l_docs in experiments:\n",
        "    em_nb_clf = Semi_EM_MultinomialNB(alpha=1e-2, tol=100, print_log_lkh=False) # semi supervised EM based Naive Bayes classifier\n",
        "    cv_scores, cv_time = cross_validation(em_nb_clf, X_l[:n_l_docs,], y_l[:n_l_docs],True,X_u)\n",
        "    em_nb_cv_scores.append(cv_scores)\n",
        "    em_nb_cv_times.append(cv_time)\n",
        "    print(\"Number of labeled documents: %6d\" % n_l_docs)"
      ],
      "execution_count": 20,
      "outputs": [
        {
          "output_type": "stream",
          "text": [
            "================================================================================\n",
            "Validation: \n",
            "MultinomialNB(alpha=0.01)\n",
            "Fold # 1\n",
            "Fold # 2\n",
            "Fold # 3\n",
            "Fold # 4\n",
            "Fold # 5\n",
            "Validation time: 50.665 seconds\n",
            "Average training accuracy: 0.493\n",
            "Number of labeled documents:    199\n",
            "================================================================================\n",
            "Validation: \n",
            "MultinomialNB(alpha=0.01)\n",
            "Fold # 1\n",
            "Fold # 2\n",
            "Fold # 3\n",
            "Fold # 4\n",
            "Fold # 5\n",
            "Validation time: 50.639 seconds\n",
            "Average training accuracy: 0.496\n",
            "Number of labeled documents:    236\n",
            "================================================================================\n",
            "Validation: \n",
            "MultinomialNB(alpha=0.01)\n",
            "Fold # 1\n",
            "Fold # 2\n",
            "Fold # 3\n",
            "Fold # 4\n",
            "Fold # 5\n",
            "Validation time: 50.352 seconds\n",
            "Average training accuracy: 0.514\n",
            "Number of labeled documents:    280\n",
            "================================================================================\n",
            "Validation: \n",
            "MultinomialNB(alpha=0.01)\n",
            "Fold # 1\n",
            "Fold # 2\n",
            "Fold # 3\n",
            "Fold # 4\n",
            "Fold # 5\n",
            "Validation time: 46.244 seconds\n",
            "Average training accuracy: 0.502\n",
            "Number of labeled documents:    331\n",
            "================================================================================\n",
            "Validation: \n",
            "MultinomialNB(alpha=0.01)\n",
            "Fold # 1\n",
            "Fold # 2\n",
            "Fold # 3\n",
            "Fold # 4\n",
            "Fold # 5\n",
            "Validation time: 43.978 seconds\n",
            "Average training accuracy: 0.514\n",
            "Number of labeled documents:    393\n",
            "================================================================================\n",
            "Validation: \n",
            "MultinomialNB(alpha=0.01)\n",
            "Fold # 1\n",
            "Fold # 2\n",
            "Fold # 3\n",
            "Fold # 4\n",
            "Fold # 5\n",
            "Validation time: 46.274 seconds\n",
            "Average training accuracy: 0.541\n",
            "Number of labeled documents:    466\n",
            "================================================================================\n",
            "Validation: \n",
            "MultinomialNB(alpha=0.01)\n",
            "Fold # 1\n",
            "Fold # 2\n",
            "Fold # 3\n",
            "Fold # 4\n",
            "Fold # 5\n",
            "Validation time: 42.037 seconds\n",
            "Average training accuracy: 0.551\n",
            "Number of labeled documents:    552\n",
            "================================================================================\n",
            "Validation: \n",
            "MultinomialNB(alpha=0.01)\n",
            "Fold # 1\n",
            "Fold # 2\n",
            "Fold # 3\n",
            "Fold # 4\n",
            "Fold # 5\n",
            "Validation time: 39.977 seconds\n",
            "Average training accuracy: 0.569\n",
            "Number of labeled documents:    654\n",
            "================================================================================\n",
            "Validation: \n",
            "MultinomialNB(alpha=0.01)\n",
            "Fold # 1\n",
            "Fold # 2\n",
            "Fold # 3\n",
            "Fold # 4\n",
            "Fold # 5\n",
            "Validation time: 36.828 seconds\n",
            "Average training accuracy: 0.579\n",
            "Number of labeled documents:    775\n",
            "================================================================================\n",
            "Validation: \n",
            "MultinomialNB(alpha=0.01)\n",
            "Fold # 1\n",
            "Fold # 2\n",
            "Fold # 3\n",
            "Fold # 4\n",
            "Fold # 5\n",
            "Validation time: 40.293 seconds\n",
            "Average training accuracy: 0.589\n",
            "Number of labeled documents:    918\n",
            "================================================================================\n",
            "Validation: \n",
            "MultinomialNB(alpha=0.01)\n",
            "Fold # 1\n",
            "Fold # 2\n",
            "Fold # 3\n",
            "Fold # 4\n",
            "Fold # 5\n",
            "Validation time: 40.735 seconds\n",
            "Average training accuracy: 0.596\n",
            "Number of labeled documents:   1088\n",
            "================================================================================\n",
            "Validation: \n",
            "MultinomialNB(alpha=0.01)\n",
            "Fold # 1\n",
            "Fold # 2\n",
            "Fold # 3\n",
            "Fold # 4\n",
            "Fold # 5\n",
            "Validation time: 38.947 seconds\n",
            "Average training accuracy: 0.607\n",
            "Number of labeled documents:   1289\n",
            "================================================================================\n",
            "Validation: \n",
            "MultinomialNB(alpha=0.01)\n",
            "Fold # 1\n",
            "Fold # 2\n",
            "Fold # 3\n",
            "Fold # 4\n",
            "Fold # 5\n",
            "Validation time: 36.325 seconds\n",
            "Average training accuracy: 0.598\n",
            "Number of labeled documents:   1528\n",
            "================================================================================\n",
            "Validation: \n",
            "MultinomialNB(alpha=0.01)\n",
            "Fold # 1\n",
            "Fold # 2\n",
            "Fold # 3\n",
            "Fold # 4\n",
            "Fold # 5\n",
            "Validation time: 35.418 seconds\n",
            "Average training accuracy: 0.619\n",
            "Number of labeled documents:   1810\n",
            "================================================================================\n",
            "Validation: \n",
            "MultinomialNB(alpha=0.01)\n",
            "Fold # 1\n",
            "Fold # 2\n",
            "Fold # 3\n",
            "Fold # 4\n",
            "Fold # 5\n",
            "Validation time: 31.043 seconds\n",
            "Average training accuracy: 0.625\n",
            "Number of labeled documents:   2145\n",
            "================================================================================\n",
            "Validation: \n",
            "MultinomialNB(alpha=0.01)\n",
            "Fold # 1\n",
            "Fold # 2\n",
            "Fold # 3\n",
            "Fold # 4\n",
            "Fold # 5\n",
            "Validation time: 32.882 seconds\n",
            "Average training accuracy: 0.642\n",
            "Number of labeled documents:   2542\n",
            "================================================================================\n",
            "Validation: \n",
            "MultinomialNB(alpha=0.01)\n",
            "Fold # 1\n",
            "Fold # 2\n",
            "Fold # 3\n",
            "Fold # 4\n",
            "Fold # 5\n",
            "Validation time: 30.776 seconds\n",
            "Average training accuracy: 0.639\n",
            "Number of labeled documents:   3012\n",
            "================================================================================\n",
            "Validation: \n",
            "MultinomialNB(alpha=0.01)\n",
            "Fold # 1\n",
            "Fold # 2\n",
            "Fold # 3\n",
            "Fold # 4\n",
            "Fold # 5\n",
            "Validation time: 29.949 seconds\n",
            "Average training accuracy: 0.647\n",
            "Number of labeled documents:   3569\n",
            "================================================================================\n",
            "Validation: \n",
            "MultinomialNB(alpha=0.01)\n",
            "Fold # 1\n",
            "Fold # 2\n",
            "Fold # 3\n",
            "Fold # 4\n",
            "Fold # 5\n",
            "Validation time: 28.085 seconds\n",
            "Average training accuracy: 0.653\n",
            "Number of labeled documents:   4229\n",
            "================================================================================\n",
            "Validation: \n",
            "MultinomialNB(alpha=0.01)\n",
            "Fold # 1\n",
            "Fold # 2\n",
            "Fold # 3\n",
            "Fold # 4\n",
            "Fold # 5\n",
            "Validation time: 27.512 seconds\n",
            "Average training accuracy: 0.670\n",
            "Number of labeled documents:   5011\n"
          ],
          "name": "stdout"
        }
      ]
    },
    {
      "cell_type": "markdown",
      "metadata": {
        "id": "pFo0k4FkvE_V"
      },
      "source": [
        "# Accuracy"
      ]
    },
    {
      "cell_type": "code",
      "metadata": {
        "id": "Prcq5eb5tSP3",
        "outputId": "d47dae66-6bff-4f44-d83f-bf1bcb3d4196",
        "colab": {
          "base_uri": "https://localhost:8080/",
          "height": 430
        }
      },
      "source": [
        "import seaborn as sns\n",
        "import matplotlib.pyplot as plt\n",
        "# plot CV accuracy comparisons\n",
        "nb_score_mean = list()\n",
        "nb_score_err = list()\n",
        "em_nb_score_mean = list()\n",
        "em_nb_score_err = list()\n",
        "for idx in range(len(experiments)):\n",
        "    nb_scores = [value['accuracy'] for value in nb_cv_scores[idx]]\n",
        "    nb_score_mean.append(np.mean(nb_scores))\n",
        "    nb_score_err.append(np.std(nb_scores))\n",
        "    em_nb_scores = [value['accuracy'] for value in em_nb_cv_scores[idx]]\n",
        "    em_nb_score_mean.append(np.mean(em_nb_scores))\n",
        "    em_nb_score_err.append(np.std(em_nb_scores))\n",
        "fig = plt.figure(figsize=(10,6))\n",
        "ax = fig.add_subplot(111)\n",
        "ax.plot(experiments, nb_score_mean, color='b', linewidth=2, label='Traditional Naive Bayes')\n",
        "ax.errorbar(experiments, nb_score_mean, yerr=nb_score_err, fmt='s', color='b')\n",
        "ax.plot(experiments, em_nb_score_mean, color='r', linewidth=2, label='Semisupervised EM Naive Bayes')\n",
        "ax.errorbar(experiments, em_nb_score_mean, yerr=em_nb_score_err, fmt='o', color='r')\n",
        "ax.set_xlabel('Number of Labeled Documents')\n",
        "ax.set_ylabel('Accuracy')\n",
        "ax.set_xlim(left=np.min(experiments)-10, right=np.max(experiments)+100)\n",
        "ax.set_xscale('log')\n",
        "ax.set_xticks([200, 1000, 5000]) \n",
        "ax.set_xticklabels([r'$2\\times10^2$', r'$10^3$', r'$5\\times10^3$'], fontsize=15)\n",
        "plt.legend(loc='upper left')\n",
        "plt.title('Cross-Validation Average Accuracy vs Number of Labeled Documents in Training Set')"
      ],
      "execution_count": 21,
      "outputs": [
        {
          "output_type": "execute_result",
          "data": {
            "text/plain": [
              "Text(0.5, 1.0, 'Cross-Validation Average Accuracy vs Number of Labeled Documents in Training Set')"
            ]
          },
          "metadata": {
            "tags": []
          },
          "execution_count": 21
        },
        {
          "output_type": "display_data",
          "data": {
            "image/png": "[encoded data removed]",
            "text/plain": [
              "<Figure size 720x432 with 1 Axes>"
            ]
          },
          "metadata": {
            "tags": [],
            "needs_background": "light"
          }
        }
      ]
    },
    {
      "cell_type": "markdown",
      "metadata": {
        "id": "lmOxpNKMvIfA"
      },
      "source": [
        "# F1 Score"
      ]
    },
    {
      "cell_type": "code",
      "metadata": {
        "id": "q0GD5C4MtSP3",
        "outputId": "ea29b07c-9c84-42d4-f719-1c057ac5cbb2",
        "colab": {
          "base_uri": "https://localhost:8080/",
          "height": 430
        }
      },
      "source": [
        "# plot CV F1 Score comparisons\n",
        "nb_score_mean = list()\n",
        "nb_score_err = list()\n",
        "em_nb_score_mean = list()\n",
        "em_nb_score_err = list()\n",
        "for idx in range(len(experiments)):\n",
        "    nb_scores = [value['f1_score'] for value in nb_cv_scores[idx]]\n",
        "    nb_score_mean.append(np.mean(nb_scores))\n",
        "    nb_score_err.append(np.std(nb_scores))\n",
        "    em_nb_scores = [value['f1_score'] for value in em_nb_cv_scores[idx]]\n",
        "    em_nb_score_mean.append(np.mean(em_nb_scores))\n",
        "    em_nb_score_err.append(np.std(em_nb_scores))\n",
        "fig = plt.figure(figsize=(10,6))\n",
        "ax = fig.add_subplot(111)\n",
        "ax.plot(experiments, nb_score_mean, color='b', linestyle='--', linewidth=2, label='Traditional Naive Bayes')\n",
        "ax.errorbar(experiments, nb_score_mean, yerr=nb_score_err, fmt='s', color='b')\n",
        "ax.plot(experiments, em_nb_score_mean, color='r', linestyle='--', linewidth=2, label='Semisupervised EM Naive Bayes')\n",
        "ax.errorbar(experiments, em_nb_score_mean, yerr=em_nb_score_err, fmt='o', color='r')\n",
        "ax.fill_between(experiments, nb_score_mean, em_nb_score_mean, color='lightgreen')\n",
        "ax.set_xlabel('Number of Labeled Documents')\n",
        "ax.set_ylabel('F1 Score')\n",
        "ax.set_xlim(left=np.min(experiments)-10, right=np.max(experiments)+100)\n",
        "ax.set_xscale('log')\n",
        "ax.set_xticks([200, 1000, 5000]) \n",
        "ax.set_xticklabels([r'$2\\times10^2$', r'$10^3$', r'$5\\times10^3$'], fontsize=15)\n",
        "plt.legend(loc='upper left')\n",
        "plt.title('Cross-Validation Average F1 Score vs Number of Labeled Documents in Training Set')"
      ],
      "execution_count": 22,
      "outputs": [
        {
          "output_type": "execute_result",
          "data": {
            "text/plain": [
              "Text(0.5, 1.0, 'Cross-Validation Average F1 Score vs Number of Labeled Documents in Training Set')"
            ]
          },
          "metadata": {
            "tags": []
          },
          "execution_count": 22
        },
        {
          "output_type": "display_data",
          "data": {
            "image/png": "[encoded data removed]",
            "text/plain": [
              "<Figure size 720x432 with 1 Axes>"
            ]
          },
          "metadata": {
            "tags": [],
            "needs_background": "light"
          }
        }
      ]
    },
    {
      "cell_type": "markdown",
      "metadata": {
        "id": "hGxEwaHUvNoy"
      },
      "source": [
        "# Precision & Recall"
      ]
    },
    {
      "cell_type": "code",
      "metadata": {
        "id": "W_-4Q2ditSP4",
        "outputId": "2cc0c43d-bc4c-4d54-9ca4-d8ac42d5537e",
        "colab": {
          "base_uri": "https://localhost:8080/",
          "height": 440
        }
      },
      "source": [
        "# plot CV accuracy comparisons\n",
        "nb_score_mean = list()\n",
        "nb_score_err = list()\n",
        "em_nb_score_mean = list()\n",
        "em_nb_score_err = list()\n",
        "for idx in range(len(experiments)):\n",
        "    nb_scores = [value['recall'] for value in nb_cv_scores[idx]]\n",
        "    nb_score_mean.append(np.mean(nb_scores))\n",
        "    nb_score_err.append(np.std(nb_scores))\n",
        "    em_nb_scores = [value['recall'] for value in em_nb_cv_scores[idx]]\n",
        "    em_nb_score_mean.append(np.mean(em_nb_scores))\n",
        "    em_nb_score_err.append(np.std(em_nb_scores))\n",
        "fig = plt.figure(figsize=(10,6))\n",
        "ax1 = fig.add_subplot(121)\n",
        "ax1.plot(experiments, nb_score_mean, color='b', linestyle='-.', linewidth=2, label='Traditional Naive Bayes')\n",
        "ax1.errorbar(experiments, nb_score_mean, yerr=nb_score_err, fmt='s', color='b')\n",
        "ax1.plot(experiments, em_nb_score_mean, color='r', linestyle='-.', linewidth=2, label='Semisupervised EM Naive Bayes')\n",
        "ax1.errorbar(experiments, em_nb_score_mean, yerr=em_nb_score_err, fmt='o', color='r')\n",
        "ax1.fill_between(experiments, nb_score_mean, em_nb_score_mean, color='pink')\n",
        "ax1.set_xlabel('Number of Labeled Documents')\n",
        "ax1.set_ylabel('Recall')\n",
        "ax1.set_xlim(left=np.min(experiments)-10, right=np.max(experiments)+100)\n",
        "ax1.set_xscale('log')\n",
        "ax1.set_xticks([200, 1000, 5000]) \n",
        "ax1.set_xticklabels([r'$2\\times10^2$', r'$10^3$', r'$5\\times10^3$'], fontsize=15)\n",
        "nb_score_mean = list()\n",
        "nb_score_err = list()\n",
        "em_nb_score_mean = list()\n",
        "em_nb_score_err = list()\n",
        "for idx in range(len(experiments)):\n",
        "    nb_scores = [value['precision'] for value in nb_cv_scores[idx]]\n",
        "    nb_score_mean.append(np.mean(nb_scores))\n",
        "    nb_score_err.append(np.std(nb_scores))\n",
        "    em_nb_scores = [value['precision'] for value in em_nb_cv_scores[idx]]\n",
        "    em_nb_score_mean.append(np.mean(em_nb_scores))\n",
        "    em_nb_score_err.append(np.std(em_nb_scores))\n",
        "ax2 = fig.add_subplot(122)\n",
        "ax2.plot(experiments, nb_score_mean, color='b', linestyle=':', linewidth=2, label='Traditional Naive Bayes')\n",
        "ax2.errorbar(experiments, nb_score_mean, yerr=nb_score_err, fmt='s', color='b')\n",
        "ax2.plot(experiments, em_nb_score_mean, color='r', linestyle=':', linewidth=2, label='Semisupervised EM Naive Bayes')\n",
        "ax2.errorbar(experiments, em_nb_score_mean, yerr=em_nb_score_err, fmt='o', color='r')\n",
        "ax2.fill_between(experiments, nb_score_mean, em_nb_score_mean, color='aqua')\n",
        "ax2.set_xlabel('Number of Labeled Documents')\n",
        "ax2.set_ylabel('Precision')\n",
        "ax2.set_xlim(left=np.min(experiments)-10, right=np.max(experiments)+100)\n",
        "ax2.set_xscale('log')\n",
        "ax2.set_xticks([200, 1000, 5000]) \n",
        "ax2.set_xticklabels([r'$2\\times10^2$', r'$10^3$', r'$5\\times10^3$'], fontsize=15)\n",
        "fig.suptitle('Cross-Validation Recall and Precision vs Number of Labeled Documents in Training Set')\n",
        "plt.show()"
      ],
      "execution_count": 23,
      "outputs": [
        {
          "output_type": "display_data",
          "data": {
            "image/png": "[encoded data removed]",
            "text/plain": [
              "<Figure size 720x432 with 2 Axes>"
            ]
          },
          "metadata": {
            "tags": [],
            "needs_background": "light"
          }
        }
      ]
    },
    {
      "cell_type": "markdown",
      "metadata": {
        "id": "ZdvcjOb51H6u"
      },
      "source": [
        "# Accuracy Test Data NB\n",
        "\n"
      ]
    },
    {
      "cell_type": "code",
      "metadata": {
        "id": "WE12OUAitSP5",
        "outputId": "50183f93-9fa4-4fb7-d434-9766cc01f32d",
        "colab": {
          "base_uri": "https://localhost:8080/"
        }
      },
      "source": [
        "# Evaluate original NB classifier using test data set\n",
        "nb_test_scores = dict()\n",
        "nb_test_scores['accuracy'] = list()\n",
        "nb_test_scores['recall'] = list()\n",
        "nb_test_scores['precision'] = list()\n",
        "nb_test_scores['f1_score'] = list()\n",
        "for n_l_docs in experiments:\n",
        "    nb_clf = MultinomialNB(alpha=1e-2).fit(X_l[:n_l_docs,], y_l[:n_l_docs])\n",
        "    pred = nb_clf.predict(test_X)\n",
        "    accuracy = metrics.accuracy_score(test_y, pred)\n",
        "    nb_test_scores['accuracy'].append(accuracy)\n",
        "    nb_test_scores['recall'].append(metrics.recall_score(test_y, pred, average='macro'))\n",
        "    nb_test_scores['precision'].append(metrics.precision_score(test_y, pred, average='macro'))\n",
        "    nb_test_scores['f1_score'].append(metrics.f1_score(test_y, pred, average='macro'))\n",
        "    print(\"%6d labeled documents lead to accuracy of %.3f\" % (n_l_docs, accuracy))"
      ],
      "execution_count": 24,
      "outputs": [
        {
          "output_type": "stream",
          "text": [
            "   199 labeled documents lead to accuracy of 0.372\n",
            "   236 labeled documents lead to accuracy of 0.391\n",
            "   280 labeled documents lead to accuracy of 0.402\n",
            "   331 labeled documents lead to accuracy of 0.418\n",
            "   393 labeled documents lead to accuracy of 0.428\n",
            "   466 labeled documents lead to accuracy of 0.455\n",
            "   552 labeled documents lead to accuracy of 0.467\n",
            "   654 labeled documents lead to accuracy of 0.477\n",
            "   775 labeled documents lead to accuracy of 0.495\n",
            "   918 labeled documents lead to accuracy of 0.513\n",
            "  1088 labeled documents lead to accuracy of 0.535\n",
            "  1289 labeled documents lead to accuracy of 0.551\n",
            "  1528 labeled documents lead to accuracy of 0.569\n",
            "  1810 labeled documents lead to accuracy of 0.579\n",
            "  2145 labeled documents lead to accuracy of 0.593\n",
            "  2542 labeled documents lead to accuracy of 0.606\n",
            "  3012 labeled documents lead to accuracy of 0.617\n",
            "  3569 labeled documents lead to accuracy of 0.634\n",
            "  4229 labeled documents lead to accuracy of 0.645\n",
            "  5011 labeled documents lead to accuracy of 0.653\n"
          ],
          "name": "stdout"
        }
      ]
    },
    {
      "cell_type": "markdown",
      "metadata": {
        "id": "yIvf7Lg_1aK9"
      },
      "source": [
        "# Accuracy Test Data EM_NB"
      ]
    },
    {
      "cell_type": "code",
      "metadata": {
        "id": "aOPchQrRtSP5",
        "outputId": "d5fb73a4-3c0d-49e9-c727-6b3a5efbf6f5",
        "colab": {
          "base_uri": "https://localhost:8080/"
        }
      },
      "source": [
        "# Evaluate semi-supervised EM NB classifier using test data set\n",
        "em_nb_test_scores = dict()\n",
        "em_nb_test_scores['accuracy'] = list()\n",
        "em_nb_test_scores['recall'] = list()\n",
        "em_nb_test_scores['precision'] = list()\n",
        "em_nb_test_scores['f1_score'] = list()\n",
        "for n_l_docs in experiments:\n",
        "    em_nb_clf = Semi_EM_MultinomialNB(alpha=1e-2, tol=100, print_log_lkh=False).fit(X_l[:n_l_docs,], y_l[:n_l_docs], X_u)\n",
        "    pred = em_nb_clf.predict(test_X)\n",
        "    accuracy = metrics.accuracy_score(test_y, pred)\n",
        "    em_nb_test_scores['accuracy'].append(accuracy)\n",
        "    em_nb_test_scores['recall'].append(metrics.recall_score(test_y, pred, average='macro'))\n",
        "    em_nb_test_scores['precision'].append(metrics.precision_score(test_y, pred, average='macro'))\n",
        "    em_nb_test_scores['f1_score'].append(metrics.f1_score(test_y, pred, average='macro'))\n",
        "    print(\"%6d labeled documents lead to accuracy of %.3f\" % (n_l_docs, accuracy))"
      ],
      "execution_count": 25,
      "outputs": [
        {
          "output_type": "stream",
          "text": [
            "   199 labeled documents lead to accuracy of 0.508\n",
            "   236 labeled documents lead to accuracy of 0.528\n",
            "   280 labeled documents lead to accuracy of 0.536\n",
            "   331 labeled documents lead to accuracy of 0.545\n",
            "   393 labeled documents lead to accuracy of 0.545\n",
            "   466 labeled documents lead to accuracy of 0.553\n",
            "   552 labeled documents lead to accuracy of 0.584\n",
            "   654 labeled documents lead to accuracy of 0.588\n",
            "   775 labeled documents lead to accuracy of 0.585\n",
            "   918 labeled documents lead to accuracy of 0.602\n",
            "  1088 labeled documents lead to accuracy of 0.618\n",
            "  1289 labeled documents lead to accuracy of 0.629\n",
            "  1528 labeled documents lead to accuracy of 0.631\n",
            "  1810 labeled documents lead to accuracy of 0.631\n",
            "  2145 labeled documents lead to accuracy of 0.631\n",
            "  2542 labeled documents lead to accuracy of 0.638\n",
            "  3012 labeled documents lead to accuracy of 0.648\n",
            "  3569 labeled documents lead to accuracy of 0.657\n",
            "  4229 labeled documents lead to accuracy of 0.663\n",
            "  5011 labeled documents lead to accuracy of 0.669\n"
          ],
          "name": "stdout"
        }
      ]
    },
    {
      "cell_type": "code",
      "metadata": {
        "id": "lXkVLU_YtSP5",
        "outputId": "d203ec3a-caeb-4fb3-ec70-e56a227b7a1a",
        "colab": {
          "base_uri": "https://localhost:8080/",
          "height": 430
        }
      },
      "source": [
        "# Plot and compare test accuracy metrics\n",
        "fig = plt.figure(figsize=(10,6))\n",
        "ax = fig.add_subplot(111)\n",
        "ax.plot(experiments, nb_test_scores['accuracy'], color='b', marker='s', linewidth=2, label='Traditional Naive Bayes')\n",
        "ax.plot(experiments, em_nb_test_scores['accuracy'], color='r', marker='o', linewidth=2, label='Semisupervised EM Naive Bayes')\n",
        "ax.set_xlabel('Number of Labeled Documents')\n",
        "ax.set_ylabel('Accuracy')\n",
        "ax.set_xlim(left=np.min(experiments)-10, right=np.max(experiments)+100)\n",
        "ax.set_xscale('log')\n",
        "ax.set_xticks([200, 1000, 5000]) \n",
        "ax.set_xticklabels([r'$2\\times10^2$', r'$10^3$', r'$5\\times10^3$'], fontsize=15)\n",
        "plt.legend(loc='upper left')\n",
        "plt.title('Test Accuracy vs Number of Labeled Documents in Training Set')"
      ],
      "execution_count": 26,
      "outputs": [
        {
          "output_type": "execute_result",
          "data": {
            "text/plain": [
              "Text(0.5, 1.0, 'Test Accuracy vs Number of Labeled Documents in Training Set')"
            ]
          },
          "metadata": {
            "tags": []
          },
          "execution_count": 26
        },
        {
          "output_type": "display_data",
          "data": {
            "image/png": "[encoded data removed]",
            "text/plain": [
              "<Figure size 720x432 with 1 Axes>"
            ]
          },
          "metadata": {
            "tags": [],
            "needs_background": "light"
          }
        }
      ]
    },
    {
      "cell_type": "code",
      "metadata": {
        "id": "UeAqgugNtSP5",
        "outputId": "619f5f7a-98f8-4fda-bb21-891e07f21b31",
        "colab": {
          "base_uri": "https://localhost:8080/",
          "height": 413
        }
      },
      "source": [
        "# Plot and compare test f1 score metrics\n",
        "fig = plt.figure(figsize=(10,6))\n",
        "ax = fig.add_subplot(111)\n",
        "ax.plot(experiments, nb_test_scores['f1_score'], color='b', marker='s', linestyle='--', linewidth=2, label='Traditional Naive Bayes')\n",
        "ax.plot(experiments, em_nb_test_scores['f1_score'], color='r', marker='o', linestyle='--', linewidth=2, label='Semisupervised EM Naive Bayes')\n",
        "ax.fill_between(experiments, nb_test_scores['f1_score'], em_nb_test_scores['f1_score'], color='lightgreen')\n",
        "ax.set_xlabel('Number of Labeled Documents')\n",
        "ax.set_ylabel('F1 Score')\n",
        "ax.set_xlim(left=np.min(experiments)-10, right=np.max(experiments)+100)\n",
        "ax.set_xscale('log')\n",
        "ax.set_xticks([200, 1000, 5000]) \n",
        "ax.set_xticklabels([r'$2\\times10^2$', r'$10^3$', r'$5\\times10^3$'], fontsize=15)\n",
        "plt.legend(loc='upper left')\n",
        "plt.title('Test F1 Score vs Number of Labeled Documents in Training Set')\n",
        "plt.savefig('BOWNB5.png')"
      ],
      "execution_count": 27,
      "outputs": [
        {
          "output_type": "display_data",
          "data": {
            "image/png": "[encoded data removed]",
            "text/plain": [
              "<Figure size 720x432 with 1 Axes>"
            ]
          },
          "metadata": {
            "tags": [],
            "needs_background": "light"
          }
        }
      ]
    },
    {
      "cell_type": "code",
      "metadata": {
        "id": "agt6i39CtSP6",
        "outputId": "f63d4e34-e77d-4783-e4ac-52a83e4dc6b3",
        "colab": {
          "base_uri": "https://localhost:8080/",
          "height": 440
        }
      },
      "source": [
        "# Plot and compare test recall and precisions metrics\n",
        "fig = plt.figure(figsize=(12, 6))\n",
        "ax1 = fig.add_subplot(121)\n",
        "ax1.plot(experiments, nb_test_scores['recall'], color='b', marker='s', linestyle='-.', linewidth=2, label='Traditional Naive Bayes')\n",
        "ax1.plot(experiments, em_nb_test_scores['recall'], color='r', marker='o', linestyle='-.', linewidth=2, label='Semisupervised EM Naive Bayes')\n",
        "ax1.fill_between(experiments, nb_test_scores['recall'], em_nb_test_scores['recall'], color='pink')\n",
        "ax1.set_xlabel('Number of Labeled Documents')\n",
        "ax1.set_ylabel('Recall')\n",
        "ax1.set_xlim(left=np.min(experiments)-10, right=np.max(experiments)+100)\n",
        "ax1.set_xscale('log')\n",
        "ax1.set_xticks([200, 1000, 5000]) \n",
        "ax1.set_xticklabels([r'$2\\times10^2$', r'$10^3$', r'$5\\times10^3$'], fontsize=15)\n",
        "\n",
        "ax2 = fig.add_subplot(122)\n",
        "ax2.plot(experiments, nb_test_scores['precision'], color='b', marker='s', linestyle=':', linewidth=2, label='Traditional Naive Bayes')\n",
        "ax2.plot(experiments, em_nb_test_scores['precision'], color='r', marker='o', linestyle=':', linewidth=2, label='Semisupervised EM Naive Bayes')\n",
        "ax2.fill_between(experiments, nb_test_scores['precision'], em_nb_test_scores['precision'], color='aqua')\n",
        "ax2.set_xlabel('Number of Labeled Documents')\n",
        "ax2.set_ylabel('Precision')\n",
        "ax2.set_xlim(left=np.min(experiments)-10, right=np.max(experiments)+100)\n",
        "ax2.set_xscale('log')\n",
        "ax2.set_xticks([200, 1000, 5000]) \n",
        "ax2.set_xticklabels([r'$2\\times10^2$', r'$10^3$', r'$5\\times10^3$'], fontsize=15)\n",
        "fig.suptitle('Test Recall and Precision vs Number of Labeled Documents in Training Set')\n",
        "plt.show()"
      ],
      "execution_count": 28,
      "outputs": [
        {
          "output_type": "display_data",
          "data": {
            "image/png": "[encoded data removed]",
            "text/plain": [
              "<Figure size 864x432 with 2 Axes>"
            ]
          },
          "metadata": {
            "tags": [],
            "needs_background": "light"
          }
        }
      ]
    },
    {
      "cell_type": "markdown",
      "metadata": {
        "id": "Oea6tgY04Rwe"
      },
      "source": [
        "# Classification Report"
      ]
    },
    {
      "cell_type": "code",
      "metadata": {
        "id": "MW6-MmMUtSP6",
        "outputId": "52ca7bfc-b6c0-4993-ecfd-3be22270e78b",
        "colab": {
          "base_uri": "https://localhost:8080/"
        }
      },
      "source": [
        "# details of classification accuracy metrics\n",
        "print(metrics.classification_report(test_y, pred, target_names=news_group_target_names_test))"
      ],
      "execution_count": 29,
      "outputs": [
        {
          "output_type": "stream",
          "text": [
            "                          precision    recall  f1-score   support\n",
            "\n",
            "             alt.atheism       0.55      0.50      0.52       160\n",
            "           comp.graphics       0.59      0.66      0.62       195\n",
            " comp.os.ms-windows.misc       0.60      0.57      0.58       197\n",
            "comp.sys.ibm.pc.hardware       0.61      0.59      0.60       196\n",
            "   comp.sys.mac.hardware       0.66      0.69      0.67       193\n",
            "          comp.windows.x       0.76      0.71      0.73       198\n",
            "            misc.forsale       0.75      0.64      0.69       195\n",
            "               rec.autos       0.66      0.63      0.65       198\n",
            "         rec.motorcycles       0.74      0.65      0.69       199\n",
            "      rec.sport.baseball       0.84      0.75      0.80       199\n",
            "        rec.sport.hockey       0.89      0.84      0.87       200\n",
            "               sci.crypt       0.42      0.85      0.56       198\n",
            "         sci.electronics       0.74      0.56      0.64       197\n",
            "                 sci.med       0.86      0.81      0.84       198\n",
            "               sci.space       0.78      0.64      0.71       197\n",
            "  soc.religion.christian       0.59      0.79      0.67       199\n",
            "      talk.politics.guns       0.63      0.73      0.68       182\n",
            "   talk.politics.mideast       0.78      0.75      0.76       188\n",
            "      talk.politics.misc       0.62      0.55      0.58       155\n",
            "      talk.religion.misc       0.58      0.24      0.34       126\n",
            "\n",
            "                accuracy                           0.67      3770\n",
            "               macro avg       0.68      0.66      0.66      3770\n",
            "            weighted avg       0.69      0.67      0.67      3770\n",
            "\n"
          ],
          "name": "stdout"
        }
      ]
    },
    {
      "cell_type": "markdown",
      "metadata": {
        "id": "XqO8V2xV4W6o"
      },
      "source": [
        "# Heatmap"
      ]
    },
    {
      "cell_type": "code",
      "metadata": {
        "id": "i1CZUlxTtSP6",
        "outputId": "915b3083-4d13-4daf-aba0-6cf54eb78c61",
        "colab": {
          "base_uri": "https://localhost:8080/",
          "height": 736
        }
      },
      "source": [
        "# plot confusion matrix for test dataset\n",
        "plt.figure(figsize=(12,12))\n",
        "sns.set()\n",
        "sns.heatmap(metrics.confusion_matrix(test_y, pred), annot=True, fmt=\"d\", linewidths=.5)\n",
        "plt.title(\"Confusion Matrix\")"
      ],
      "execution_count": 30,
      "outputs": [
        {
          "output_type": "execute_result",
          "data": {
            "text/plain": [
              "Text(0.5, 1.0, 'Confusion Matrix')"
            ]
          },
          "metadata": {
            "tags": []
          },
          "execution_count": 30
        },
        {
          "output_type": "display_data",
          "data": {
            "image/png": "[encoded data removed]",
            "text/plain": [
              "<Figure size 864x864 with 2 Axes>"
            ]
          },
          "metadata": {
            "tags": [],
            "needs_background": "light"
          }
        }
      ]
    },
    {
      "cell_type": "markdown",
      "metadata": {
        "id": "JoJTgi8BQFlY"
      },
      "source": [
        "# SGD"
      ]
    },
    {
      "cell_type": "code",
      "metadata": {
        "id": "ZM7qZgFxtAIR",
        "outputId": "378fae26-1060-47d2-b2e6-01216efd3358",
        "colab": {
          "base_uri": "https://localhost:8080/"
        }
      },
      "source": [
        "sdg_params = dict(alpha=1e-5, penalty='l2', loss='log')\n",
        "\n",
        "for n_l_docs in experiments:\n",
        "    sgd_clf = SGDClassifier(**sdg_params)\n",
        "    cv_scores, cv_time = cross_validation(sgd_clf, X_l[:n_l_docs,], y_l[:n_l_docs],False,X_u) "
      ],
      "execution_count": 31,
      "outputs": [
        {
          "output_type": "stream",
          "text": [
            "================================================================================\n",
            "Validation: \n",
            "SGDClassifier(alpha=1e-05, loss='log')\n",
            "Fold # 1\n",
            "Fold # 2\n",
            "Fold # 3\n",
            "Fold # 4\n",
            "Fold # 5\n",
            "Validation time: 2.694 seconds\n",
            "Average training accuracy: 0.236\n",
            "================================================================================\n",
            "Validation: \n",
            "SGDClassifier(alpha=1e-05, loss='log')\n",
            "Fold # 1\n",
            "Fold # 2\n",
            "Fold # 3\n",
            "Fold # 4\n",
            "Fold # 5\n",
            "Validation time: 3.854 seconds\n",
            "Average training accuracy: 0.318\n",
            "================================================================================\n",
            "Validation: \n",
            "SGDClassifier(alpha=1e-05, loss='log')\n",
            "Fold # 1\n",
            "Fold # 2\n",
            "Fold # 3\n",
            "Fold # 4\n",
            "Fold # 5\n",
            "Validation time: 4.772 seconds\n",
            "Average training accuracy: 0.293\n",
            "================================================================================\n",
            "Validation: \n",
            "SGDClassifier(alpha=1e-05, loss='log')\n",
            "Fold # 1\n",
            "Fold # 2\n",
            "Fold # 3\n",
            "Fold # 4\n",
            "Fold # 5\n",
            "Validation time: 6.442 seconds\n",
            "Average training accuracy: 0.338\n",
            "================================================================================\n",
            "Validation: \n",
            "SGDClassifier(alpha=1e-05, loss='log')\n",
            "Fold # 1\n",
            "Fold # 2\n",
            "Fold # 3\n",
            "Fold # 4\n",
            "Fold # 5\n",
            "Validation time: 7.709 seconds\n",
            "Average training accuracy: 0.323\n",
            "================================================================================\n",
            "Validation: \n",
            "SGDClassifier(alpha=1e-05, loss='log')\n",
            "Fold # 1\n",
            "Fold # 2\n",
            "Fold # 3\n",
            "Fold # 4\n",
            "Fold # 5\n",
            "Validation time: 9.250 seconds\n",
            "Average training accuracy: 0.365\n",
            "================================================================================\n",
            "Validation: \n",
            "SGDClassifier(alpha=1e-05, loss='log')\n",
            "Fold # 1\n",
            "Fold # 2\n",
            "Fold # 3\n",
            "Fold # 4\n",
            "Fold # 5\n",
            "Validation time: 11.725 seconds\n",
            "Average training accuracy: 0.399\n",
            "================================================================================\n",
            "Validation: \n",
            "SGDClassifier(alpha=1e-05, loss='log')\n",
            "Fold # 1\n",
            "Fold # 2\n",
            "Fold # 3\n",
            "Fold # 4\n",
            "Fold # 5\n",
            "Validation time: 14.308 seconds\n",
            "Average training accuracy: 0.362\n",
            "================================================================================\n",
            "Validation: \n",
            "SGDClassifier(alpha=1e-05, loss='log')\n",
            "Fold # 1\n",
            "Fold # 2\n",
            "Fold # 3\n",
            "Fold # 4\n",
            "Fold # 5\n",
            "Validation time: 16.090 seconds\n",
            "Average training accuracy: 0.410\n",
            "================================================================================\n",
            "Validation: \n",
            "SGDClassifier(alpha=1e-05, loss='log')\n",
            "Fold # 1\n",
            "Fold # 2\n",
            "Fold # 3\n",
            "Fold # 4\n",
            "Fold # 5\n",
            "Validation time: 18.796 seconds\n",
            "Average training accuracy: 0.440\n",
            "================================================================================\n",
            "Validation: \n",
            "SGDClassifier(alpha=1e-05, loss='log')\n",
            "Fold # 1\n",
            "Fold # 2\n",
            "Fold # 3\n",
            "Fold # 4\n",
            "Fold # 5\n",
            "Validation time: 22.067 seconds\n",
            "Average training accuracy: 0.436\n",
            "================================================================================\n",
            "Validation: \n",
            "SGDClassifier(alpha=1e-05, loss='log')\n",
            "Fold # 1\n",
            "Fold # 2\n",
            "Fold # 3\n",
            "Fold # 4\n",
            "Fold # 5\n",
            "Validation time: 25.149 seconds\n",
            "Average training accuracy: 0.448\n",
            "================================================================================\n",
            "Validation: \n",
            "SGDClassifier(alpha=1e-05, loss='log')\n",
            "Fold # 1\n",
            "Fold # 2\n",
            "Fold # 3\n",
            "Fold # 4\n",
            "Fold # 5\n",
            "Validation time: 28.888 seconds\n",
            "Average training accuracy: 0.487\n",
            "================================================================================\n",
            "Validation: \n",
            "SGDClassifier(alpha=1e-05, loss='log')\n",
            "Fold # 1\n",
            "Fold # 2\n",
            "Fold # 3\n",
            "Fold # 4\n",
            "Fold # 5\n",
            "Validation time: 33.252 seconds\n",
            "Average training accuracy: 0.491\n",
            "================================================================================\n",
            "Validation: \n",
            "SGDClassifier(alpha=1e-05, loss='log')\n",
            "Fold # 1\n",
            "Fold # 2\n",
            "Fold # 3\n",
            "Fold # 4\n",
            "Fold # 5\n",
            "Validation time: 37.198 seconds\n",
            "Average training accuracy: 0.508\n",
            "================================================================================\n",
            "Validation: \n",
            "SGDClassifier(alpha=1e-05, loss='log')\n",
            "Fold # 1\n",
            "Fold # 2\n",
            "Fold # 3\n",
            "Fold # 4\n",
            "Fold # 5\n",
            "Validation time: 43.477 seconds\n",
            "Average training accuracy: 0.530\n",
            "================================================================================\n",
            "Validation: \n",
            "SGDClassifier(alpha=1e-05, loss='log')\n",
            "Fold # 1\n",
            "Fold # 2\n",
            "Fold # 3\n",
            "Fold # 4\n",
            "Fold # 5\n",
            "Validation time: 49.288 seconds\n",
            "Average training accuracy: 0.542\n",
            "================================================================================\n",
            "Validation: \n",
            "SGDClassifier(alpha=1e-05, loss='log')\n",
            "Fold # 1\n",
            "Fold # 2\n",
            "Fold # 3\n",
            "Fold # 4\n",
            "Fold # 5\n",
            "Validation time: 57.882 seconds\n",
            "Average training accuracy: 0.547\n",
            "================================================================================\n",
            "Validation: \n",
            "SGDClassifier(alpha=1e-05, loss='log')\n",
            "Fold # 1\n",
            "Fold # 2\n",
            "Fold # 3\n",
            "Fold # 4\n",
            "Fold # 5\n",
            "Validation time: 66.654 seconds\n",
            "Average training accuracy: 0.556\n",
            "================================================================================\n",
            "Validation: \n",
            "SGDClassifier(alpha=1e-05, loss='log')\n",
            "Fold # 1\n",
            "Fold # 2\n",
            "Fold # 3\n",
            "Fold # 4\n",
            "Fold # 5\n",
            "Validation time: 77.572 seconds\n",
            "Average training accuracy: 0.574\n"
          ],
          "name": "stdout"
        }
      ]
    },
    {
      "cell_type": "markdown",
      "metadata": {
        "id": "8FN27lfqgezx"
      },
      "source": [
        "# Mask"
      ]
    },
    {
      "cell_type": "code",
      "metadata": {
        "id": "iqRvFeunaFkK"
      },
      "source": [
        "y_mask = np.random.rand(len(train_y)) < 0.2\n",
        "y_masked_class = train_y.to_numpy()\n",
        "y_masked_class[~y_mask] = -1"
      ],
      "execution_count": 32,
      "outputs": []
    },
    {
      "cell_type": "markdown",
      "metadata": {
        "id": "bdeh5mdFhEeb"
      },
      "source": [
        "# LabelPropagation"
      ]
    },
    {
      "cell_type": "code",
      "metadata": {
        "colab": {
          "base_uri": "https://localhost:8080/"
        },
        "id": "Xq3aPO-LhBz9",
        "outputId": "0d6de4c7-0891-41e1-b379-577e6a425985"
      },
      "source": [
        "from time import time\n",
        "for n_l_docs in experiments:\n",
        "    lbl_clf = LabelPropagation(max_iter=2000)\n",
        "    cv_scores, cv_time = cross_validation(lbl_clf, train_X[:n_l_docs,], y_masked_class[:n_l_docs],False,test_X)"
      ],
      "execution_count": 33,
      "outputs": [
        {
          "output_type": "stream",
          "text": [
            "================================================================================\n",
            "Validation: \n",
            "LabelPropagation(max_iter=2000)\n",
            "Fold # 1\n",
            "Fold # 2\n",
            "Fold # 3\n",
            "Fold # 4\n",
            "Fold # 5\n",
            "Validation time: 0.087 seconds\n",
            "Average training accuracy: 0.010\n",
            "================================================================================\n",
            "Validation: \n",
            "LabelPropagation(max_iter=2000)\n",
            "Fold # 1\n",
            "Fold # 2\n",
            "Fold # 3\n",
            "Fold # 4\n",
            "Fold # 5\n",
            "Validation time: 0.102 seconds\n",
            "Average training accuracy: 0.008\n",
            "================================================================================\n",
            "Validation: \n",
            "LabelPropagation(max_iter=2000)\n",
            "Fold # 1\n",
            "Fold # 2\n",
            "Fold # 3\n",
            "Fold # 4\n",
            "Fold # 5\n",
            "Validation time: 0.120 seconds\n",
            "Average training accuracy: 0.011\n",
            "================================================================================\n",
            "Validation: \n",
            "LabelPropagation(max_iter=2000)\n",
            "Fold # 1\n",
            "Fold # 2\n",
            "Fold # 3\n",
            "Fold # 4\n",
            "Fold # 5\n",
            "Validation time: 0.139 seconds\n",
            "Average training accuracy: 0.000\n",
            "================================================================================\n",
            "Validation: \n",
            "LabelPropagation(max_iter=2000)\n",
            "Fold # 1\n",
            "Fold # 2\n",
            "Fold # 3\n",
            "Fold # 4\n",
            "Fold # 5\n",
            "Validation time: 0.170 seconds\n",
            "Average training accuracy: 0.010\n",
            "================================================================================\n",
            "Validation: \n",
            "LabelPropagation(max_iter=2000)\n",
            "Fold # 1\n",
            "Fold # 2\n",
            "Fold # 3\n",
            "Fold # 4\n",
            "Fold # 5\n",
            "Validation time: 0.216 seconds\n",
            "Average training accuracy: 0.006\n",
            "================================================================================\n",
            "Validation: \n",
            "LabelPropagation(max_iter=2000)\n",
            "Fold # 1\n",
            "Fold # 2\n",
            "Fold # 3\n",
            "Fold # 4\n",
            "Fold # 5\n",
            "Validation time: 0.263 seconds\n",
            "Average training accuracy: 0.007\n",
            "================================================================================\n",
            "Validation: \n",
            "LabelPropagation(max_iter=2000)\n",
            "Fold # 1\n",
            "Fold # 2\n",
            "Fold # 3\n",
            "Fold # 4\n",
            "Fold # 5\n",
            "Validation time: 0.320 seconds\n",
            "Average training accuracy: 0.008\n",
            "================================================================================\n",
            "Validation: \n",
            "LabelPropagation(max_iter=2000)\n",
            "Fold # 1\n",
            "Fold # 2\n",
            "Fold # 3\n",
            "Fold # 4\n",
            "Fold # 5\n",
            "Validation time: 0.434 seconds\n",
            "Average training accuracy: 0.009\n",
            "================================================================================\n",
            "Validation: \n",
            "LabelPropagation(max_iter=2000)\n",
            "Fold # 1\n",
            "Fold # 2\n",
            "Fold # 3\n",
            "Fold # 4\n",
            "Fold # 5\n",
            "Validation time: 0.526 seconds\n",
            "Average training accuracy: 0.009\n",
            "================================================================================\n",
            "Validation: \n",
            "LabelPropagation(max_iter=2000)\n",
            "Fold # 1\n",
            "Fold # 2\n",
            "Fold # 3\n",
            "Fold # 4\n",
            "Fold # 5\n",
            "Validation time: 0.737 seconds\n",
            "Average training accuracy: 0.009\n",
            "================================================================================\n",
            "Validation: \n",
            "LabelPropagation(max_iter=2000)\n",
            "Fold # 1\n",
            "Fold # 2\n",
            "Fold # 3\n",
            "Fold # 4\n",
            "Fold # 5\n",
            "Validation time: 0.990 seconds\n",
            "Average training accuracy: 0.012\n",
            "================================================================================\n",
            "Validation: \n",
            "LabelPropagation(max_iter=2000)\n",
            "Fold # 1\n",
            "Fold # 2\n",
            "Fold # 3\n",
            "Fold # 4\n",
            "Fold # 5\n",
            "Validation time: 1.397 seconds\n",
            "Average training accuracy: 0.011\n",
            "================================================================================\n",
            "Validation: \n",
            "LabelPropagation(max_iter=2000)\n",
            "Fold # 1\n",
            "Fold # 2\n",
            "Fold # 3\n",
            "Fold # 4\n",
            "Fold # 5\n",
            "Validation time: 2.053 seconds\n",
            "Average training accuracy: 0.013\n",
            "================================================================================\n",
            "Validation: \n",
            "LabelPropagation(max_iter=2000)\n",
            "Fold # 1\n",
            "Fold # 2\n",
            "Fold # 3\n",
            "Fold # 4\n",
            "Fold # 5\n",
            "Validation time: 11.934 seconds\n",
            "Average training accuracy: 0.012\n",
            "================================================================================\n",
            "Validation: \n",
            "LabelPropagation(max_iter=2000)\n",
            "Fold # 1\n",
            "Fold # 2\n",
            "Fold # 3\n",
            "Fold # 4\n",
            "Fold # 5\n",
            "Validation time: 19.031 seconds\n",
            "Average training accuracy: 0.011\n",
            "================================================================================\n",
            "Validation: \n",
            "LabelPropagation(max_iter=2000)\n",
            "Fold # 1\n",
            "Fold # 2\n",
            "Fold # 3\n",
            "Fold # 4\n",
            "Fold # 5\n",
            "Validation time: 28.527 seconds\n",
            "Average training accuracy: 0.011\n",
            "================================================================================\n",
            "Validation: \n",
            "LabelPropagation(max_iter=2000)\n",
            "Fold # 1\n",
            "Fold # 2\n",
            "Fold # 3\n",
            "Fold # 4\n",
            "Fold # 5\n",
            "Validation time: 37.959 seconds\n",
            "Average training accuracy: 0.013\n",
            "================================================================================\n",
            "Validation: \n",
            "LabelPropagation(max_iter=2000)\n",
            "Fold # 1\n",
            "Fold # 2\n",
            "Fold # 3\n",
            "Fold # 4\n",
            "Fold # 5\n",
            "Validation time: 62.798 seconds\n",
            "Average training accuracy: 0.014\n",
            "================================================================================\n",
            "Validation: \n",
            "LabelPropagation(max_iter=2000)\n",
            "Fold # 1\n",
            "Fold # 2\n",
            "Fold # 3\n",
            "Fold # 4\n",
            "Fold # 5\n",
            "Validation time: 79.627 seconds\n",
            "Average training accuracy: 0.013\n"
          ],
          "name": "stdout"
        }
      ]
    }
  ]
}